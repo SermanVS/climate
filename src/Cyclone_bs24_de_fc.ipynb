{
 "cells": [
  {
   "cell_type": "code",
   "execution_count": 1,
   "id": "70e0c2f0",
   "metadata": {
    "execution": {
     "iopub.execute_input": "2022-10-14T09:41:16.516681Z",
     "iopub.status.busy": "2022-10-14T09:41:16.515680Z",
     "iopub.status.idle": "2022-10-14T09:41:19.043766Z",
     "shell.execute_reply": "2022-10-14T09:41:19.043766Z"
    }
   },
   "outputs": [],
   "source": [
    "import numpy as np\n",
    "import pandas as pd\n",
    "import matplotlib.pyplot as plt\n",
    "%matplotlib inline\n",
    "import torch\n",
    "import torch.nn as nn\n",
    "from torch import optim\n",
    "from sklearn.utils import class_weight\n",
    "from scipy.stats import *\n",
    "from torch.autograd import Variable\n",
    "from tqdm.notebook import tqdm\n",
    "\n",
    "from save_data import save_data\n",
    "from sigma import sigma\n",
    "from get_test_stats import get_test_stats\n",
    "from size_out import *\n",
    "from test import test\n",
    "from train import train\n",
    "from parameters import *\n",
    "from read_data import read_data\n",
    "from preproc_data import *\n",
    "from label_data import label_data\n",
    "from split_data import split_data\n",
    "from detection import *\n",
    "\n",
    "%load_ext autoreload\n",
    "%autoreload 2"
   ]
  },
  {
   "cell_type": "code",
   "execution_count": 2,
   "id": "3af38069",
   "metadata": {
    "execution": {
     "iopub.execute_input": "2022-10-14T09:41:19.046769Z",
     "iopub.status.busy": "2022-10-14T09:41:19.046769Z",
     "iopub.status.idle": "2022-10-14T09:41:34.205229Z",
     "shell.execute_reply": "2022-10-14T09:41:34.205229Z"
    }
   },
   "outputs": [],
   "source": [
    "cyclone_events, data = read_data(path='../data')\n",
    "# Consider renaming first variable\n",
    "cyclone_events_data, data, metrics = preproc_data(cyclone_events, metrics=data)\n",
    "labels, events = label_data(cyclone_events_data.ce2)\n",
    "train_data, test_data, labels_train, labels_test, train_id, test_id = split_data(data, labels, ratio=0.8)"
   ]
  },
  {
   "cell_type": "code",
   "execution_count": 3,
   "id": "edc2ae01",
   "metadata": {
    "execution": {
     "iopub.execute_input": "2022-10-14T09:41:34.208233Z",
     "iopub.status.busy": "2022-10-14T09:41:34.208233Z",
     "iopub.status.idle": "2022-10-14T09:41:34.380388Z",
     "shell.execute_reply": "2022-10-14T09:41:34.380388Z"
    }
   },
   "outputs": [],
   "source": [
    "desc = \"#8 but inrodcued a fully connected layer instead of sum, removed c parameter\"\n",
    "filename = \"Cyclone_bs24_de_fc.ipynb\"\n",
    "network_name = filename.split('.')[0]\n",
    "comment = \"\""
   ]
  },
  {
   "cell_type": "code",
   "execution_count": 4,
   "id": "944ee5cd",
   "metadata": {
    "execution": {
     "iopub.execute_input": "2022-10-14T09:41:34.383392Z",
     "iopub.status.busy": "2022-10-14T09:41:34.383392Z",
     "iopub.status.idle": "2022-10-14T09:41:34.556519Z",
     "shell.execute_reply": "2022-10-14T09:41:34.556519Z"
    }
   },
   "outputs": [],
   "source": [
    "class MyLayer1(nn.Module):\n",
    "    \n",
    "    def __init__(self, d, e):\n",
    "        super().__init__()  \n",
    "        self.d = d\n",
    "        self.e = e\n",
    "        \n",
    "    def forward(self, x):\n",
    "        # x * d\n",
    "        x = torch.mul(x, self.d)\n",
    "        # x * d - e\n",
    "        x = torch.sub(x, self.e)\n",
    "        return x\n",
    "\n",
    "class SimpleNN(nn.Module):\n",
    "    def __init__(self, d, e):\n",
    "        super(SimpleNN, self).__init__()\n",
    "        self.d = nn.Parameter(d, requires_grad=True)  \n",
    "        self.e = nn.Parameter(e, requires_grad=True)\n",
    "        \n",
    "        self.maxpool = nn.MaxPool2d(kernel_size=2, stride=2)\n",
    "        self.layer1 = MyLayer1(self.d, self.e)\n",
    "        self.sigmoid = nn.Sigmoid()\n",
    "\n",
    "        new_w = maxpool2d_size_out(size=36, kernel_size=2, stride=2)\n",
    "        new_h = maxpool2d_size_out(size=69, kernel_size=2, stride=2)\n",
    "        linear_input_size = new_w * new_h\n",
    "        self.fc_layer = nn.Sequential(\n",
    "            nn.Linear(in_features=linear_input_size, out_features=1),\n",
    "        )\n",
    "        \n",
    "    \n",
    "    def forward(self, x):\n",
    "        x = self.maxpool(x)\n",
    "        x = self.layer1(x)\n",
    "        x = self.sigmoid(x)\n",
    "        x = x.view(-1, np.prod(x.size()[2:]))\n",
    "        x = self.fc_layer(x)\n",
    "        x = x.view(-1)\n",
    "        return x"
   ]
  },
  {
   "cell_type": "markdown",
   "id": "4d2c95c8",
   "metadata": {},
   "source": [
    "$$\\sigma(FC(\\sigma(d * x - e)) - c)$$"
   ]
  },
  {
   "cell_type": "code",
   "execution_count": 5,
   "id": "d6a6ce0b",
   "metadata": {
    "execution": {
     "iopub.execute_input": "2022-10-14T09:41:34.559521Z",
     "iopub.status.busy": "2022-10-14T09:41:34.559521Z",
     "iopub.status.idle": "2022-10-14T09:41:34.954880Z",
     "shell.execute_reply": "2022-10-14T09:41:34.954880Z"
    }
   },
   "outputs": [
    {
     "name": "stdout",
     "output_type": "stream",
     "text": [
      "tensor([ 0.5117, 21.8943], dtype=torch.float64)\n"
     ]
    }
   ],
   "source": [
    "num_epochs = 40\n",
    "batch_size = 24\n",
    "\n",
    "d = torch.empty(size=(), dtype=torch.float)\n",
    "e = torch.empty(size=(), dtype=torch.float)\n",
    "\n",
    "nn.init.constant_(d, val=25)\n",
    "nn.init.constant_(e, val=50)\n",
    "\n",
    "cnn = SimpleNN(d, e)\n",
    "\n",
    "y = torch.tensor(list(labels_train))\n",
    "class_weights=class_weight.compute_class_weight(class_weight='balanced', classes=np.unique(y), y=y.numpy())\n",
    "class_weights=torch.tensor(class_weights, dtype=torch.double)\n",
    "print(class_weights)\n",
    "loss_func = nn.BCEWithLogitsLoss(pos_weight=class_weights[1]/class_weights[0], reduction='mean') \n",
    "optimizer = optim.Adam(cnn.parameters(), lr = 0.001)  "
   ]
  },
  {
   "cell_type": "code",
   "execution_count": 6,
   "id": "9b3809c7",
   "metadata": {
    "execution": {
     "iopub.execute_input": "2022-10-14T09:41:34.957883Z",
     "iopub.status.busy": "2022-10-14T09:41:34.957883Z",
     "iopub.status.idle": "2022-10-14T09:41:35.131041Z",
     "shell.execute_reply": "2022-10-14T09:41:35.131041Z"
    }
   },
   "outputs": [],
   "source": [
    "hyperparameters = (batch_size, d.item(), e.item())"
   ]
  },
  {
   "cell_type": "code",
   "execution_count": 7,
   "id": "02352553",
   "metadata": {
    "execution": {
     "iopub.execute_input": "2022-10-14T09:41:35.134044Z",
     "iopub.status.busy": "2022-10-14T09:41:35.133042Z",
     "iopub.status.idle": "2022-10-14T09:55:41.088382Z",
     "shell.execute_reply": "2022-10-14T09:55:41.088382Z"
    }
   },
   "outputs": [
    {
     "data": {
      "image/png": "[encoded data removed]",
      "text/plain": [
       "<Figure size 1296x864 with 6 Axes>"
      ]
     },
     "metadata": {
      "needs_background": "light"
     },
     "output_type": "display_data"
    }
   ],
   "source": [
    "auc_test, auc_train = train(cnn, batch_size, num_epochs, train_data, labels_train, loss_func, optimizer, (test_data, labels_test), draw=False, step_test=True, )"
   ]
  },
  {
   "cell_type": "code",
   "execution_count": 8,
   "id": "80fee7f9",
   "metadata": {
    "execution": {
     "iopub.execute_input": "2022-10-14T09:55:41.090385Z",
     "iopub.status.busy": "2022-10-14T09:55:41.090385Z",
     "iopub.status.idle": "2022-10-14T09:55:59.740799Z",
     "shell.execute_reply": "2022-10-14T09:55:59.740799Z"
    }
   },
   "outputs": [],
   "source": [
    "resulting_hyperparameters = [(param.data.item() if name != 'fc_layer.0.weight' else torch.mean(param.data).item()) for name, param in cnn.named_parameters()]\n",
    "\n",
    "tp_test, tn_test, fp_test, fn_test, sigmas, results_test = test(cnn, test_data, labels_test)\n",
    "test_stats = get_test_stats(test_data.shape[2], tp_test, tn_test, fp_test, fn_test, sigmas, print_res=False)\n",
    "\n",
    "tp_train, tn_train, fp_train, fn_train, sigmas, results_train = test(cnn, train_data, labels_train)\n",
    "train_stats = get_test_stats(train_data.shape[2], tp_train, tn_train, fp_train, fn_train, sigmas, print_res=False)\n",
    "\n",
    "trains_stat_vals = list(vars(train_stats).values())\n",
    "test_stat_vals = list(vars(test_stats).values())\n",
    "\n",
    "export_stats = [(item_train, item_test) for (item_train, item_test) in zip(trains_stat_vals, test_stat_vals)]\n",
    "network_params = NetworkParams(network_name, desc, filename, hyperparameters, resulting_hyperparameters, export_stats, auc_train, auc_test, comment)\n",
    "network_params.save()\n",
    "\n",
    "display_data = DisplayData(test_stats.conf_matrix, train_stats.conf_matrix)"
   ]
  },
  {
   "cell_type": "code",
   "execution_count": 9,
   "id": "75992fe6",
   "metadata": {
    "execution": {
     "iopub.execute_input": "2022-10-14T09:55:59.743802Z",
     "iopub.status.busy": "2022-10-14T09:55:59.743802Z",
     "iopub.status.idle": "2022-10-14T09:56:10.077774Z",
     "shell.execute_reply": "2022-10-14T09:56:10.077774Z"
    }
   },
   "outputs": [],
   "source": [
    "image_data_mx, image_data_int = map_ids_to_color(train_id, test_id, results_train, results_test)\n",
    "marked_events = map_events_to_color(events, train_id, test_id, results_train, results_test)\n",
    "draw_colormesh_by_tick(image_data_mx, save=True, filename=network_name, display_data=display_data)\n",
    "draw_colormesh_by_event(marked_events, save=True, filename=network_name, display_data=display_data)"
   ]
  },
  {
   "cell_type": "code",
   "execution_count": null,
   "id": "66069978",
   "metadata": {},
   "outputs": [],
   "source": []
  }
 ],
 "metadata": {
  "kernelspec": {
   "display_name": "Python 3.8.13 ('mlunn2')",
   "language": "python",
   "name": "python3"
  },
  "language_info": {
   "codemirror_mode": {
    "name": "ipython",
    "version": 3
   },
   "file_extension": ".py",
   "mimetype": "text/x-python",
   "name": "python",
   "nbconvert_exporter": "python",
   "pygments_lexer": "ipython3",
   "version": "3.8.13"
  },
  "vscode": {
   "interpreter": {
    "hash": "7906f88924d0acbcc878920ce9dbcc77a020e1b0135b8245f9ac081820afa623"
   }
  },
  "widgets": {
   "application/vnd.jupyter.widget-state+json": {
    "state": {
     "1005bb2939ad47fbb0c291070acd8eb4": {
      "model_module": "@jupyter-widgets/base",
      "model_module_version": "1.2.0",
      "model_name": "LayoutModel",
      "state": {
       "_model_module": "@jupyter-widgets/base",
       "_model_module_version": "1.2.0",
       "_model_name": "LayoutModel",
       "_view_count": null,
       "_view_module": "@jupyter-widgets/base",
       "_view_module_version": "1.2.0",
       "_view_name": "LayoutView",
       "align_content": null,
       "align_items": null,
       "align_self": null,
       "border": null,
       "bottom": null,
       "display": null,
       "flex": null,
       "flex_flow": null,
       "grid_area": null,
       "grid_auto_columns": null,
       "grid_auto_flow": null,
       "grid_auto_rows": null,
       "grid_column": null,
       "grid_gap": null,
       "grid_row": null,
       "grid_template_areas": null,
       "grid_template_columns": null,
       "grid_template_rows": null,
       "height": null,
       "justify_content": null,
       "justify_items": null,
       "left": null,
       "margin": null,
       "max_height": null,
       "max_width": null,
       "min_height": null,
       "min_width": null,
       "object_fit": null,
       "object_position": null,
       "order": null,
       "overflow": null,
       "overflow_x": null,
       "overflow_y": null,
       "padding": null,
       "right": null,
       "top": null,
       "visibility": null,
       "width": null
      }
     },
     "1220600b33894377b2aa08bce4b81f8c": {
      "model_module": "@jupyter-widgets/controls",
      "model_module_version": "1.5.0",
      "model_name": "HTMLModel",
      "state": {
       "_dom_classes": [],
       "_model_module": "@jupyter-widgets/controls",
       "_model_module_version": "1.5.0",
       "_model_name": "HTMLModel",
       "_view_count": null,
       "_view_module": "@jupyter-widgets/controls",
       "_view_module_version": "1.5.0",
       "_view_name": "HTMLView",
       "description": "",
       "description_tooltip": null,
       "layout": "IPY_MODEL_2eb4824fabb6415d8078f2e8b4493c61",
       "placeholder": "​",
       "style": "IPY_MODEL_8e64202cf67d4264a31a86304d46bf9a",
       "value": "100%"
      }
     },
     "274dd2c3a9884e34a930b317d91948db": {
      "model_module": "@jupyter-widgets/base",
      "model_module_version": "1.2.0",
      "model_name": "LayoutModel",
      "state": {
       "_model_module": "@jupyter-widgets/base",
       "_model_module_version": "1.2.0",
       "_model_name": "LayoutModel",
       "_view_count": null,
       "_view_module": "@jupyter-widgets/base",
       "_view_module_version": "1.2.0",
       "_view_name": "LayoutView",
       "align_content": null,
       "align_items": null,
       "align_self": null,
       "border": null,
       "bottom": null,
       "display": null,
       "flex": null,
       "flex_flow": null,
       "grid_area": null,
       "grid_auto_columns": null,
       "grid_auto_flow": null,
       "grid_auto_rows": null,
       "grid_column": null,
       "grid_gap": null,
       "grid_row": null,
       "grid_template_areas": null,
       "grid_template_columns": null,
       "grid_template_rows": null,
       "height": null,
       "justify_content": null,
       "justify_items": null,
       "left": null,
       "margin": null,
       "max_height": null,
       "max_width": null,
       "min_height": null,
       "min_width": null,
       "object_fit": null,
       "object_position": null,
       "order": null,
       "overflow": null,
       "overflow_x": null,
       "overflow_y": null,
       "padding": null,
       "right": null,
       "top": null,
       "visibility": null,
       "width": null
      }
     },
     "2eb4824fabb6415d8078f2e8b4493c61": {
      "model_module": "@jupyter-widgets/base",
      "model_module_version": "1.2.0",
      "model_name": "LayoutModel",
      "state": {
       "_model_module": "@jupyter-widgets/base",
       "_model_module_version": "1.2.0",
       "_model_name": "LayoutModel",
       "_view_count": null,
       "_view_module": "@jupyter-widgets/base",
       "_view_module_version": "1.2.0",
       "_view_name": "LayoutView",
       "align_content": null,
       "align_items": null,
       "align_self": null,
       "border": null,
       "bottom": null,
       "display": null,
       "flex": null,
       "flex_flow": null,
       "grid_area": null,
       "grid_auto_columns": null,
       "grid_auto_flow": null,
       "grid_auto_rows": null,
       "grid_column": null,
       "grid_gap": null,
       "grid_row": null,
       "grid_template_areas": null,
       "grid_template_columns": null,
       "grid_template_rows": null,
       "height": null,
       "justify_content": null,
       "justify_items": null,
       "left": null,
       "margin": null,
       "max_height": null,
       "max_width": null,
       "min_height": null,
       "min_width": null,
       "object_fit": null,
       "object_position": null,
       "order": null,
       "overflow": null,
       "overflow_x": null,
       "overflow_y": null,
       "padding": null,
       "right": null,
       "top": null,
       "visibility": null,
       "width": null
      }
     },
     "3bb205c16cf34fc2b36c855291834846": {
      "model_module": "@jupyter-widgets/base",
      "model_module_version": "1.2.0",
      "model_name": "LayoutModel",
      "state": {
       "_model_module": "@jupyter-widgets/base",
       "_model_module_version": "1.2.0",
       "_model_name": "LayoutModel",
       "_view_count": null,
       "_view_module": "@jupyter-widgets/base",
       "_view_module_version": "1.2.0",
       "_view_name": "LayoutView",
       "align_content": null,
       "align_items": null,
       "align_self": null,
       "border": null,
       "bottom": null,
       "display": null,
       "flex": null,
       "flex_flow": null,
       "grid_area": null,
       "grid_auto_columns": null,
       "grid_auto_flow": null,
       "grid_auto_rows": null,
       "grid_column": null,
       "grid_gap": null,
       "grid_row": null,
       "grid_template_areas": null,
       "grid_template_columns": null,
       "grid_template_rows": null,
       "height": null,
       "justify_content": null,
       "justify_items": null,
       "left": null,
       "margin": null,
       "max_height": null,
       "max_width": null,
       "min_height": null,
       "min_width": null,
       "object_fit": null,
       "object_position": null,
       "order": null,
       "overflow": null,
       "overflow_x": null,
       "overflow_y": null,
       "padding": null,
       "right": null,
       "top": null,
       "visibility": null,
       "width": null
      }
     },
     "3dd10e984f344fe2ad2125747e6e1dbd": {
      "model_module": "@jupyter-widgets/controls",
      "model_module_version": "1.5.0",
      "model_name": "ProgressStyleModel",
      "state": {
       "_model_module": "@jupyter-widgets/controls",
       "_model_module_version": "1.5.0",
       "_model_name": "ProgressStyleModel",
       "_view_count": null,
       "_view_module": "@jupyter-widgets/base",
       "_view_module_version": "1.2.0",
       "_view_name": "StyleView",
       "bar_color": null,
       "description_width": ""
      }
     },
     "8e64202cf67d4264a31a86304d46bf9a": {
      "model_module": "@jupyter-widgets/controls",
      "model_module_version": "1.5.0",
      "model_name": "DescriptionStyleModel",
      "state": {
       "_model_module": "@jupyter-widgets/controls",
       "_model_module_version": "1.5.0",
       "_model_name": "DescriptionStyleModel",
       "_view_count": null,
       "_view_module": "@jupyter-widgets/base",
       "_view_module_version": "1.2.0",
       "_view_name": "StyleView",
       "description_width": ""
      }
     },
     "91d015ccae7c4d9cab07d39cf8c20083": {
      "model_module": "@jupyter-widgets/controls",
      "model_module_version": "1.5.0",
      "model_name": "HBoxModel",
      "state": {
       "_dom_classes": [],
       "_model_module": "@jupyter-widgets/controls",
       "_model_module_version": "1.5.0",
       "_model_name": "HBoxModel",
       "_view_count": null,
       "_view_module": "@jupyter-widgets/controls",
       "_view_module_version": "1.5.0",
       "_view_name": "HBoxView",
       "box_style": "",
       "children": [
        "IPY_MODEL_1220600b33894377b2aa08bce4b81f8c",
        "IPY_MODEL_caba40a26912449fb0423a3156de316f",
        "IPY_MODEL_e0afe148720f4193a5e43a06506a822a"
       ],
       "layout": "IPY_MODEL_3bb205c16cf34fc2b36c855291834846"
      }
     },
     "b6856edbf8a44d529aaab54e20647fd0": {
      "model_module": "@jupyter-widgets/controls",
      "model_module_version": "1.5.0",
      "model_name": "DescriptionStyleModel",
      "state": {
       "_model_module": "@jupyter-widgets/controls",
       "_model_module_version": "1.5.0",
       "_model_name": "DescriptionStyleModel",
       "_view_count": null,
       "_view_module": "@jupyter-widgets/base",
       "_view_module_version": "1.2.0",
       "_view_name": "StyleView",
       "description_width": ""
      }
     },
     "caba40a26912449fb0423a3156de316f": {
      "model_module": "@jupyter-widgets/controls",
      "model_module_version": "1.5.0",
      "model_name": "FloatProgressModel",
      "state": {
       "_dom_classes": [],
       "_model_module": "@jupyter-widgets/controls",
       "_model_module_version": "1.5.0",
       "_model_name": "FloatProgressModel",
       "_view_count": null,
       "_view_module": "@jupyter-widgets/controls",
       "_view_module_version": "1.5.0",
       "_view_name": "ProgressView",
       "bar_style": "success",
       "description": "",
       "description_tooltip": null,
       "layout": "IPY_MODEL_274dd2c3a9884e34a930b317d91948db",
       "max": 40.0,
       "min": 0.0,
       "orientation": "horizontal",
       "style": "IPY_MODEL_3dd10e984f344fe2ad2125747e6e1dbd",
       "value": 40.0
      }
     },
     "e0afe148720f4193a5e43a06506a822a": {
      "model_module": "@jupyter-widgets/controls",
      "model_module_version": "1.5.0",
      "model_name": "HTMLModel",
      "state": {
       "_dom_classes": [],
       "_model_module": "@jupyter-widgets/controls",
       "_model_module_version": "1.5.0",
       "_model_name": "HTMLModel",
       "_view_count": null,
       "_view_module": "@jupyter-widgets/controls",
       "_view_module_version": "1.5.0",
       "_view_name": "HTMLView",
       "description": "",
       "description_tooltip": null,
       "layout": "IPY_MODEL_1005bb2939ad47fbb0c291070acd8eb4",
       "placeholder": "​",
       "style": "IPY_MODEL_b6856edbf8a44d529aaab54e20647fd0",
       "value": " 40/40 [14:05&lt;00:00, 21.94s/it]"
      }
     }
    },
    "version_major": 2,
    "version_minor": 0
   }
  }
 },
 "nbformat": 4,
 "nbformat_minor": 5
}
