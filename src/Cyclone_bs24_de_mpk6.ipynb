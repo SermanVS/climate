{
 "cells": [
  {
   "cell_type": "code",
   "execution_count": 1,
   "id": "70e0c2f0",
   "metadata": {
    "execution": {
     "iopub.execute_input": "2022-10-14T10:35:01.464085Z",
     "iopub.status.busy": "2022-10-14T10:35:01.464085Z",
     "iopub.status.idle": "2022-10-14T10:35:03.920313Z",
     "shell.execute_reply": "2022-10-14T10:35:03.920313Z"
    }
   },
   "outputs": [],
   "source": [
    "import numpy as np\n",
    "import pandas as pd\n",
    "import matplotlib.pyplot as plt\n",
    "%matplotlib inline\n",
    "import torch\n",
    "import torch.nn as nn\n",
    "from torch import optim\n",
    "from sklearn.utils import class_weight\n",
    "from scipy.stats import *\n",
    "from torch.autograd import Variable\n",
    "from tqdm.notebook import tqdm\n",
    "\n",
    "from save_data import save_data\n",
    "from sigma import sigma\n",
    "from get_test_stats import get_test_stats\n",
    "from size_out import *\n",
    "from test import test\n",
    "from train import train\n",
    "from parameters import *\n",
    "from read_data import read_data\n",
    "from preproc_data import *\n",
    "from label_data import label_data\n",
    "from split_data import split_data\n",
    "from detection import *\n",
    "\n",
    "%load_ext autoreload\n",
    "%autoreload 2"
   ]
  },
  {
   "cell_type": "code",
   "execution_count": 2,
   "id": "3af38069",
   "metadata": {
    "execution": {
     "iopub.execute_input": "2022-10-14T10:35:03.923316Z",
     "iopub.status.busy": "2022-10-14T10:35:03.922315Z",
     "iopub.status.idle": "2022-10-14T10:35:18.778818Z",
     "shell.execute_reply": "2022-10-14T10:35:18.778818Z"
    }
   },
   "outputs": [],
   "source": [
    "cyclone_events, data = read_data(path='../data')\n",
    "# Consider renaming first variable\n",
    "cyclone_events_data, data, metrics = preproc_data(cyclone_events, metrics=data)\n",
    "labels, events = label_data(cyclone_events_data.ce2)\n",
    "train_data, test_data, labels_train, labels_test, train_id, test_id = split_data(data, labels, ratio=0.8)"
   ]
  },
  {
   "cell_type": "code",
   "execution_count": 3,
   "id": "9082751d",
   "metadata": {
    "execution": {
     "iopub.execute_input": "2022-10-14T10:35:18.781821Z",
     "iopub.status.busy": "2022-10-14T10:35:18.780820Z",
     "iopub.status.idle": "2022-10-14T10:35:18.951976Z",
     "shell.execute_reply": "2022-10-14T10:35:18.951976Z"
    }
   },
   "outputs": [],
   "source": [
    "desc = \"#8 but with maxpooling kernel  = 6\"\n",
    "filename = \"Cyclone_bs24_de_mpk6.ipynb\"\n",
    "network_name = filename.split('.')[0]\n",
    "comment = \"Loss around 30.\""
   ]
  },
  {
   "cell_type": "code",
   "execution_count": 4,
   "id": "944ee5cd",
   "metadata": {
    "execution": {
     "iopub.execute_input": "2022-10-14T10:35:18.954978Z",
     "iopub.status.busy": "2022-10-14T10:35:18.954978Z",
     "iopub.status.idle": "2022-10-14T10:35:19.127136Z",
     "shell.execute_reply": "2022-10-14T10:35:19.127136Z"
    }
   },
   "outputs": [],
   "source": [
    "class MyLayer1(nn.Module):\n",
    "    \n",
    "    def __init__(self, d, e):\n",
    "        super().__init__()  \n",
    "        self.d = d\n",
    "        self.e = e\n",
    "        \n",
    "    def forward(self, x):\n",
    "        # x * d\n",
    "        x = torch.mul(x, self.d)\n",
    "        # x * d - e\n",
    "        x = torch.sub(x, self.e)\n",
    "        return x\n",
    "\n",
    "class MyLayer2(nn.Module):\n",
    "    def __init__(self, c):\n",
    "        super().__init__()\n",
    "        self.c = c\n",
    "        \n",
    "    def forward(self, x):\n",
    "        x = torch.sum(x, dim=(2, 3))\n",
    "        x = x.reshape(x.shape[0])\n",
    "        x = torch.sub(x, self.c)\n",
    "        return x\n",
    "\n",
    "class SimpleNN(nn.Module):\n",
    "    def __init__(self, d, e, c):\n",
    "        super(SimpleNN, self).__init__()\n",
    "        self.d = nn.Parameter(d, requires_grad=True)  \n",
    "        self.e = nn.Parameter(e, requires_grad=True)\n",
    "        self.c = nn.Parameter(c, requires_grad=True)\n",
    "        \n",
    "        self.maxpool = nn.MaxPool2d(kernel_size=6, stride=6)\n",
    "        self.layer1 = MyLayer1(self.d, self.e)\n",
    "        self.sigmoid = nn.Sigmoid()\n",
    "        self.layer2 = MyLayer2(self.c)\n",
    "        \n",
    "    \n",
    "    def forward(self, x):\n",
    "        x = self.maxpool(x)\n",
    "        x = self.layer1(x)\n",
    "        x = self.sigmoid(x)\n",
    "        x = self.layer2(x)\n",
    "        return x"
   ]
  },
  {
   "cell_type": "markdown",
   "id": "a68a8f33",
   "metadata": {},
   "source": [
    "$$\\sigma(\\sum(\\sigma(d * x - e)) - c)$$"
   ]
  },
  {
   "cell_type": "code",
   "execution_count": 5,
   "id": "d6a6ce0b",
   "metadata": {
    "execution": {
     "iopub.execute_input": "2022-10-14T10:35:19.130139Z",
     "iopub.status.busy": "2022-10-14T10:35:19.129138Z",
     "iopub.status.idle": "2022-10-14T10:35:19.522495Z",
     "shell.execute_reply": "2022-10-14T10:35:19.522495Z"
    }
   },
   "outputs": [
    {
     "name": "stdout",
     "output_type": "stream",
     "text": [
      "tensor([ 0.5117, 21.8943], dtype=torch.float64)\n"
     ]
    }
   ],
   "source": [
    "num_epochs = 10\n",
    "batch_size = 24\n",
    "\n",
    "d = torch.empty(size=(), dtype=torch.float)\n",
    "e = torch.empty(size=(), dtype=torch.float)\n",
    "c = torch.empty(size=(), dtype=torch.float)\n",
    "\n",
    "nn.init.constant_(d, val=25)\n",
    "nn.init.constant_(e, val=50)\n",
    "nn.init.constant_(c, val=2)\n",
    "\n",
    "cnn = SimpleNN(d, e, c)\n",
    "\n",
    "y = torch.tensor(list(labels_train))\n",
    "class_weights=class_weight.compute_class_weight(class_weight='balanced', classes=np.unique(y), y=y.numpy())\n",
    "class_weights=torch.tensor(class_weights, dtype=torch.double)\n",
    "print(class_weights)\n",
    "loss_func = nn.BCEWithLogitsLoss(pos_weight=class_weights[1]/class_weights[0], reduction='mean') \n",
    "optimizer = optim.Adam(cnn.parameters(), lr = 0.0001)  "
   ]
  },
  {
   "cell_type": "code",
   "execution_count": 6,
   "id": "5c8c6f8c",
   "metadata": {
    "execution": {
     "iopub.execute_input": "2022-10-14T10:35:19.524497Z",
     "iopub.status.busy": "2022-10-14T10:35:19.524497Z",
     "iopub.status.idle": "2022-10-14T10:35:19.696654Z",
     "shell.execute_reply": "2022-10-14T10:35:19.696654Z"
    }
   },
   "outputs": [],
   "source": [
    "hyperparameters = (batch_size, d.item(), e.item(), c.item())"
   ]
  },
  {
   "cell_type": "code",
   "execution_count": 7,
   "id": "02352553",
   "metadata": {
    "execution": {
     "iopub.execute_input": "2022-10-14T10:35:19.699656Z",
     "iopub.status.busy": "2022-10-14T10:35:19.699656Z",
     "iopub.status.idle": "2022-10-14T10:38:05.806369Z",
     "shell.execute_reply": "2022-10-14T10:38:05.806369Z"
    }
   },
   "outputs": [
    {
     "data": {
      "image/png": "[encoded data removed]",
      "text/plain": [
       "<Figure size 1296x864 with 6 Axes>"
      ]
     },
     "metadata": {
      "needs_background": "light"
     },
     "output_type": "display_data"
    }
   ],
   "source": [
    "auc_test, auc_train = train(cnn, batch_size, num_epochs, train_data, labels_train, loss_func, optimizer, (test_data, labels_test), draw=False, step_test=True, )"
   ]
  },
  {
   "cell_type": "code",
   "execution_count": 8,
   "id": "b61ad9a0",
   "metadata": {
    "execution": {
     "iopub.execute_input": "2022-10-14T10:38:05.810373Z",
     "iopub.status.busy": "2022-10-14T10:38:05.809372Z",
     "iopub.status.idle": "2022-10-14T10:38:19.437161Z",
     "shell.execute_reply": "2022-10-14T10:38:19.437161Z"
    }
   },
   "outputs": [],
   "source": [
    "resulting_hyperparameters = [param.data.item() for name, param in cnn.named_parameters()]\n",
    "\n",
    "tp_test, tn_test, fp_test, fn_test, sigmas, results_test = test(cnn, test_data, labels_test)\n",
    "test_stats = get_test_stats(test_data.shape[2], tp_test, tn_test, fp_test, fn_test, sigmas, print_res=False)\n",
    "\n",
    "tp_train, tn_train, fp_train, fn_train, sigmas, results_train = test(cnn, train_data, labels_train)\n",
    "train_stats = get_test_stats(train_data.shape[2], tp_train, tn_train, fp_train, fn_train, sigmas, print_res=False)\n",
    "\n",
    "trains_stat_vals = list(vars(train_stats).values())\n",
    "test_stat_vals = list(vars(test_stats).values())\n",
    "\n",
    "export_stats = [(item_train, item_test) for (item_train, item_test) in zip(trains_stat_vals, test_stat_vals)]\n",
    "network_params = NetworkParams(network_name, desc, filename, hyperparameters, resulting_hyperparameters, export_stats, auc_train, auc_test, comment)\n",
    "network_params.save()\n",
    "\n",
    "display_data = DisplayData(test_stats.conf_matrix, train_stats.conf_matrix)"
   ]
  },
  {
   "cell_type": "code",
   "execution_count": 9,
   "id": "f6f0fd79",
   "metadata": {
    "execution": {
     "iopub.execute_input": "2022-10-14T10:38:19.440164Z",
     "iopub.status.busy": "2022-10-14T10:38:19.440164Z",
     "iopub.status.idle": "2022-10-14T10:38:30.519601Z",
     "shell.execute_reply": "2022-10-14T10:38:30.519601Z"
    }
   },
   "outputs": [],
   "source": [
    "image_data_mx, image_data_int = map_ids_to_color(train_id, test_id, results_train, results_test)\n",
    "marked_events = map_events_to_color(events, train_id, test_id, results_train, results_test)\n",
    "draw_colormesh_by_tick(image_data_mx, save=True, filename=network_name, display_data=display_data)\n",
    "draw_colormesh_by_event(marked_events, save=True, filename=network_name, display_data=display_data)"
   ]
  },
  {
   "cell_type": "code",
   "execution_count": null,
   "id": "16408bdd",
   "metadata": {},
   "outputs": [],
   "source": []
  }
 ],
 "metadata": {
  "kernelspec": {
   "display_name": "Python 3.8.13 ('mlunn2')",
   "language": "python",
   "name": "python3"
  },
  "language_info": {
   "codemirror_mode": {
    "name": "ipython",
    "version": 3
   },
   "file_extension": ".py",
   "mimetype": "text/x-python",
   "name": "python",
   "nbconvert_exporter": "python",
   "pygments_lexer": "ipython3",
   "version": "3.8.13"
  },
  "vscode": {
   "interpreter": {
    "hash": "7906f88924d0acbcc878920ce9dbcc77a020e1b0135b8245f9ac081820afa623"
   }
  },
  "widgets": {
   "application/vnd.jupyter.widget-state+json": {
    "state": {
     "03095cac96564d5a9831b865476f947e": {
      "model_module": "@jupyter-widgets/controls",
      "model_module_version": "1.5.0",
      "model_name": "FloatProgressModel",
      "state": {
       "_dom_classes": [],
       "_model_module": "@jupyter-widgets/controls",
       "_model_module_version": "1.5.0",
       "_model_name": "FloatProgressModel",
       "_view_count": null,
       "_view_module": "@jupyter-widgets/controls",
       "_view_module_version": "1.5.0",
       "_view_name": "ProgressView",
       "bar_style": "success",
       "description": "",
       "description_tooltip": null,
       "layout": "IPY_MODEL_e8e51c7b30fa40339874ef972dbca1b2",
       "max": 10.0,
       "min": 0.0,
       "orientation": "horizontal",
       "style": "IPY_MODEL_85f231f89cb1441fa8aee6ba77bf59af",
       "value": 10.0
      }
     },
     "164fbd14fcc34334935e152aae841012": {
      "model_module": "@jupyter-widgets/base",
      "model_module_version": "1.2.0",
      "model_name": "LayoutModel",
      "state": {
       "_model_module": "@jupyter-widgets/base",
       "_model_module_version": "1.2.0",
       "_model_name": "LayoutModel",
       "_view_count": null,
       "_view_module": "@jupyter-widgets/base",
       "_view_module_version": "1.2.0",
       "_view_name": "LayoutView",
       "align_content": null,
       "align_items": null,
       "align_self": null,
       "border": null,
       "bottom": null,
       "display": null,
       "flex": null,
       "flex_flow": null,
       "grid_area": null,
       "grid_auto_columns": null,
       "grid_auto_flow": null,
       "grid_auto_rows": null,
       "grid_column": null,
       "grid_gap": null,
       "grid_row": null,
       "grid_template_areas": null,
       "grid_template_columns": null,
       "grid_template_rows": null,
       "height": null,
       "justify_content": null,
       "justify_items": null,
       "left": null,
       "margin": null,
       "max_height": null,
       "max_width": null,
       "min_height": null,
       "min_width": null,
       "object_fit": null,
       "object_position": null,
       "order": null,
       "overflow": null,
       "overflow_x": null,
       "overflow_y": null,
       "padding": null,
       "right": null,
       "top": null,
       "visibility": null,
       "width": null
      }
     },
     "1d1debe749d9425da836403c8627ed27": {
      "model_module": "@jupyter-widgets/base",
      "model_module_version": "1.2.0",
      "model_name": "LayoutModel",
      "state": {
       "_model_module": "@jupyter-widgets/base",
       "_model_module_version": "1.2.0",
       "_model_name": "LayoutModel",
       "_view_count": null,
       "_view_module": "@jupyter-widgets/base",
       "_view_module_version": "1.2.0",
       "_view_name": "LayoutView",
       "align_content": null,
       "align_items": null,
       "align_self": null,
       "border": null,
       "bottom": null,
       "display": null,
       "flex": null,
       "flex_flow": null,
       "grid_area": null,
       "grid_auto_columns": null,
       "grid_auto_flow": null,
       "grid_auto_rows": null,
       "grid_column": null,
       "grid_gap": null,
       "grid_row": null,
       "grid_template_areas": null,
       "grid_template_columns": null,
       "grid_template_rows": null,
       "height": null,
       "justify_content": null,
       "justify_items": null,
       "left": null,
       "margin": null,
       "max_height": null,
       "max_width": null,
       "min_height": null,
       "min_width": null,
       "object_fit": null,
       "object_position": null,
       "order": null,
       "overflow": null,
       "overflow_x": null,
       "overflow_y": null,
       "padding": null,
       "right": null,
       "top": null,
       "visibility": null,
       "width": null
      }
     },
     "6309fa984863449ba6e82ffa2713234f": {
      "model_module": "@jupyter-widgets/controls",
      "model_module_version": "1.5.0",
      "model_name": "HBoxModel",
      "state": {
       "_dom_classes": [],
       "_model_module": "@jupyter-widgets/controls",
       "_model_module_version": "1.5.0",
       "_model_name": "HBoxModel",
       "_view_count": null,
       "_view_module": "@jupyter-widgets/controls",
       "_view_module_version": "1.5.0",
       "_view_name": "HBoxView",
       "box_style": "",
       "children": [
        "IPY_MODEL_e6fb297bfd2b49d69c0be2dcb0867843",
        "IPY_MODEL_03095cac96564d5a9831b865476f947e",
        "IPY_MODEL_801c3102863c43c2bd1ef9da04078266"
       ],
       "layout": "IPY_MODEL_1d1debe749d9425da836403c8627ed27"
      }
     },
     "801c3102863c43c2bd1ef9da04078266": {
      "model_module": "@jupyter-widgets/controls",
      "model_module_version": "1.5.0",
      "model_name": "HTMLModel",
      "state": {
       "_dom_classes": [],
       "_model_module": "@jupyter-widgets/controls",
       "_model_module_version": "1.5.0",
       "_model_name": "HTMLModel",
       "_view_count": null,
       "_view_module": "@jupyter-widgets/controls",
       "_view_module_version": "1.5.0",
       "_view_name": "HTMLView",
       "description": "",
       "description_tooltip": null,
       "layout": "IPY_MODEL_164fbd14fcc34334935e152aae841012",
       "placeholder": "​",
       "style": "IPY_MODEL_9b60163e2c594dce8cd6581597e80e9e",
       "value": " 10/10 [02:45&lt;00:00, 16.90s/it]"
      }
     },
     "85f231f89cb1441fa8aee6ba77bf59af": {
      "model_module": "@jupyter-widgets/controls",
      "model_module_version": "1.5.0",
      "model_name": "ProgressStyleModel",
      "state": {
       "_model_module": "@jupyter-widgets/controls",
       "_model_module_version": "1.5.0",
       "_model_name": "ProgressStyleModel",
       "_view_count": null,
       "_view_module": "@jupyter-widgets/base",
       "_view_module_version": "1.2.0",
       "_view_name": "StyleView",
       "bar_color": null,
       "description_width": ""
      }
     },
     "9b60163e2c594dce8cd6581597e80e9e": {
      "model_module": "@jupyter-widgets/controls",
      "model_module_version": "1.5.0",
      "model_name": "DescriptionStyleModel",
      "state": {
       "_model_module": "@jupyter-widgets/controls",
       "_model_module_version": "1.5.0",
       "_model_name": "DescriptionStyleModel",
       "_view_count": null,
       "_view_module": "@jupyter-widgets/base",
       "_view_module_version": "1.2.0",
       "_view_name": "StyleView",
       "description_width": ""
      }
     },
     "e6fb297bfd2b49d69c0be2dcb0867843": {
      "model_module": "@jupyter-widgets/controls",
      "model_module_version": "1.5.0",
      "model_name": "HTMLModel",
      "state": {
       "_dom_classes": [],
       "_model_module": "@jupyter-widgets/controls",
       "_model_module_version": "1.5.0",
       "_model_name": "HTMLModel",
       "_view_count": null,
       "_view_module": "@jupyter-widgets/controls",
       "_view_module_version": "1.5.0",
       "_view_name": "HTMLView",
       "description": "",
       "description_tooltip": null,
       "layout": "IPY_MODEL_f6691bacacd54d5e8f6c6dc3652ab7ae",
       "placeholder": "​",
       "style": "IPY_MODEL_f247f16185b8497884c9093b9c403dfa",
       "value": "100%"
      }
     },
     "e8e51c7b30fa40339874ef972dbca1b2": {
      "model_module": "@jupyter-widgets/base",
      "model_module_version": "1.2.0",
      "model_name": "LayoutModel",
      "state": {
       "_model_module": "@jupyter-widgets/base",
       "_model_module_version": "1.2.0",
       "_model_name": "LayoutModel",
       "_view_count": null,
       "_view_module": "@jupyter-widgets/base",
       "_view_module_version": "1.2.0",
       "_view_name": "LayoutView",
       "align_content": null,
       "align_items": null,
       "align_self": null,
       "border": null,
       "bottom": null,
       "display": null,
       "flex": null,
       "flex_flow": null,
       "grid_area": null,
       "grid_auto_columns": null,
       "grid_auto_flow": null,
       "grid_auto_rows": null,
       "grid_column": null,
       "grid_gap": null,
       "grid_row": null,
       "grid_template_areas": null,
       "grid_template_columns": null,
       "grid_template_rows": null,
       "height": null,
       "justify_content": null,
       "justify_items": null,
       "left": null,
       "margin": null,
       "max_height": null,
       "max_width": null,
       "min_height": null,
       "min_width": null,
       "object_fit": null,
       "object_position": null,
       "order": null,
       "overflow": null,
       "overflow_x": null,
       "overflow_y": null,
       "padding": null,
       "right": null,
       "top": null,
       "visibility": null,
       "width": null
      }
     },
     "f247f16185b8497884c9093b9c403dfa": {
      "model_module": "@jupyter-widgets/controls",
      "model_module_version": "1.5.0",
      "model_name": "DescriptionStyleModel",
      "state": {
       "_model_module": "@jupyter-widgets/controls",
       "_model_module_version": "1.5.0",
       "_model_name": "DescriptionStyleModel",
       "_view_count": null,
       "_view_module": "@jupyter-widgets/base",
       "_view_module_version": "1.2.0",
       "_view_name": "StyleView",
       "description_width": ""
      }
     },
     "f6691bacacd54d5e8f6c6dc3652ab7ae": {
      "model_module": "@jupyter-widgets/base",
      "model_module_version": "1.2.0",
      "model_name": "LayoutModel",
      "state": {
       "_model_module": "@jupyter-widgets/base",
       "_model_module_version": "1.2.0",
       "_model_name": "LayoutModel",
       "_view_count": null,
       "_view_module": "@jupyter-widgets/base",
       "_view_module_version": "1.2.0",
       "_view_name": "LayoutView",
       "align_content": null,
       "align_items": null,
       "align_self": null,
       "border": null,
       "bottom": null,
       "display": null,
       "flex": null,
       "flex_flow": null,
       "grid_area": null,
       "grid_auto_columns": null,
       "grid_auto_flow": null,
       "grid_auto_rows": null,
       "grid_column": null,
       "grid_gap": null,
       "grid_row": null,
       "grid_template_areas": null,
       "grid_template_columns": null,
       "grid_template_rows": null,
       "height": null,
       "justify_content": null,
       "justify_items": null,
       "left": null,
       "margin": null,
       "max_height": null,
       "max_width": null,
       "min_height": null,
       "min_width": null,
       "object_fit": null,
       "object_position": null,
       "order": null,
       "overflow": null,
       "overflow_x": null,
       "overflow_y": null,
       "padding": null,
       "right": null,
       "top": null,
       "visibility": null,
       "width": null
      }
     }
    },
    "version_major": 2,
    "version_minor": 0
   }
  }
 },
 "nbformat": 4,
 "nbformat_minor": 5
}
