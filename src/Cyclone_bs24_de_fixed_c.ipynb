{
 "cells": [
  {
   "cell_type": "code",
   "execution_count": 49,
   "id": "70e0c2f0",
   "metadata": {
    "execution": {
     "iopub.execute_input": "2022-12-09T01:03:17.237815Z",
     "iopub.status.busy": "2022-12-09T01:03:17.236814Z",
     "iopub.status.idle": "2022-12-09T01:03:22.913956Z",
     "shell.execute_reply": "2022-12-09T01:03:22.913956Z"
    }
   },
   "outputs": [
    {
     "name": "stdout",
     "output_type": "stream",
     "text": [
      "The autoreload extension is already loaded. To reload it, use:\n",
      "  %reload_ext autoreload\n"
     ]
    }
   ],
   "source": [
    "import numpy as np\n",
    "import pandas as pd\n",
    "import matplotlib.pyplot as plt\n",
    "%matplotlib inline\n",
    "import torch\n",
    "import torch.nn as nn\n",
    "from torch import optim\n",
    "from sklearn.utils import class_weight\n",
    "from scipy.stats import *\n",
    "from torch.autograd import Variable\n",
    "from tqdm.notebook import tqdm\n",
    "\n",
    "from save_data import save_data\n",
    "from sigma import sigma\n",
    "from get_test_stats import get_test_stats\n",
    "from size_out import *\n",
    "from test import test\n",
    "from train import train\n",
    "from parameters import *\n",
    "from read_data import read_data\n",
    "from preproc_data import *\n",
    "from label_data import label_data\n",
    "from split_data import split_data\n",
    "from detection import *\n",
    "from config_reader import Config\n",
    "from pathlib import Path\n",
    "\n",
    "cfg = Config()\n",
    "%load_ext autoreload\n",
    "%autoreload 2"
   ]
  },
  {
   "cell_type": "code",
   "execution_count": 50,
   "id": "3af38069",
   "metadata": {
    "execution": {
     "iopub.execute_input": "2022-12-09T01:03:22.918960Z",
     "iopub.status.busy": "2022-12-09T01:03:22.918960Z",
     "iopub.status.idle": "2022-12-09T01:04:06.744123Z",
     "shell.execute_reply": "2022-12-09T01:04:06.743122Z"
    }
   },
   "outputs": [],
   "source": [
    "cyclone_events, data = read_data(path='../data')\n",
    "# Consider renaming first variable\n",
    "cyclone_events_data, data, metrics = preproc_data(cyclone_events, metrics=data)\n",
    "labels, events = label_data(cyclone_events_data.ce2)\n",
    "train_data, test_data, labels_train, labels_test, train_id, test_id = split_data(data, labels, ratio=0.8)"
   ]
  },
  {
   "cell_type": "code",
   "execution_count": 51,
   "id": "826b5771",
   "metadata": {
    "execution": {
     "iopub.execute_input": "2022-12-09T01:04:06.749127Z",
     "iopub.status.busy": "2022-12-09T01:04:06.749127Z",
     "iopub.status.idle": "2022-12-09T01:04:07.111456Z",
     "shell.execute_reply": "2022-12-09T01:04:07.111456Z"
    }
   },
   "outputs": [],
   "source": [
    "desc = \"Kept batch_size=24. Fixed b, c, and taught a and w.\"\n",
    "filename = \"Cyclone_bs24_de_fixed_c.ipynb\"\n",
    "network_name = filename.split('.')[0]\n",
    "comment = \"Slight improvement on train, but degradation on test.\""
   ]
  },
  {
   "cell_type": "code",
   "execution_count": 52,
   "id": "944ee5cd",
   "metadata": {
    "execution": {
     "iopub.execute_input": "2022-12-09T01:04:07.116462Z",
     "iopub.status.busy": "2022-12-09T01:04:07.116462Z",
     "iopub.status.idle": "2022-12-09T01:04:07.480120Z",
     "shell.execute_reply": "2022-12-09T01:04:07.479119Z"
    }
   },
   "outputs": [],
   "source": [
    "class MyLayer1(nn.Module):\n",
    "    \n",
    "    def __init__(self, d, e):\n",
    "        super().__init__()  \n",
    "        self.d = d\n",
    "        self.e = e\n",
    "        \n",
    "    def forward(self, x):\n",
    "        # x * d\n",
    "        x = torch.mul(x, self.d)\n",
    "        # x * d - e\n",
    "        x = torch.sub(x, self.e)\n",
    "        return x\n",
    "\n",
    "class MyLayer2(nn.Module):\n",
    "    def __init__(self, c):\n",
    "        super().__init__()\n",
    "        self.c = c\n",
    "        \n",
    "    def forward(self, x):\n",
    "        x = torch.sum(x, dim=(2, 3))\n",
    "        x = x.reshape(x.shape[0])\n",
    "        x = torch.sub(x, self.c)\n",
    "        return x\n",
    "\n",
    "class SimpleNN(nn.Module):\n",
    "    def __init__(self, d, e, c):\n",
    "        super(SimpleNN, self).__init__()\n",
    "        self.d = nn.Parameter(d, requires_grad=True)  \n",
    "        self.e = nn.Parameter(e, requires_grad=True)\n",
    "        self.c = c\n",
    "        \n",
    "        self.auc_train = nn.Parameter(torch.tensor(0, dtype=torch.float64), requires_grad=False)\n",
    "        self.auc_test = nn.Parameter(torch.tensor(0, dtype=torch.float64), requires_grad=False)\n",
    "\n",
    "        self.maxpool = nn.MaxPool2d(kernel_size=2, stride=2)\n",
    "        self.layer1 = MyLayer1(self.d, self.e)\n",
    "        self.sigmoid = nn.Sigmoid()\n",
    "        self.layer2 = MyLayer2(self.c)\n",
    "    \n",
    "    def forward(self, x):\n",
    "        x = self.maxpool(x)\n",
    "        x = self.layer1(x)\n",
    "        x = self.sigmoid(x)\n",
    "        x = self.layer2(x)\n",
    "        return x"
   ]
  },
  {
   "cell_type": "markdown",
   "id": "6dc2b1c2",
   "metadata": {},
   "source": [
    "$$\\sigma(\\sum(\\sigma(d * x - e)) - c)$$"
   ]
  },
  {
   "cell_type": "code",
   "execution_count": 53,
   "id": "d6a6ce0b",
   "metadata": {
    "execution": {
     "iopub.execute_input": "2022-12-09T01:04:07.484124Z",
     "iopub.status.busy": "2022-12-09T01:04:07.484124Z",
     "iopub.status.idle": "2022-12-09T01:32:10.258141Z",
     "shell.execute_reply": "2022-12-09T01:32:10.258141Z"
    }
   },
   "outputs": [],
   "source": [
    "num_epochs = 80\n",
    "batch_size = 24\n",
    "\n",
    "d = torch.empty(size=(), dtype=torch.float)\n",
    "e = torch.empty(size=(), dtype=torch.float)\n",
    "c = torch.empty(size=(), dtype=torch.float)\n",
    "\n",
    "nn.init.constant_(d, val=25)\n",
    "nn.init.constant_(e, val=50)\n",
    "nn.init.constant_(c, val=2)\n",
    "\n",
    "cnn = SimpleNN(d, e, c)\n",
    "\n",
    "model_path = '../pretrained_models/models/' + cfg.mode + '/' + cfg.metric + '/'\n",
    "model_name = filename.split('.')[0] + '.pt'\n",
    "md_path = Path(model_path + model_name)\n",
    "\n",
    "if not md_path.exists():\n",
    "    Path(model_path).mkdir(parents=True, exist_ok=True)\n",
    "    torch.save(cnn, md_path)\n",
    "\n",
    "statedict_path = '../pretrained_models/statedicts/' + cfg.mode + '/' + cfg.metric + '/'\n",
    "statedict_name = filename.split('.')[0] + '.pt'\n",
    "sd_path = Path(statedict_path + statedict_name)\n",
    "\n",
    "y = torch.tensor(list(labels_train))\n",
    "class_weights=class_weight.compute_class_weight(class_weight='balanced', classes=np.unique(y), y=y.numpy())\n",
    "class_weights=torch.tensor(class_weights, dtype=torch.double)\n",
    "loss_func = nn.BCEWithLogitsLoss(pos_weight=class_weights[1]/class_weights[0], reduction='mean') \n",
    "optimizer = optim.Adam(cnn.parameters(), lr = 0.0001)  \n",
    "\n",
    "hyperparameters = (batch_size, d.item(), e.item(), c.item())\n",
    "\n",
    "if not sd_path.exists():\n",
    "    Path(statedict_path).mkdir(parents=True, exist_ok=True)\n",
    "    auc_test, auc_train = train(cnn, batch_size, num_epochs, train_data, labels_train, loss_func, optimizer, (test_data, labels_test), draw=False, step_test=True, )\n",
    "    cnn.auc_train = nn.Parameter(torch.tensor(auc_train), requires_grad=False)\n",
    "    cnn.auc_test = nn.Parameter(torch.tensor(auc_test), requires_grad=False)\n",
    "    torch.save(cnn.state_dict(), sd_path)\n",
    "else:\n",
    "    if cfg.retrain == 'True':\n",
    "        auc_test, auc_train = train(cnn, batch_size, num_epochs, train_data, labels_train, loss_func, optimizer, (test_data, labels_test), draw=False, step_test=True, )\n",
    "        cnn.auc_train = nn.Parameter(torch.tensor(auc_train), requires_grad=False)\n",
    "        cnn.auc_test = nn.Parameter(torch.tensor(auc_test), requires_grad=False)\n",
    "        torch.save(cnn.state_dict(), sd_path)\n",
    "    elif cfg.retrain == 'False':\n",
    "        sd = torch.load(sd_path)\n",
    "        cnn.load_state_dict(sd, strict=True)\n",
    "        cnn.double()\n",
    "        cnn.eval()"
   ]
  },
  {
   "cell_type": "code",
   "execution_count": 54,
   "id": "3ed6fd6d",
   "metadata": {
    "execution": {
     "iopub.execute_input": "2022-12-09T01:32:10.263146Z",
     "iopub.status.busy": "2022-12-09T01:32:10.263146Z",
     "iopub.status.idle": "2022-12-09T01:32:27.843681Z",
     "shell.execute_reply": "2022-12-09T01:32:27.843681Z"
    }
   },
   "outputs": [],
   "source": [
    "resulting_hyperparameters = [param.data.item() for name, param in cnn.named_parameters()]\n",
    "\n",
    "tp_test, tn_test, fp_test, fn_test, sigmas, results_test = test(cnn, test_data, labels_test)\n",
    "test_stats = get_test_stats(test_data.shape[2], tp_test, tn_test, fp_test, fn_test, sigmas, print_res=False)\n",
    "\n",
    "tp_train, tn_train, fp_train, fn_train, sigmas, results_train = test(cnn, train_data, labels_train)\n",
    "train_stats = get_test_stats(train_data.shape[2], tp_train, tn_train, fp_train, fn_train, sigmas, print_res=False)\n",
    "\n",
    "trains_stat_vals = list(vars(train_stats).values())\n",
    "test_stat_vals = list(vars(test_stats).values())\n",
    "\n",
    "export_stats = [(item_train, item_test) for (item_train, item_test) in zip(trains_stat_vals, test_stat_vals)]\n",
    "network_params = NetworkParams(network_name, desc, filename, hyperparameters, resulting_hyperparameters, export_stats, cnn.auc_train, cnn.auc_test, comment)\n",
    "network_params.save()\n",
    "\n",
    "display_data = DisplayData(test_stats.conf_matrix, train_stats.conf_matrix)"
   ]
  },
  {
   "cell_type": "code",
   "execution_count": 55,
   "id": "df8008e4",
   "metadata": {
    "execution": {
     "iopub.execute_input": "2022-12-09T01:32:27.846684Z",
     "iopub.status.busy": "2022-12-09T01:32:27.846684Z",
     "iopub.status.idle": "2022-12-09T01:33:10.206938Z",
     "shell.execute_reply": "2022-12-09T01:33:10.205938Z"
    }
   },
   "outputs": [],
   "source": [
    "image_data_mx, image_data_int = map_ids_to_color(train_id, test_id, results_train, results_test)\n",
    "marked_events = map_events_to_color(events, train_id, test_id, results_train, results_test)\n",
    "month_ticks = map_ids_to_color_by_day(train_id, test_id, results_train, results_test)\n",
    "draw_colormesh_by_tick(image_data_mx, save=True, filename=network_name, display_data=display_data)\n",
    "draw_colormesh_by_event(marked_events, save=True, filename=network_name, display_data=display_data)\n",
    "draw_colormesh_by_month(month_ticks, save=True, filename=network_name, display_data=display_data)"
   ]
  },
  {
   "cell_type": "code",
   "execution_count": 56,
   "id": "a0d6fda2",
   "metadata": {},
   "outputs": [],
   "source": [
    "tp_train_id, fp_train_id, fn_train_id, tn_train_id  = results_train\n",
    "tp_test_id, fp_test_id, fn_test_id, tn_test_id  = results_test"
   ]
  },
  {
   "cell_type": "code",
   "execution_count": 57,
   "id": "d6458e0a",
   "metadata": {},
   "outputs": [],
   "source": [
    "tps_train = list(tp_train_id) + list(tn_train_id) \n",
    "tps_test = list(tp_test_id) + list(tn_test_id)\n",
    "fps_train = list(fp_train_id) + list(fn_train_id) \n",
    "fps_test = list(fp_test_id) + list(fn_test_id)\n",
    "\n",
    "tps = tps_train + tps_test\n",
    "fps = fps_train + fps_test\n",
    "\n",
    "'''\n",
    "TP_vectors_test = np.empty(shape=[len(tps_test), 36 * 69])\n",
    "FP_vectors_test = np.empty(shape=[len(fps_test), 36 * 69])\n",
    "\n",
    "for i, id in enumerate(tps_test):\n",
    "    img = data[:, :, id].flatten()\n",
    "    TP_vectors_test[i] = img\n",
    "\n",
    "for i, id in enumerate(fps_test):\n",
    "    img = data[:, :, id].flatten()\n",
    "    FP_vectors_test[i] = img\n",
    "'''\n",
    "\n",
    "TP_vectors_new = np.empty(shape=[len(tps), 36 * 69])\n",
    "FP_vectors_new = np.empty(shape=[len(fps), 36 * 69])\n",
    "\n",
    "for i, id in enumerate(tps):\n",
    "    img = data[:, :, id].flatten()\n",
    "    TP_vectors_new[i] = img\n",
    "\n",
    "for i, id in enumerate(fps):\n",
    "    img = data[:, :, id].flatten()\n",
    "    FP_vectors_new[i] = img"
   ]
  },
  {
   "cell_type": "code",
   "execution_count": 58,
   "id": "e676770f",
   "metadata": {},
   "outputs": [],
   "source": [
    "np.save('../MatlabData/' + cfg.metric + '_TP_vectors_new.npy', TP_vectors_new)\n",
    "np.save('../MatlabData/' + cfg.metric + '_FP_vectors_new.npy', FP_vectors_new)"
   ]
  },
  {
   "cell_type": "code",
   "execution_count": 48,
   "id": "29ad7f76",
   "metadata": {},
   "outputs": [],
   "source": [
    "from scipy.io import savemat\n",
    "\n",
    "dic = {'TP_vectors_new' : TP_vectors_new,\n",
    "       'FP_vectors_new' : FP_vectors_new }\n",
    "savemat('../ErrorData.mat', dic)"
   ]
  },
  {
   "cell_type": "code",
   "execution_count": null,
   "id": "e308671c",
   "metadata": {},
   "outputs": [],
   "source": []
  }
 ],
 "metadata": {
  "kernelspec": {
   "display_name": "Python 3.8.13 ('mlunn2')",
   "language": "python",
   "name": "python3"
  },
  "language_info": {
   "codemirror_mode": {
    "name": "ipython",
    "version": 3
   },
   "file_extension": ".py",
   "mimetype": "text/x-python",
   "name": "python",
   "nbconvert_exporter": "python",
   "pygments_lexer": "ipython3",
   "version": "3.8.13 (default, Mar 28 2022, 06:59:08) [MSC v.1916 64 bit (AMD64)]"
  },
  "vscode": {
   "interpreter": {
    "hash": "7906f88924d0acbcc878920ce9dbcc77a020e1b0135b8245f9ac081820afa623"
   }
  },
  "widgets": {
   "application/vnd.jupyter.widget-state+json": {
    "state": {
     "73cf463a33f74ef5968f83409f3e48fb": {
      "model_module": "@jupyter-widgets/base",
      "model_module_version": "1.2.0",
      "model_name": "LayoutModel",
      "state": {
       "_model_module": "@jupyter-widgets/base",
       "_model_module_version": "1.2.0",
       "_model_name": "LayoutModel",
       "_view_count": null,
       "_view_module": "@jupyter-widgets/base",
       "_view_module_version": "1.2.0",
       "_view_name": "LayoutView",
       "align_content": null,
       "align_items": null,
       "align_self": null,
       "border": null,
       "bottom": null,
       "display": null,
       "flex": null,
       "flex_flow": null,
       "grid_area": null,
       "grid_auto_columns": null,
       "grid_auto_flow": null,
       "grid_auto_rows": null,
       "grid_column": null,
       "grid_gap": null,
       "grid_row": null,
       "grid_template_areas": null,
       "grid_template_columns": null,
       "grid_template_rows": null,
       "height": null,
       "justify_content": null,
       "justify_items": null,
       "left": null,
       "margin": null,
       "max_height": null,
       "max_width": null,
       "min_height": null,
       "min_width": null,
       "object_fit": null,
       "object_position": null,
       "order": null,
       "overflow": null,
       "overflow_x": null,
       "overflow_y": null,
       "padding": null,
       "right": null,
       "top": null,
       "visibility": null,
       "width": null
      }
     },
     "85dc4091bd5342efa9a3d059e8d837fc": {
      "model_module": "@jupyter-widgets/controls",
      "model_module_version": "1.5.0",
      "model_name": "HTMLModel",
      "state": {
       "_dom_classes": [],
       "_model_module": "@jupyter-widgets/controls",
       "_model_module_version": "1.5.0",
       "_model_name": "HTMLModel",
       "_view_count": null,
       "_view_module": "@jupyter-widgets/controls",
       "_view_module_version": "1.5.0",
       "_view_name": "HTMLView",
       "description": "",
       "description_tooltip": null,
       "layout": "IPY_MODEL_73cf463a33f74ef5968f83409f3e48fb",
       "placeholder": "​",
       "style": "IPY_MODEL_99610a0134ed4f918bd5b9b8df808479",
       "value": "100%"
      }
     },
     "8d889c85fe9545539a6bc87c42361af8": {
      "model_module": "@jupyter-widgets/base",
      "model_module_version": "1.2.0",
      "model_name": "LayoutModel",
      "state": {
       "_model_module": "@jupyter-widgets/base",
       "_model_module_version": "1.2.0",
       "_model_name": "LayoutModel",
       "_view_count": null,
       "_view_module": "@jupyter-widgets/base",
       "_view_module_version": "1.2.0",
       "_view_name": "LayoutView",
       "align_content": null,
       "align_items": null,
       "align_self": null,
       "border": null,
       "bottom": null,
       "display": null,
       "flex": null,
       "flex_flow": null,
       "grid_area": null,
       "grid_auto_columns": null,
       "grid_auto_flow": null,
       "grid_auto_rows": null,
       "grid_column": null,
       "grid_gap": null,
       "grid_row": null,
       "grid_template_areas": null,
       "grid_template_columns": null,
       "grid_template_rows": null,
       "height": null,
       "justify_content": null,
       "justify_items": null,
       "left": null,
       "margin": null,
       "max_height": null,
       "max_width": null,
       "min_height": null,
       "min_width": null,
       "object_fit": null,
       "object_position": null,
       "order": null,
       "overflow": null,
       "overflow_x": null,
       "overflow_y": null,
       "padding": null,
       "right": null,
       "top": null,
       "visibility": null,
       "width": null
      }
     },
     "8f4a7c363178462e94fcef9d7970df78": {
      "model_module": "@jupyter-widgets/controls",
      "model_module_version": "1.5.0",
      "model_name": "HTMLModel",
      "state": {
       "_dom_classes": [],
       "_model_module": "@jupyter-widgets/controls",
       "_model_module_version": "1.5.0",
       "_model_name": "HTMLModel",
       "_view_count": null,
       "_view_module": "@jupyter-widgets/controls",
       "_view_module_version": "1.5.0",
       "_view_name": "HTMLView",
       "description": "",
       "description_tooltip": null,
       "layout": "IPY_MODEL_8d889c85fe9545539a6bc87c42361af8",
       "placeholder": "​",
       "style": "IPY_MODEL_eb0b1fab73394c448353a2df27e4a3c8",
       "value": " 80/80 [28:00&lt;00:00, 20.57s/it]"
      }
     },
     "9779c55479824a7cb4b510d77d625dde": {
      "model_module": "@jupyter-widgets/controls",
      "model_module_version": "1.5.0",
      "model_name": "ProgressStyleModel",
      "state": {
       "_model_module": "@jupyter-widgets/controls",
       "_model_module_version": "1.5.0",
       "_model_name": "ProgressStyleModel",
       "_view_count": null,
       "_view_module": "@jupyter-widgets/base",
       "_view_module_version": "1.2.0",
       "_view_name": "StyleView",
       "bar_color": null,
       "description_width": ""
      }
     },
     "99610a0134ed4f918bd5b9b8df808479": {
      "model_module": "@jupyter-widgets/controls",
      "model_module_version": "1.5.0",
      "model_name": "DescriptionStyleModel",
      "state": {
       "_model_module": "@jupyter-widgets/controls",
       "_model_module_version": "1.5.0",
       "_model_name": "DescriptionStyleModel",
       "_view_count": null,
       "_view_module": "@jupyter-widgets/base",
       "_view_module_version": "1.2.0",
       "_view_name": "StyleView",
       "description_width": ""
      }
     },
     "a2c86a9ae0d44893baf354eefe3bfa1c": {
      "model_module": "@jupyter-widgets/controls",
      "model_module_version": "1.5.0",
      "model_name": "HBoxModel",
      "state": {
       "_dom_classes": [],
       "_model_module": "@jupyter-widgets/controls",
       "_model_module_version": "1.5.0",
       "_model_name": "HBoxModel",
       "_view_count": null,
       "_view_module": "@jupyter-widgets/controls",
       "_view_module_version": "1.5.0",
       "_view_name": "HBoxView",
       "box_style": "",
       "children": [
        "IPY_MODEL_85dc4091bd5342efa9a3d059e8d837fc",
        "IPY_MODEL_a64322529a3646248ccc0b1796faa7eb",
        "IPY_MODEL_8f4a7c363178462e94fcef9d7970df78"
       ],
       "layout": "IPY_MODEL_ae9ae19fd8a64589bc52ab79671db6ce"
      }
     },
     "a64322529a3646248ccc0b1796faa7eb": {
      "model_module": "@jupyter-widgets/controls",
      "model_module_version": "1.5.0",
      "model_name": "FloatProgressModel",
      "state": {
       "_dom_classes": [],
       "_model_module": "@jupyter-widgets/controls",
       "_model_module_version": "1.5.0",
       "_model_name": "FloatProgressModel",
       "_view_count": null,
       "_view_module": "@jupyter-widgets/controls",
       "_view_module_version": "1.5.0",
       "_view_name": "ProgressView",
       "bar_style": "success",
       "description": "",
       "description_tooltip": null,
       "layout": "IPY_MODEL_fdbb00c74e2347d4828d5ce4ce465393",
       "max": 80,
       "min": 0,
       "orientation": "horizontal",
       "style": "IPY_MODEL_9779c55479824a7cb4b510d77d625dde",
       "value": 80
      }
     },
     "ae9ae19fd8a64589bc52ab79671db6ce": {
      "model_module": "@jupyter-widgets/base",
      "model_module_version": "1.2.0",
      "model_name": "LayoutModel",
      "state": {
       "_model_module": "@jupyter-widgets/base",
       "_model_module_version": "1.2.0",
       "_model_name": "LayoutModel",
       "_view_count": null,
       "_view_module": "@jupyter-widgets/base",
       "_view_module_version": "1.2.0",
       "_view_name": "LayoutView",
       "align_content": null,
       "align_items": null,
       "align_self": null,
       "border": null,
       "bottom": null,
       "display": null,
       "flex": null,
       "flex_flow": null,
       "grid_area": null,
       "grid_auto_columns": null,
       "grid_auto_flow": null,
       "grid_auto_rows": null,
       "grid_column": null,
       "grid_gap": null,
       "grid_row": null,
       "grid_template_areas": null,
       "grid_template_columns": null,
       "grid_template_rows": null,
       "height": null,
       "justify_content": null,
       "justify_items": null,
       "left": null,
       "margin": null,
       "max_height": null,
       "max_width": null,
       "min_height": null,
       "min_width": null,
       "object_fit": null,
       "object_position": null,
       "order": null,
       "overflow": null,
       "overflow_x": null,
       "overflow_y": null,
       "padding": null,
       "right": null,
       "top": null,
       "visibility": null,
       "width": null
      }
     },
     "eb0b1fab73394c448353a2df27e4a3c8": {
      "model_module": "@jupyter-widgets/controls",
      "model_module_version": "1.5.0",
      "model_name": "DescriptionStyleModel",
      "state": {
       "_model_module": "@jupyter-widgets/controls",
       "_model_module_version": "1.5.0",
       "_model_name": "DescriptionStyleModel",
       "_view_count": null,
       "_view_module": "@jupyter-widgets/base",
       "_view_module_version": "1.2.0",
       "_view_name": "StyleView",
       "description_width": ""
      }
     },
     "fdbb00c74e2347d4828d5ce4ce465393": {
      "model_module": "@jupyter-widgets/base",
      "model_module_version": "1.2.0",
      "model_name": "LayoutModel",
      "state": {
       "_model_module": "@jupyter-widgets/base",
       "_model_module_version": "1.2.0",
       "_model_name": "LayoutModel",
       "_view_count": null,
       "_view_module": "@jupyter-widgets/base",
       "_view_module_version": "1.2.0",
       "_view_name": "LayoutView",
       "align_content": null,
       "align_items": null,
       "align_self": null,
       "border": null,
       "bottom": null,
       "display": null,
       "flex": null,
       "flex_flow": null,
       "grid_area": null,
       "grid_auto_columns": null,
       "grid_auto_flow": null,
       "grid_auto_rows": null,
       "grid_column": null,
       "grid_gap": null,
       "grid_row": null,
       "grid_template_areas": null,
       "grid_template_columns": null,
       "grid_template_rows": null,
       "height": null,
       "justify_content": null,
       "justify_items": null,
       "left": null,
       "margin": null,
       "max_height": null,
       "max_width": null,
       "min_height": null,
       "min_width": null,
       "object_fit": null,
       "object_position": null,
       "order": null,
       "overflow": null,
       "overflow_x": null,
       "overflow_y": null,
       "padding": null,
       "right": null,
       "top": null,
       "visibility": null,
       "width": null
      }
     }
    },
    "version_major": 2,
    "version_minor": 0
   }
  }
 },
 "nbformat": 4,
 "nbformat_minor": 5
}
