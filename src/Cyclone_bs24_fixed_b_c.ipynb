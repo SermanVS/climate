{
 "cells": [
  {
   "cell_type": "code",
   "execution_count": 1,
   "id": "70e0c2f0",
   "metadata": {},
   "outputs": [],
   "source": [
    "import numpy as np\n",
    "import pandas as pd\n",
    "import matplotlib.pyplot as plt\n",
    "import torch\n",
    "import random\n",
    "import torch.nn as nn\n",
    "from torch import optim\n",
    "from sklearn.utils import class_weight\n",
    "from scipy.stats import *\n",
    "from torch.autograd import Variable\n",
    "from tqdm.notebook import tqdm\n",
    "\n",
    "from save_data import save_data\n",
    "from sigma import sigma\n",
    "from get_test_stats import get_test_stats\n",
    "from size_out import *\n",
    "from test import test\n",
    "from train import train\n",
    "from parameters import *\n",
    "\n",
    "%load_ext autoreload\n",
    "%autoreload 2"
   ]
  },
  {
   "cell_type": "code",
   "execution_count": 2,
   "id": "3af38069",
   "metadata": {},
   "outputs": [],
   "source": [
    "cyclone_events = np.load('../data/ERA5/ERA5_MSL_1982_2020_3h_0.75/cyclones_events.npz')\n",
    "closeness_w = np.load('../data/ERA5/ERA5_MSL_1982_2020_3h_0.75/metrics_corr_land_masked_and_preproc_window_2d_delay_0d/probability_for_metrics/diff_metrics/network_metrics/closeness_w.npy')\n",
    "degree_w = np.load('../data/ERA5/ERA5_MSL_1982_2020_3h_0.75/metrics_corr_land_masked_and_preproc_window_2d_delay_0d/probability_for_metrics/diff_metrics/network_metrics/degree_w.npy')\n",
    "EVC_w = np.load('../data/ERA5/ERA5_MSL_1982_2020_3h_0.75/metrics_corr_land_masked_and_preproc_window_2d_delay_0d/probability_for_metrics/diff_metrics/network_metrics/EVC_w.npy')\n",
    "LCC_w = np.load('../data/ERA5/ERA5_MSL_1982_2020_3h_0.75/metrics_corr_land_masked_and_preproc_window_2d_delay_0d/probability_for_metrics/diff_metrics/network_metrics/LCC_w.npy')\n",
    "MSLP_preproc = np.load('../data/ERA5/ERA5_MSL_1982_2020_3h_0.75/metrics_corr_land_masked_and_preproc_window_2d_delay_0d/probability_for_metrics/input_data/MSLP_preproc.npy')"
   ]
  },
  {
   "cell_type": "code",
   "execution_count": 3,
   "id": "56c42c7b",
   "metadata": {},
   "outputs": [],
   "source": [
    "cyclone_events_2 = cyclone_events[cyclone_events.files[0]]\n",
    "cyclone_events_4 = cyclone_events[cyclone_events.files[1]]\n",
    "cyclone_events_6 = cyclone_events[cyclone_events.files[2]]\n",
    "cyclone_events_8 = cyclone_events[cyclone_events.files[3]]\n",
    "cyclone_events_10 = cyclone_events[cyclone_events.files[4]]\n",
    "cyclone_events_12 = cyclone_events[cyclone_events.files[5]]"
   ]
  },
  {
   "cell_type": "code",
   "execution_count": 4,
   "id": "d46b1215",
   "metadata": {},
   "outputs": [],
   "source": [
    "MSLP_preproc = np.reshape(MSLP_preproc, (36, 69, 113960))\n",
    "data = MSLP_preproc.copy().astype(np.float32)\n",
    "data = -np.log(1 - data + 1e-10)"
   ]
  },
  {
   "cell_type": "code",
   "execution_count": 5,
   "id": "fe91f49f",
   "metadata": {},
   "outputs": [],
   "source": [
    "labels = np.zeros(113960)\n",
    "for i in range(113960):\n",
    "    if len(cyclone_events_2[:, :, i][cyclone_events_2[:, :, i] != False]) > 0:\n",
    "        labels[i] = 1"
   ]
  },
  {
   "cell_type": "code",
   "execution_count": 6,
   "id": "82c5fe1b",
   "metadata": {},
   "outputs": [],
   "source": [
    "cyclone_occurences = pd.read_csv(\"../shuffle_cyclone.csv\", header=None)\n",
    "no_cyclone = pd.read_csv(\"../shuffle_no_cyclone.csv\", header=None)\n",
    "\n",
    "np.nan_to_num(data, nan=0, copy=False)\n",
    "\n",
    "cyclone_occurences = cyclone_occurences.values[0][:-1]\n",
    "no_cyclone = no_cyclone.values[0][:-1]\n",
    "\n",
    "cut_cyclone = int(0.8 * len(cyclone_occurences))\n",
    "cut_no_cyclone = int(0.8 * len(no_cyclone))"
   ]
  },
  {
   "cell_type": "code",
   "execution_count": 7,
   "id": "4a990acc",
   "metadata": {},
   "outputs": [],
   "source": [
    "train_id = cyclone_occurences[:cut_cyclone].astype(int)\n",
    "train_id = np.append(train_id, no_cyclone[:cut_no_cyclone].astype(int))\n",
    "\n",
    "test_id = cyclone_occurences[cut_cyclone:-1].astype(int) \n",
    "test_id = np.append(test_id, no_cyclone[cut_no_cyclone:-1].astype(int))"
   ]
  },
  {
   "cell_type": "code",
   "execution_count": 8,
   "id": "93d012bc",
   "metadata": {},
   "outputs": [],
   "source": [
    "random.shuffle(train_id)"
   ]
  },
  {
   "cell_type": "code",
   "execution_count": 9,
   "id": "2f961a83",
   "metadata": {},
   "outputs": [],
   "source": [
    "train_data = torch.tensor(data[:, :, train_id], dtype=torch.double)\n",
    "test_data = torch.tensor(data[:, :, test_id], dtype=torch.double)\n",
    "\n",
    "labels_train = torch.tensor(labels[train_id], dtype=torch.int)\n",
    "labels_test = torch.tensor(labels[test_id], dtype=torch.int)"
   ]
  },
  {
   "cell_type": "code",
   "execution_count": 10,
   "id": "826b5771",
   "metadata": {},
   "outputs": [],
   "source": [
    "desc = \"Kept batch_size=24. Fixed b, c, and taught a and w.\"\n",
    "filename = \"Cyclone_bs24_fixed_b_c.ipynb\"\n",
    "network_name = filename.split('.')[0]\n",
    "comment = \"Slight improvement on train, but degradation on test.\""
   ]
  },
  {
   "cell_type": "code",
   "execution_count": 11,
   "id": "944ee5cd",
   "metadata": {},
   "outputs": [],
   "source": [
    "class MyLayer1(nn.Module):\n",
    "    \n",
    "    def __init__(self, w, a, b):\n",
    "        super().__init__()   \n",
    "        self.weight = w\n",
    "        self.a = a\n",
    "        self.b = b\n",
    "        \n",
    "    def forward(self, x):\n",
    "        # x * w\n",
    "        x = torch.mul(x, self.weight)\n",
    "        # x * w - a\n",
    "        x = torch.sub(x, self.a)\n",
    "        # (x * w - a) * b\n",
    "        x = torch.mul(x, self.b)\n",
    "        return x\n",
    "\n",
    "class MyLayer2(nn.Module):\n",
    "    def __init__(self, c):\n",
    "        super().__init__()\n",
    "        self.c = c\n",
    "        \n",
    "    def forward(self, x):\n",
    "        x = torch.sum(x, dim=(2, 3))\n",
    "        x = x.reshape(x.shape[0])\n",
    "        x = torch.sub(x, self.c)\n",
    "        return x\n",
    "\n",
    "class SimpleNN(nn.Module):\n",
    "    def __init__(self, w, a, b, c):\n",
    "        super(SimpleNN, self).__init__()\n",
    "        self.w = nn.Parameter(w, requires_grad=True)  \n",
    "        self.a = nn.Parameter(a, requires_grad=True)\n",
    "        self.b = b\n",
    "        self.c = c\n",
    "        self.maxpool = nn.MaxPool2d(kernel_size=2, stride=2)\n",
    "        self.layer1 = MyLayer1(self.w, self.a, self.b)\n",
    "        self.sigmoid = nn.Sigmoid()\n",
    "        self.layer2 = MyLayer2(self.c)\n",
    "    \n",
    "    def forward(self, x):\n",
    "        x = self.maxpool(x)\n",
    "        x = self.layer1(x)\n",
    "        x = self.sigmoid(x)\n",
    "        x = self.layer2(x)\n",
    "        return x"
   ]
  },
  {
   "cell_type": "markdown",
   "id": "ed339bc1",
   "metadata": {},
   "source": [
    "$$\\sigma(\\sum(\\sigma((w*x - a) * b)) - c)$$"
   ]
  },
  {
   "cell_type": "code",
   "execution_count": 12,
   "id": "d6a6ce0b",
   "metadata": {},
   "outputs": [
    {
     "name": "stdout",
     "output_type": "stream",
     "text": [
      "tensor([0.5460, 5.9292], dtype=torch.float64)\n"
     ]
    }
   ],
   "source": [
    "num_epochs = 10\n",
    "batch_size = 24\n",
    "\n",
    "w = torch.empty(size=(), dtype=torch.float)\n",
    "a = torch.empty(size=(), dtype=torch.float)\n",
    "b = torch.empty(size=(), dtype=torch.float)\n",
    "c = torch.empty(size=(), dtype=torch.float)\n",
    "\n",
    "nn.init.constant_(a, val=1)\n",
    "nn.init.constant_(b, val=50)\n",
    "nn.init.constant_(w, val=0.5)\n",
    "nn.init.constant_(c, val=2)\n",
    "\n",
    "cnn = SimpleNN(w, a, b, c)\n",
    "\n",
    "y = torch.tensor(list(labels_train))\n",
    "class_weights=class_weight.compute_class_weight(class_weight='balanced', classes=np.unique(y), y=y.numpy())\n",
    "class_weights=torch.tensor(class_weights, dtype=torch.double)\n",
    "print(class_weights)\n",
    "loss_func = nn.BCEWithLogitsLoss(pos_weight=class_weights[1]/class_weights[0], reduction='mean') \n",
    "optimizer = optim.Adam(cnn.parameters(), lr = 0.0001)  "
   ]
  },
  {
   "cell_type": "code",
   "execution_count": 13,
   "id": "be81c729",
   "metadata": {},
   "outputs": [],
   "source": [
    "hyperparameters = (batch_size, w.item(), a.item(), b.item(), c.item())"
   ]
  },
  {
   "cell_type": "code",
   "execution_count": 14,
   "id": "02352553",
   "metadata": {},
   "outputs": [
    {
     "data": {
      "image/png": "[encoded data removed]",
      "text/plain": [
       "<Figure size 1296x864 with 6 Axes>"
      ]
     },
     "metadata": {
      "needs_background": "light"
     },
     "output_type": "display_data"
    }
   ],
   "source": [
    "auc_test, auc_train = train(cnn, batch_size, num_epochs, train_data, labels_train, loss_func, optimizer, (test_data, labels_test), draw=False, step_test=True, )"
   ]
  },
  {
   "cell_type": "code",
   "execution_count": 15,
   "id": "3ed6fd6d",
   "metadata": {},
   "outputs": [],
   "source": [
    "resulting_hyperparameters = [param.data.item() for name, param in cnn.named_parameters()]"
   ]
  },
  {
   "cell_type": "code",
   "execution_count": 16,
   "id": "68dc6738",
   "metadata": {},
   "outputs": [],
   "source": [
    "tp, tn, fp, fn, sigmas = test(cnn, test_data, labels_test)\n",
    "test_stats = get_test_stats(test_data.shape[2], tp, tn, fp, fn, sigmas, print_res=False)"
   ]
  },
  {
   "cell_type": "code",
   "execution_count": 17,
   "id": "dc75e7a0",
   "metadata": {},
   "outputs": [],
   "source": [
    "tp, tn, fp, fn, sigmas = test(cnn, train_data, labels_train)\n",
    "train_stats = get_test_stats(train_data.shape[2], tp, tn, fp, fn, sigmas, print_res=False)"
   ]
  },
  {
   "cell_type": "code",
   "execution_count": 18,
   "id": "73f078cb",
   "metadata": {},
   "outputs": [],
   "source": [
    "trains_stat_vals = list(vars(train_stats).values())\n",
    "test_stat_vals = list(vars(test_stats).values())\n",
    "\n",
    "export_stats = [(item_train, item_test) for (item_train, item_test) in zip(trains_stat_vals, test_stat_vals)]\n",
    "network_params = NetworkParams(network_name, desc, filename, hyperparameters, resulting_hyperparameters, export_stats, auc_train, auc_test, comment)\n",
    "network_params.save()"
   ]
  },
  {
   "cell_type": "code",
   "execution_count": null,
   "id": "df8008e4",
   "metadata": {},
   "outputs": [],
   "source": []
  }
 ],
 "metadata": {
  "kernelspec": {
   "display_name": "Python 3.8.13 ('mlunn2')",
   "language": "python",
   "name": "python3"
  },
  "language_info": {
   "codemirror_mode": {
    "name": "ipython",
    "version": 3
   },
   "file_extension": ".py",
   "mimetype": "text/x-python",
   "name": "python",
   "nbconvert_exporter": "python",
   "pygments_lexer": "ipython3",
   "version": "3.8.13"
  },
  "vscode": {
   "interpreter": {
    "hash": "7906f88924d0acbcc878920ce9dbcc77a020e1b0135b8245f9ac081820afa623"
   }
  }
 },
 "nbformat": 4,
 "nbformat_minor": 5
}
