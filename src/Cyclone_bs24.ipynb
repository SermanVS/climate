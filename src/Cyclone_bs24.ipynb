{
 "cells": [
  {
   "cell_type": "code",
   "execution_count": 7,
   "id": "70e0c2f0",
   "metadata": {
    "execution": {
     "iopub.execute_input": "2022-11-14T11:39:14.263777Z",
     "iopub.status.busy": "2022-11-14T11:39:14.262776Z",
     "iopub.status.idle": "2022-11-14T11:39:17.002463Z",
     "shell.execute_reply": "2022-11-14T11:39:17.002463Z"
    }
   },
   "outputs": [],
   "source": [
    "import numpy as np\n",
    "import pandas as pd\n",
    "import matplotlib.pyplot as plt\n",
    "%matplotlib inline\n",
    "import torch\n",
    "import torch.nn as nn\n",
    "from torch import optim\n",
    "from sklearn.utils import class_weight\n",
    "from scipy.stats import *\n",
    "from torch.autograd import Variable\n",
    "from tqdm.notebook import tqdm\n",
    "\n",
    "from save_data import save_data\n",
    "from sigma import sigma\n",
    "from get_test_stats import get_test_stats\n",
    "from size_out import *\n",
    "from test import test\n",
    "from train import train\n",
    "from parameters import *\n",
    "from read_data import read_data\n",
    "from preproc_data import *\n",
    "from label_data import label_data\n",
    "from split_data import split_data\n",
    "from detection import *\n",
    "\n",
    "%load_ext autoreload\n",
    "%autoreload 2"
   ]
  },
  {
   "cell_type": "code",
   "execution_count": 8,
   "id": "2f961a83",
   "metadata": {
    "execution": {
     "iopub.execute_input": "2022-11-14T11:39:17.005465Z",
     "iopub.status.busy": "2022-11-14T11:39:17.005465Z",
     "iopub.status.idle": "2022-11-14T11:39:31.954824Z",
     "shell.execute_reply": "2022-11-14T11:39:31.954824Z"
    }
   },
   "outputs": [],
   "source": [
    "cyclone_events, data = read_data(path='../data')\n",
    "# Consider renaming first variable\n",
    "cyclone_events_data, data, metrics = preproc_data(cyclone_events, metrics=data)\n",
    "labels, events = label_data(cyclone_events_data.ce2)\n",
    "train_data, test_data, labels_train, labels_test, train_id, test_id = split_data(data, labels, ratio=0.8)"
   ]
  },
  {
   "cell_type": "code",
   "execution_count": 9,
   "id": "7b9ec6ea",
   "metadata": {
    "execution": {
     "iopub.execute_input": "2022-11-14T11:39:31.957828Z",
     "iopub.status.busy": "2022-11-14T11:39:31.957828Z",
     "iopub.status.idle": "2022-11-14T11:39:32.170018Z",
     "shell.execute_reply": "2022-11-14T11:39:32.170018Z"
    }
   },
   "outputs": [],
   "source": [
    "desc = \"Same network, doubled the batch_size.\"\n",
    "filename = \"Cyclone_bs24.ipynb\"\n",
    "network_name = filename.split('.')[0]\n",
    "comment = 'Surprised statistics are unchanged'"
   ]
  },
  {
   "cell_type": "code",
   "execution_count": 10,
   "id": "944ee5cd",
   "metadata": {
    "execution": {
     "iopub.execute_input": "2022-11-14T11:39:32.173021Z",
     "iopub.status.busy": "2022-11-14T11:39:32.173021Z",
     "iopub.status.idle": "2022-11-14T11:39:32.372203Z",
     "shell.execute_reply": "2022-11-14T11:39:32.372203Z"
    }
   },
   "outputs": [],
   "source": [
    "class MyLayer1(nn.Module):\n",
    "    \n",
    "    def __init__(self, w, a, b):\n",
    "        super().__init__()   \n",
    "        self.weight = w\n",
    "        self.a = a\n",
    "        self.b = b\n",
    "        \n",
    "    def forward(self, x):\n",
    "        # x * w\n",
    "        x = torch.mul(x, self.weight)\n",
    "        # x * w - a\n",
    "        x = torch.sub(x, self.a)\n",
    "        # (x * w - a) * b\n",
    "        x = torch.mul(x, self.b)\n",
    "        return x\n",
    "\n",
    "class MyLayer2(nn.Module):\n",
    "    def __init__(self, c):\n",
    "        super().__init__()\n",
    "        self.c = c\n",
    "        \n",
    "    def forward(self, x):\n",
    "        x = torch.sum(x, dim=(2, 3))\n",
    "        x = x.reshape(x.shape[0])\n",
    "        x = torch.sub(x, self.c)\n",
    "        return x\n",
    "\n",
    "class SimpleNN(nn.Module):\n",
    "    def __init__(self, w, a, b, c):\n",
    "        super(SimpleNN, self).__init__()\n",
    "        self.w = nn.Parameter(w, requires_grad=True)  \n",
    "        self.a = nn.Parameter(a, requires_grad=True)\n",
    "        self.b = nn.Parameter(b, requires_grad=True)\n",
    "        self.c = nn.Parameter(c, requires_grad=True)\n",
    "        self.maxpool = nn.MaxPool2d(kernel_size=2, stride=2)\n",
    "        self.layer1 = MyLayer1(self.w, self.a, self.b)\n",
    "        self.sigmoid = nn.Sigmoid()\n",
    "        self.layer2 = MyLayer2(self.c)\n",
    "        \n",
    "    \n",
    "    def forward(self, x):\n",
    "        x = self.maxpool(x)\n",
    "        x = self.layer1(x)\n",
    "        x = self.sigmoid(x)\n",
    "        x = self.layer2(x)\n",
    "        return x"
   ]
  },
  {
   "cell_type": "code",
   "execution_count": 11,
   "id": "d6a6ce0b",
   "metadata": {
    "execution": {
     "iopub.execute_input": "2022-11-14T11:39:32.376207Z",
     "iopub.status.busy": "2022-11-14T11:39:32.375206Z",
     "iopub.status.idle": "2022-11-14T11:39:32.806104Z",
     "shell.execute_reply": "2022-11-14T11:39:32.806104Z"
    }
   },
   "outputs": [
    {
     "name": "stdout",
     "output_type": "stream",
     "text": [
      "tensor([0.5460, 5.9292], dtype=torch.float64)\n"
     ]
    }
   ],
   "source": [
    "num_epochs = 10\n",
    "batch_size = 24\n",
    "\n",
    "w = torch.empty(size=(), dtype=torch.float)\n",
    "a = torch.empty(size=(), dtype=torch.float)\n",
    "b = torch.empty(size=(), dtype=torch.float)\n",
    "c = torch.empty(size=(), dtype=torch.float)\n",
    "\n",
    "nn.init.constant_(a, val=1)\n",
    "nn.init.constant_(b, val=50)\n",
    "nn.init.constant_(w, val=0.5) # weight init\n",
    "nn.init.constant_(c, val=2)\n",
    "\n",
    "cnn = SimpleNN(w, a, b, c)\n",
    "\n",
    "y = torch.tensor(list(labels_train))\n",
    "class_weights=class_weight.compute_class_weight(class_weight='balanced', classes=np.unique(y), y=y.numpy())\n",
    "class_weights=torch.tensor(class_weights, dtype=torch.double)\n",
    "print(class_weights)\n",
    "loss_func = nn.BCEWithLogitsLoss(pos_weight=class_weights[1]/class_weights[0], reduction='mean') \n",
    "optimizer = optim.Adam(cnn.parameters(), lr = 0.0001)  "
   ]
  },
  {
   "cell_type": "markdown",
   "id": "08f332a3",
   "metadata": {},
   "source": [
    "$$\\sigma(\\sum(\\sigma((w*x - a) * b)) - c)$$"
   ]
  },
  {
   "cell_type": "code",
   "execution_count": 12,
   "id": "1bbd2a45",
   "metadata": {
    "execution": {
     "iopub.execute_input": "2022-11-14T11:39:32.809105Z",
     "iopub.status.busy": "2022-11-14T11:39:32.809105Z",
     "iopub.status.idle": "2022-11-14T11:39:33.024139Z",
     "shell.execute_reply": "2022-11-14T11:39:33.024139Z"
    }
   },
   "outputs": [],
   "source": [
    "hyperparameters = (batch_size, w.item(), a.item(), b.item(), c.item())"
   ]
  },
  {
   "cell_type": "code",
   "execution_count": 13,
   "id": "02352553",
   "metadata": {
    "execution": {
     "iopub.execute_input": "2022-11-14T11:39:33.027142Z",
     "iopub.status.busy": "2022-11-14T11:39:33.027142Z",
     "iopub.status.idle": "2022-11-14T11:40:11.575404Z",
     "shell.execute_reply": "2022-11-14T11:40:11.575404Z"
    }
   },
   "outputs": [
    {
     "data": {
      "application/vnd.jupyter.widget-view+json": {
       "model_id": "601f16007f224fccb70b4a52dc52d4ba",
       "version_major": 2,
       "version_minor": 0
      },
      "text/plain": [
       "  0%|          | 0/10 [00:00<?, ?it/s]"
      ]
     },
     "metadata": {},
     "output_type": "display_data"
    }
   ],
   "source": [
    "auc_train, auc_test = train(cnn, batch_size, num_epochs, train_data, labels_train, loss_func, optimizer, (test_data, labels_test), draw=False, step_test=False, )"
   ]
  },
  {
   "cell_type": "code",
   "execution_count": 14,
   "id": "4987ff38",
   "metadata": {
    "execution": {
     "iopub.execute_input": "2022-11-14T11:40:11.578407Z",
     "iopub.status.busy": "2022-11-14T11:40:11.577406Z",
     "iopub.status.idle": "2022-11-14T11:40:28.119219Z",
     "shell.execute_reply": "2022-11-14T11:40:28.119219Z"
    }
   },
   "outputs": [],
   "source": [
    "resulting_hyperparameters = [param.data.item() for name, param in cnn.named_parameters()]\n",
    "\n",
    "tp_test, tn_test, fp_test, fn_test, sigmas, results_test = test(cnn, test_data, labels_test)\n",
    "test_stats = get_test_stats(test_data.shape[2], tp_test, tn_test, fp_test, fn_test, sigmas, print_res=False)\n",
    "\n",
    "tp_train, tn_train, fp_train, fn_train, sigmas, results_train = test(cnn, train_data, labels_train)\n",
    "train_stats = get_test_stats(train_data.shape[2], tp_train, tn_train, fp_train, fn_train, sigmas, print_res=False)\n",
    "\n",
    "trains_stat_vals = list(vars(train_stats).values())\n",
    "test_stat_vals = list(vars(test_stats).values())\n",
    "\n",
    "export_stats = [(item_train, item_test) for (item_train, item_test) in zip(trains_stat_vals, test_stat_vals)]\n",
    "network_params = NetworkParams(network_name, desc, filename, hyperparameters, resulting_hyperparameters, export_stats, auc_train, auc_test, comment)\n",
    "network_params.save()\n",
    "\n",
    "display_data = DisplayData(test_stats.conf_matrix, train_stats.conf_matrix)"
   ]
  },
  {
   "cell_type": "code",
   "execution_count": 15,
   "id": "473e2a86",
   "metadata": {
    "execution": {
     "iopub.execute_input": "2022-11-14T11:40:28.122221Z",
     "iopub.status.busy": "2022-11-14T11:40:28.122221Z",
     "iopub.status.idle": "2022-11-14T11:40:50.176311Z",
     "shell.execute_reply": "2022-11-14T11:40:50.176311Z"
    }
   },
   "outputs": [],
   "source": [
    "image_data_mx, image_data_int = map_ids_to_color(train_id, test_id, results_train, results_test)\n",
    "marked_events = map_events_to_color(events, train_id, test_id, results_train, results_test)\n",
    "month_ticks = map_ids_to_color_by_day(train_id, test_id, results_train, results_test)\n",
    "draw_colormesh_by_tick(image_data_mx, save=True, filename=network_name, display_data=display_data)\n",
    "draw_colormesh_by_event(marked_events, save=True, filename=network_name, display_data=display_data)\n",
    "draw_colormesh_by_month(month_ticks, save=True, filename=network_name, display_data=display_data)"
   ]
  },
  {
   "cell_type": "code",
   "execution_count": null,
   "id": "0902138a",
   "metadata": {},
   "outputs": [],
   "source": []
  }
 ],
 "metadata": {
  "kernelspec": {
   "display_name": "Python 3.8.13 ('mlunn2')",
   "language": "python",
   "name": "python3"
  },
  "language_info": {
   "codemirror_mode": {
    "name": "ipython",
    "version": 3
   },
   "file_extension": ".py",
   "mimetype": "text/x-python",
   "name": "python",
   "nbconvert_exporter": "python",
   "pygments_lexer": "ipython3",
   "version": "3.8.13"
  },
  "vscode": {
   "interpreter": {
    "hash": "7906f88924d0acbcc878920ce9dbcc77a020e1b0135b8245f9ac081820afa623"
   }
  },
  "widgets": {
   "application/vnd.jupyter.widget-state+json": {
    "state": {
     "20912a1f092547a9bc4e624461d8ef4e": {
      "model_module": "@jupyter-widgets/controls",
      "model_module_version": "1.5.0",
      "model_name": "ProgressStyleModel",
      "state": {
       "_model_module": "@jupyter-widgets/controls",
       "_model_module_version": "1.5.0",
       "_model_name": "ProgressStyleModel",
       "_view_count": null,
       "_view_module": "@jupyter-widgets/base",
       "_view_module_version": "1.2.0",
       "_view_name": "StyleView",
       "bar_color": null,
       "description_width": ""
      }
     },
     "32fc5274f5394e7989b61af5021a4c90": {
      "model_module": "@jupyter-widgets/controls",
      "model_module_version": "1.5.0",
      "model_name": "HTMLModel",
      "state": {
       "_dom_classes": [],
       "_model_module": "@jupyter-widgets/controls",
       "_model_module_version": "1.5.0",
       "_model_name": "HTMLModel",
       "_view_count": null,
       "_view_module": "@jupyter-widgets/controls",
       "_view_module_version": "1.5.0",
       "_view_name": "HTMLView",
       "description": "",
       "description_tooltip": null,
       "layout": "IPY_MODEL_9da3cf0c4d4d4689bc1ba28c47425dbb",
       "placeholder": "​",
       "style": "IPY_MODEL_4101ff17e4074021b5cc56924f134676",
       "value": " 10/10 [00:37&lt;00:00,  3.89s/it]"
      }
     },
     "4101ff17e4074021b5cc56924f134676": {
      "model_module": "@jupyter-widgets/controls",
      "model_module_version": "1.5.0",
      "model_name": "DescriptionStyleModel",
      "state": {
       "_model_module": "@jupyter-widgets/controls",
       "_model_module_version": "1.5.0",
       "_model_name": "DescriptionStyleModel",
       "_view_count": null,
       "_view_module": "@jupyter-widgets/base",
       "_view_module_version": "1.2.0",
       "_view_name": "StyleView",
       "description_width": ""
      }
     },
     "41ad8852750b43b3a01dbdd3bced09a2": {
      "model_module": "@jupyter-widgets/base",
      "model_module_version": "1.2.0",
      "model_name": "LayoutModel",
      "state": {
       "_model_module": "@jupyter-widgets/base",
       "_model_module_version": "1.2.0",
       "_model_name": "LayoutModel",
       "_view_count": null,
       "_view_module": "@jupyter-widgets/base",
       "_view_module_version": "1.2.0",
       "_view_name": "LayoutView",
       "align_content": null,
       "align_items": null,
       "align_self": null,
       "border": null,
       "bottom": null,
       "display": null,
       "flex": null,
       "flex_flow": null,
       "grid_area": null,
       "grid_auto_columns": null,
       "grid_auto_flow": null,
       "grid_auto_rows": null,
       "grid_column": null,
       "grid_gap": null,
       "grid_row": null,
       "grid_template_areas": null,
       "grid_template_columns": null,
       "grid_template_rows": null,
       "height": null,
       "justify_content": null,
       "justify_items": null,
       "left": null,
       "margin": null,
       "max_height": null,
       "max_width": null,
       "min_height": null,
       "min_width": null,
       "object_fit": null,
       "object_position": null,
       "order": null,
       "overflow": null,
       "overflow_x": null,
       "overflow_y": null,
       "padding": null,
       "right": null,
       "top": null,
       "visibility": null,
       "width": null
      }
     },
     "64e2502cdddb48afaa7350d5204f8ff8": {
      "model_module": "@jupyter-widgets/controls",
      "model_module_version": "1.5.0",
      "model_name": "DescriptionStyleModel",
      "state": {
       "_model_module": "@jupyter-widgets/controls",
       "_model_module_version": "1.5.0",
       "_model_name": "DescriptionStyleModel",
       "_view_count": null,
       "_view_module": "@jupyter-widgets/base",
       "_view_module_version": "1.2.0",
       "_view_name": "StyleView",
       "description_width": ""
      }
     },
     "9da3cf0c4d4d4689bc1ba28c47425dbb": {
      "model_module": "@jupyter-widgets/base",
      "model_module_version": "1.2.0",
      "model_name": "LayoutModel",
      "state": {
       "_model_module": "@jupyter-widgets/base",
       "_model_module_version": "1.2.0",
       "_model_name": "LayoutModel",
       "_view_count": null,
       "_view_module": "@jupyter-widgets/base",
       "_view_module_version": "1.2.0",
       "_view_name": "LayoutView",
       "align_content": null,
       "align_items": null,
       "align_self": null,
       "border": null,
       "bottom": null,
       "display": null,
       "flex": null,
       "flex_flow": null,
       "grid_area": null,
       "grid_auto_columns": null,
       "grid_auto_flow": null,
       "grid_auto_rows": null,
       "grid_column": null,
       "grid_gap": null,
       "grid_row": null,
       "grid_template_areas": null,
       "grid_template_columns": null,
       "grid_template_rows": null,
       "height": null,
       "justify_content": null,
       "justify_items": null,
       "left": null,
       "margin": null,
       "max_height": null,
       "max_width": null,
       "min_height": null,
       "min_width": null,
       "object_fit": null,
       "object_position": null,
       "order": null,
       "overflow": null,
       "overflow_x": null,
       "overflow_y": null,
       "padding": null,
       "right": null,
       "top": null,
       "visibility": null,
       "width": null
      }
     },
     "ce8e6e405ee34023a3101e8fada01a79": {
      "model_module": "@jupyter-widgets/controls",
      "model_module_version": "1.5.0",
      "model_name": "HBoxModel",
      "state": {
       "_dom_classes": [],
       "_model_module": "@jupyter-widgets/controls",
       "_model_module_version": "1.5.0",
       "_model_name": "HBoxModel",
       "_view_count": null,
       "_view_module": "@jupyter-widgets/controls",
       "_view_module_version": "1.5.0",
       "_view_name": "HBoxView",
       "box_style": "",
       "children": [
        "IPY_MODEL_d56b03773b32442cb62e3a54bb2e21ee",
        "IPY_MODEL_daaa4fb4cf1041e49b8cac6c203537b3",
        "IPY_MODEL_32fc5274f5394e7989b61af5021a4c90"
       ],
       "layout": "IPY_MODEL_cf64f1d78f1b4044ae6784bc66f1c909"
      }
     },
     "cf64f1d78f1b4044ae6784bc66f1c909": {
      "model_module": "@jupyter-widgets/base",
      "model_module_version": "1.2.0",
      "model_name": "LayoutModel",
      "state": {
       "_model_module": "@jupyter-widgets/base",
       "_model_module_version": "1.2.0",
       "_model_name": "LayoutModel",
       "_view_count": null,
       "_view_module": "@jupyter-widgets/base",
       "_view_module_version": "1.2.0",
       "_view_name": "LayoutView",
       "align_content": null,
       "align_items": null,
       "align_self": null,
       "border": null,
       "bottom": null,
       "display": null,
       "flex": null,
       "flex_flow": null,
       "grid_area": null,
       "grid_auto_columns": null,
       "grid_auto_flow": null,
       "grid_auto_rows": null,
       "grid_column": null,
       "grid_gap": null,
       "grid_row": null,
       "grid_template_areas": null,
       "grid_template_columns": null,
       "grid_template_rows": null,
       "height": null,
       "justify_content": null,
       "justify_items": null,
       "left": null,
       "margin": null,
       "max_height": null,
       "max_width": null,
       "min_height": null,
       "min_width": null,
       "object_fit": null,
       "object_position": null,
       "order": null,
       "overflow": null,
       "overflow_x": null,
       "overflow_y": null,
       "padding": null,
       "right": null,
       "top": null,
       "visibility": null,
       "width": null
      }
     },
     "d56b03773b32442cb62e3a54bb2e21ee": {
      "model_module": "@jupyter-widgets/controls",
      "model_module_version": "1.5.0",
      "model_name": "HTMLModel",
      "state": {
       "_dom_classes": [],
       "_model_module": "@jupyter-widgets/controls",
       "_model_module_version": "1.5.0",
       "_model_name": "HTMLModel",
       "_view_count": null,
       "_view_module": "@jupyter-widgets/controls",
       "_view_module_version": "1.5.0",
       "_view_name": "HTMLView",
       "description": "",
       "description_tooltip": null,
       "layout": "IPY_MODEL_f48b08e2f34447e99f29507bb0690442",
       "placeholder": "​",
       "style": "IPY_MODEL_64e2502cdddb48afaa7350d5204f8ff8",
       "value": "100%"
      }
     },
     "daaa4fb4cf1041e49b8cac6c203537b3": {
      "model_module": "@jupyter-widgets/controls",
      "model_module_version": "1.5.0",
      "model_name": "FloatProgressModel",
      "state": {
       "_dom_classes": [],
       "_model_module": "@jupyter-widgets/controls",
       "_model_module_version": "1.5.0",
       "_model_name": "FloatProgressModel",
       "_view_count": null,
       "_view_module": "@jupyter-widgets/controls",
       "_view_module_version": "1.5.0",
       "_view_name": "ProgressView",
       "bar_style": "success",
       "description": "",
       "description_tooltip": null,
       "layout": "IPY_MODEL_41ad8852750b43b3a01dbdd3bced09a2",
       "max": 10,
       "min": 0,
       "orientation": "horizontal",
       "style": "IPY_MODEL_20912a1f092547a9bc4e624461d8ef4e",
       "value": 10
      }
     },
     "f48b08e2f34447e99f29507bb0690442": {
      "model_module": "@jupyter-widgets/base",
      "model_module_version": "1.2.0",
      "model_name": "LayoutModel",
      "state": {
       "_model_module": "@jupyter-widgets/base",
       "_model_module_version": "1.2.0",
       "_model_name": "LayoutModel",
       "_view_count": null,
       "_view_module": "@jupyter-widgets/base",
       "_view_module_version": "1.2.0",
       "_view_name": "LayoutView",
       "align_content": null,
       "align_items": null,
       "align_self": null,
       "border": null,
       "bottom": null,
       "display": null,
       "flex": null,
       "flex_flow": null,
       "grid_area": null,
       "grid_auto_columns": null,
       "grid_auto_flow": null,
       "grid_auto_rows": null,
       "grid_column": null,
       "grid_gap": null,
       "grid_row": null,
       "grid_template_areas": null,
       "grid_template_columns": null,
       "grid_template_rows": null,
       "height": null,
       "justify_content": null,
       "justify_items": null,
       "left": null,
       "margin": null,
       "max_height": null,
       "max_width": null,
       "min_height": null,
       "min_width": null,
       "object_fit": null,
       "object_position": null,
       "order": null,
       "overflow": null,
       "overflow_x": null,
       "overflow_y": null,
       "padding": null,
       "right": null,
       "top": null,
       "visibility": null,
       "width": null
      }
     }
    },
    "version_major": 2,
    "version_minor": 0
   }
  }
 },
 "nbformat": 4,
 "nbformat_minor": 5
}
