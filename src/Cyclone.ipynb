{
 "cells": [
  {
   "cell_type": "code",
   "execution_count": 1,
   "id": "70e0c2f0",
   "metadata": {
    "execution": {
     "iopub.execute_input": "2022-10-14T09:20:42.199794Z",
     "iopub.status.busy": "2022-10-14T09:20:42.198793Z",
     "iopub.status.idle": "2022-10-14T09:20:44.829924Z",
     "shell.execute_reply": "2022-10-14T09:20:44.829924Z"
    }
   },
   "outputs": [],
   "source": [
    "import numpy as np\n",
    "import pandas as pd\n",
    "import matplotlib.pyplot as plt\n",
    "%matplotlib inline\n",
    "import torch\n",
    "import torch.nn as nn\n",
    "from torch import optim\n",
    "from sklearn.utils import class_weight\n",
    "from scipy.stats import *\n",
    "from torch.autograd import Variable\n",
    "from tqdm.notebook import tqdm\n",
    "\n",
    "from save_data import save_data\n",
    "from sigma import sigma\n",
    "from get_test_stats import get_test_stats\n",
    "from size_out import *\n",
    "from test import test\n",
    "from train import train\n",
    "from parameters import *\n",
    "from read_data import read_data\n",
    "from preproc_data import *\n",
    "from label_data import label_data\n",
    "from split_data import split_data\n",
    "from detection import *\n",
    "\n",
    "%load_ext autoreload\n",
    "%autoreload 2"
   ]
  },
  {
   "cell_type": "code",
   "execution_count": 2,
   "id": "56c42c7b",
   "metadata": {
    "execution": {
     "iopub.execute_input": "2022-10-14T09:20:44.832927Z",
     "iopub.status.busy": "2022-10-14T09:20:44.832927Z",
     "iopub.status.idle": "2022-10-14T09:21:00.099805Z",
     "shell.execute_reply": "2022-10-14T09:21:00.099805Z"
    }
   },
   "outputs": [],
   "source": [
    "cyclone_events, data = read_data(path='../data')\n",
    "# Consider renaming first variable\n",
    "cyclone_events_data, data, metrics = preproc_data(cyclone_events, metrics=data)\n",
    "labels, events = label_data(cyclone_events_data.ce2)\n",
    "train_data, test_data, labels_train, labels_test, train_id, test_id = split_data(data, labels, ratio=0.8)"
   ]
  },
  {
   "cell_type": "code",
   "execution_count": 3,
   "id": "4ca8496b",
   "metadata": {
    "execution": {
     "iopub.execute_input": "2022-10-14T09:21:00.102808Z",
     "iopub.status.busy": "2022-10-14T09:21:00.102808Z",
     "iopub.status.idle": "2022-10-14T09:21:00.304992Z",
     "shell.execute_reply": "2022-10-14T09:21:00.304992Z"
    }
   },
   "outputs": [],
   "source": [
    "desc = \"First network (10 epochs) with following layers: MaxPooling with kernel=stride=2, \\\n",
    "custom layer applying formula (w*x - a) * b, sigmoid, custom layer applying sum(x) - c. \\\n",
    "Loss - BCELossWithLogits, class weigths applied. Optimizer - Adam with lr=0.0001.\"\n",
    "filename = \"Cyclone.ipynb\"\n",
    "network_name = filename.split('.')[0]\n",
    "comment = \"Pretty nice.\""
   ]
  },
  {
   "cell_type": "code",
   "execution_count": 4,
   "id": "2e039ec8",
   "metadata": {
    "execution": {
     "iopub.execute_input": "2022-10-14T09:21:00.307995Z",
     "iopub.status.busy": "2022-10-14T09:21:00.307995Z",
     "iopub.status.idle": "2022-10-14T09:21:00.512180Z",
     "shell.execute_reply": "2022-10-14T09:21:00.512180Z"
    }
   },
   "outputs": [],
   "source": [
    "class MyLayer1(nn.Module):\n",
    "    \n",
    "    def __init__(self, w, a, b):\n",
    "        super().__init__()   \n",
    "        self.weight = w\n",
    "        self.a = a\n",
    "        self.b = b\n",
    "        \n",
    "    def forward(self, x):\n",
    "        # x * w\n",
    "        x = torch.mul(x, self.weight)\n",
    "        # x * w - a\n",
    "        x = torch.sub(x, self.a)\n",
    "        # (x * w - a) * b\n",
    "        x = torch.mul(x, self.b)\n",
    "        return x\n",
    "\n",
    "class MyLayer2(nn.Module):\n",
    "    def __init__(self, c):\n",
    "        super().__init__()\n",
    "        self.c = c\n",
    "        \n",
    "    def forward(self, x):\n",
    "        x = torch.sum(x, dim=(2, 3))\n",
    "        x = x.reshape(x.shape[0])\n",
    "        x = torch.sub(x, self.c)\n",
    "        return x\n",
    "\n",
    "class SimpleNN(nn.Module):\n",
    "    def __init__(self, w, a, b, c):\n",
    "        super(SimpleNN, self).__init__()\n",
    "        self.w = nn.Parameter(w, requires_grad=True)  \n",
    "        self.a = nn.Parameter(a, requires_grad=True)\n",
    "        self.b = nn.Parameter(b, requires_grad=True)\n",
    "        self.c = nn.Parameter(c, requires_grad=True)\n",
    "        self.maxpool = nn.MaxPool2d(kernel_size=2, stride=2)\n",
    "        self.layer1 = MyLayer1(self.w, self.a, self.b)\n",
    "        self.sigmoid = nn.Sigmoid()\n",
    "        self.layer2 = MyLayer2(self.c)\n",
    "    \n",
    "    def forward(self, x):\n",
    "        x = self.maxpool(x)\n",
    "        x = self.layer1(x)\n",
    "        x = self.sigmoid(x)\n",
    "        x = self.layer2(x)\n",
    "        return x"
   ]
  },
  {
   "cell_type": "markdown",
   "id": "5e4c3398",
   "metadata": {},
   "source": [
    "$$\\sigma(\\sum(\\sigma((w*x - a) * b)) - c)$$"
   ]
  },
  {
   "cell_type": "code",
   "execution_count": 5,
   "id": "d6a6ce0b",
   "metadata": {
    "execution": {
     "iopub.execute_input": "2022-10-14T09:21:00.515183Z",
     "iopub.status.busy": "2022-10-14T09:21:00.514182Z",
     "iopub.status.idle": "2022-10-14T09:21:00.909541Z",
     "shell.execute_reply": "2022-10-14T09:21:00.909541Z"
    }
   },
   "outputs": [
    {
     "name": "stdout",
     "output_type": "stream",
     "text": [
      "tensor([ 0.5117, 21.8943], dtype=torch.float64)\n"
     ]
    }
   ],
   "source": [
    "num_epochs = 10\n",
    "batch_size = 12\n",
    "\n",
    "w = torch.empty(size=(), dtype=torch.float)\n",
    "a = torch.empty(size=(), dtype=torch.float)\n",
    "b = torch.empty(size=(), dtype=torch.float)\n",
    "c = torch.empty(size=(), dtype=torch.float)\n",
    "\n",
    "nn.init.constant_(a, val=1)\n",
    "nn.init.constant_(b, val=50)\n",
    "nn.init.constant_(w, val=0.5) # weight init\n",
    "nn.init.constant_(c, val=2)\n",
    "\n",
    "cnn = SimpleNN(w, a, b, c)\n",
    "\n",
    "y = torch.tensor(list(labels_train))\n",
    "class_weights=class_weight.compute_class_weight(class_weight='balanced', classes=np.unique(y), y=y.numpy())\n",
    "class_weights=torch.tensor(class_weights, dtype=torch.double)\n",
    "print(class_weights)\n",
    "loss_func = nn.BCEWithLogitsLoss(pos_weight=class_weights[1]/class_weights[0], reduction='mean') \n",
    "optimizer = optim.Adam(cnn.parameters(), lr = 0.0001)  "
   ]
  },
  {
   "cell_type": "code",
   "execution_count": 6,
   "id": "5e1fb55c",
   "metadata": {
    "execution": {
     "iopub.execute_input": "2022-10-14T09:21:00.912543Z",
     "iopub.status.busy": "2022-10-14T09:21:00.911543Z",
     "iopub.status.idle": "2022-10-14T09:21:01.082698Z",
     "shell.execute_reply": "2022-10-14T09:21:01.082698Z"
    }
   },
   "outputs": [],
   "source": [
    "hyperparameters = (batch_size, w.item(), a.item(), b.item(), c.item())"
   ]
  },
  {
   "cell_type": "code",
   "execution_count": 7,
   "id": "02352553",
   "metadata": {
    "execution": {
     "iopub.execute_input": "2022-10-14T09:21:01.084700Z",
     "iopub.status.busy": "2022-10-14T09:21:01.084700Z",
     "iopub.status.idle": "2022-10-14T09:24:25.958078Z",
     "shell.execute_reply": "2022-10-14T09:24:25.958078Z"
    }
   },
   "outputs": [
    {
     "data": {
      "image/png": "[encoded data removed]",
      "text/plain": [
       "<Figure size 1296x864 with 6 Axes>"
      ]
     },
     "metadata": {
      "needs_background": "light"
     },
     "output_type": "display_data"
    }
   ],
   "source": [
    "auc_test, auc_train = train(cnn, batch_size, num_epochs, train_data, labels_train, loss_func, optimizer, (test_data, labels_test), draw=False, step_test=True, )"
   ]
  },
  {
   "cell_type": "code",
   "execution_count": 8,
   "id": "68dc6738",
   "metadata": {
    "execution": {
     "iopub.execute_input": "2022-10-14T09:24:25.961081Z",
     "iopub.status.busy": "2022-10-14T09:24:25.961081Z",
     "iopub.status.idle": "2022-10-14T09:24:40.885646Z",
     "shell.execute_reply": "2022-10-14T09:24:40.885646Z"
    }
   },
   "outputs": [],
   "source": [
    "resulting_hyperparameters = [param.data.item() for name, param in cnn.named_parameters()]\n",
    "\n",
    "tp_test, tn_test, fp_test, fn_test, sigmas, results_test = test(cnn, test_data, labels_test)\n",
    "test_stats = get_test_stats(test_data.shape[2], tp_test, tn_test, fp_test, fn_test, sigmas, print_res=False)\n",
    "\n",
    "tp_train, tn_train, fp_train, fn_train, sigmas, results_train = test(cnn, train_data, labels_train)\n",
    "train_stats = get_test_stats(train_data.shape[2], tp_train, tn_train, fp_train, fn_train, sigmas, print_res=False)\n",
    "\n",
    "trains_stat_vals = list(vars(train_stats).values())\n",
    "test_stat_vals = list(vars(test_stats).values())\n",
    "\n",
    "export_stats = [(item_train, item_test) for (item_train, item_test) in zip(trains_stat_vals, test_stat_vals)]\n",
    "network_params = NetworkParams(network_name, desc, filename, hyperparameters, resulting_hyperparameters, export_stats, auc_train, auc_test, comment)\n",
    "network_params.save()\n",
    "\n",
    "display_data = DisplayData(test_stats.conf_matrix, train_stats.conf_matrix)"
   ]
  },
  {
   "cell_type": "code",
   "execution_count": 9,
   "id": "e6ba5512",
   "metadata": {
    "execution": {
     "iopub.execute_input": "2022-10-14T09:24:40.888649Z",
     "iopub.status.busy": "2022-10-14T09:24:40.888649Z",
     "iopub.status.idle": "2022-10-14T09:24:53.653252Z",
     "shell.execute_reply": "2022-10-14T09:24:53.653252Z"
    }
   },
   "outputs": [],
   "source": [
    "image_data_mx, image_data_int = map_ids_to_color(train_id, test_id, results_train, results_test)\n",
    "marked_events = map_events_to_color(events, train_id, test_id, results_train, results_test)\n",
    "draw_colormesh_by_tick(image_data_mx, save=True, filename=network_name, display_data=display_data)\n",
    "draw_colormesh_by_event(marked_events, save=True, filename=network_name, display_data=display_data)"
   ]
  }
 ],
 "metadata": {
  "interpreter": {
   "hash": "7906f88924d0acbcc878920ce9dbcc77a020e1b0135b8245f9ac081820afa623"
  },
  "kernelspec": {
   "display_name": "Python 3 (ipykernel)",
   "language": "python",
   "name": "python3"
  },
  "language_info": {
   "codemirror_mode": {
    "name": "ipython",
    "version": 3
   },
   "file_extension": ".py",
   "mimetype": "text/x-python",
   "name": "python",
   "nbconvert_exporter": "python",
   "pygments_lexer": "ipython3",
   "version": "3.8.13"
  },
  "widgets": {
   "application/vnd.jupyter.widget-state+json": {
    "state": {
     "155deb0449434c9793696dbb17490b00": {
      "model_module": "@jupyter-widgets/controls",
      "model_module_version": "1.5.0",
      "model_name": "FloatProgressModel",
      "state": {
       "_dom_classes": [],
       "_model_module": "@jupyter-widgets/controls",
       "_model_module_version": "1.5.0",
       "_model_name": "FloatProgressModel",
       "_view_count": null,
       "_view_module": "@jupyter-widgets/controls",
       "_view_module_version": "1.5.0",
       "_view_name": "ProgressView",
       "bar_style": "success",
       "description": "",
       "description_tooltip": null,
       "layout": "IPY_MODEL_1ca26b675a1347b0a3bf6130e8c46301",
       "max": 10.0,
       "min": 0.0,
       "orientation": "horizontal",
       "style": "IPY_MODEL_5cff4c226ef349669b3df9fbb22972b4",
       "value": 10.0
      }
     },
     "1ca26b675a1347b0a3bf6130e8c46301": {
      "model_module": "@jupyter-widgets/base",
      "model_module_version": "1.2.0",
      "model_name": "LayoutModel",
      "state": {
       "_model_module": "@jupyter-widgets/base",
       "_model_module_version": "1.2.0",
       "_model_name": "LayoutModel",
       "_view_count": null,
       "_view_module": "@jupyter-widgets/base",
       "_view_module_version": "1.2.0",
       "_view_name": "LayoutView",
       "align_content": null,
       "align_items": null,
       "align_self": null,
       "border": null,
       "bottom": null,
       "display": null,
       "flex": null,
       "flex_flow": null,
       "grid_area": null,
       "grid_auto_columns": null,
       "grid_auto_flow": null,
       "grid_auto_rows": null,
       "grid_column": null,
       "grid_gap": null,
       "grid_row": null,
       "grid_template_areas": null,
       "grid_template_columns": null,
       "grid_template_rows": null,
       "height": null,
       "justify_content": null,
       "justify_items": null,
       "left": null,
       "margin": null,
       "max_height": null,
       "max_width": null,
       "min_height": null,
       "min_width": null,
       "object_fit": null,
       "object_position": null,
       "order": null,
       "overflow": null,
       "overflow_x": null,
       "overflow_y": null,
       "padding": null,
       "right": null,
       "top": null,
       "visibility": null,
       "width": null
      }
     },
     "28c2c63752364d9086be5a4ce7d64008": {
      "model_module": "@jupyter-widgets/base",
      "model_module_version": "1.2.0",
      "model_name": "LayoutModel",
      "state": {
       "_model_module": "@jupyter-widgets/base",
       "_model_module_version": "1.2.0",
       "_model_name": "LayoutModel",
       "_view_count": null,
       "_view_module": "@jupyter-widgets/base",
       "_view_module_version": "1.2.0",
       "_view_name": "LayoutView",
       "align_content": null,
       "align_items": null,
       "align_self": null,
       "border": null,
       "bottom": null,
       "display": null,
       "flex": null,
       "flex_flow": null,
       "grid_area": null,
       "grid_auto_columns": null,
       "grid_auto_flow": null,
       "grid_auto_rows": null,
       "grid_column": null,
       "grid_gap": null,
       "grid_row": null,
       "grid_template_areas": null,
       "grid_template_columns": null,
       "grid_template_rows": null,
       "height": null,
       "justify_content": null,
       "justify_items": null,
       "left": null,
       "margin": null,
       "max_height": null,
       "max_width": null,
       "min_height": null,
       "min_width": null,
       "object_fit": null,
       "object_position": null,
       "order": null,
       "overflow": null,
       "overflow_x": null,
       "overflow_y": null,
       "padding": null,
       "right": null,
       "top": null,
       "visibility": null,
       "width": null
      }
     },
     "4487d2ced29d4929b94299e127a1ea19": {
      "model_module": "@jupyter-widgets/controls",
      "model_module_version": "1.5.0",
      "model_name": "DescriptionStyleModel",
      "state": {
       "_model_module": "@jupyter-widgets/controls",
       "_model_module_version": "1.5.0",
       "_model_name": "DescriptionStyleModel",
       "_view_count": null,
       "_view_module": "@jupyter-widgets/base",
       "_view_module_version": "1.2.0",
       "_view_name": "StyleView",
       "description_width": ""
      }
     },
     "5cff4c226ef349669b3df9fbb22972b4": {
      "model_module": "@jupyter-widgets/controls",
      "model_module_version": "1.5.0",
      "model_name": "ProgressStyleModel",
      "state": {
       "_model_module": "@jupyter-widgets/controls",
       "_model_module_version": "1.5.0",
       "_model_name": "ProgressStyleModel",
       "_view_count": null,
       "_view_module": "@jupyter-widgets/base",
       "_view_module_version": "1.2.0",
       "_view_name": "StyleView",
       "bar_color": null,
       "description_width": ""
      }
     },
     "835da6780dc34db6a04b88d239c4b3d9": {
      "model_module": "@jupyter-widgets/controls",
      "model_module_version": "1.5.0",
      "model_name": "HTMLModel",
      "state": {
       "_dom_classes": [],
       "_model_module": "@jupyter-widgets/controls",
       "_model_module_version": "1.5.0",
       "_model_name": "HTMLModel",
       "_view_count": null,
       "_view_module": "@jupyter-widgets/controls",
       "_view_module_version": "1.5.0",
       "_view_name": "HTMLView",
       "description": "",
       "description_tooltip": null,
       "layout": "IPY_MODEL_a2cf232596f44e889b7efb322d395608",
       "placeholder": "​",
       "style": "IPY_MODEL_4487d2ced29d4929b94299e127a1ea19",
       "value": " 10/10 [03:24&lt;00:00, 20.88s/it]"
      }
     },
     "a2cf232596f44e889b7efb322d395608": {
      "model_module": "@jupyter-widgets/base",
      "model_module_version": "1.2.0",
      "model_name": "LayoutModel",
      "state": {
       "_model_module": "@jupyter-widgets/base",
       "_model_module_version": "1.2.0",
       "_model_name": "LayoutModel",
       "_view_count": null,
       "_view_module": "@jupyter-widgets/base",
       "_view_module_version": "1.2.0",
       "_view_name": "LayoutView",
       "align_content": null,
       "align_items": null,
       "align_self": null,
       "border": null,
       "bottom": null,
       "display": null,
       "flex": null,
       "flex_flow": null,
       "grid_area": null,
       "grid_auto_columns": null,
       "grid_auto_flow": null,
       "grid_auto_rows": null,
       "grid_column": null,
       "grid_gap": null,
       "grid_row": null,
       "grid_template_areas": null,
       "grid_template_columns": null,
       "grid_template_rows": null,
       "height": null,
       "justify_content": null,
       "justify_items": null,
       "left": null,
       "margin": null,
       "max_height": null,
       "max_width": null,
       "min_height": null,
       "min_width": null,
       "object_fit": null,
       "object_position": null,
       "order": null,
       "overflow": null,
       "overflow_x": null,
       "overflow_y": null,
       "padding": null,
       "right": null,
       "top": null,
       "visibility": null,
       "width": null
      }
     },
     "ac097527366f47a7b50a7a9911fbe23a": {
      "model_module": "@jupyter-widgets/controls",
      "model_module_version": "1.5.0",
      "model_name": "DescriptionStyleModel",
      "state": {
       "_model_module": "@jupyter-widgets/controls",
       "_model_module_version": "1.5.0",
       "_model_name": "DescriptionStyleModel",
       "_view_count": null,
       "_view_module": "@jupyter-widgets/base",
       "_view_module_version": "1.2.0",
       "_view_name": "StyleView",
       "description_width": ""
      }
     },
     "bd72fdcad93a4865b8e91c71ef8bad06": {
      "model_module": "@jupyter-widgets/controls",
      "model_module_version": "1.5.0",
      "model_name": "HTMLModel",
      "state": {
       "_dom_classes": [],
       "_model_module": "@jupyter-widgets/controls",
       "_model_module_version": "1.5.0",
       "_model_name": "HTMLModel",
       "_view_count": null,
       "_view_module": "@jupyter-widgets/controls",
       "_view_module_version": "1.5.0",
       "_view_name": "HTMLView",
       "description": "",
       "description_tooltip": null,
       "layout": "IPY_MODEL_ce0f413fcaa84b48bcc82e0bd2e083e1",
       "placeholder": "​",
       "style": "IPY_MODEL_ac097527366f47a7b50a7a9911fbe23a",
       "value": "100%"
      }
     },
     "c128ca9b994949e1ae063d5c1b1a5c1b": {
      "model_module": "@jupyter-widgets/controls",
      "model_module_version": "1.5.0",
      "model_name": "HBoxModel",
      "state": {
       "_dom_classes": [],
       "_model_module": "@jupyter-widgets/controls",
       "_model_module_version": "1.5.0",
       "_model_name": "HBoxModel",
       "_view_count": null,
       "_view_module": "@jupyter-widgets/controls",
       "_view_module_version": "1.5.0",
       "_view_name": "HBoxView",
       "box_style": "",
       "children": [
        "IPY_MODEL_bd72fdcad93a4865b8e91c71ef8bad06",
        "IPY_MODEL_155deb0449434c9793696dbb17490b00",
        "IPY_MODEL_835da6780dc34db6a04b88d239c4b3d9"
       ],
       "layout": "IPY_MODEL_28c2c63752364d9086be5a4ce7d64008"
      }
     },
     "ce0f413fcaa84b48bcc82e0bd2e083e1": {
      "model_module": "@jupyter-widgets/base",
      "model_module_version": "1.2.0",
      "model_name": "LayoutModel",
      "state": {
       "_model_module": "@jupyter-widgets/base",
       "_model_module_version": "1.2.0",
       "_model_name": "LayoutModel",
       "_view_count": null,
       "_view_module": "@jupyter-widgets/base",
       "_view_module_version": "1.2.0",
       "_view_name": "LayoutView",
       "align_content": null,
       "align_items": null,
       "align_self": null,
       "border": null,
       "bottom": null,
       "display": null,
       "flex": null,
       "flex_flow": null,
       "grid_area": null,
       "grid_auto_columns": null,
       "grid_auto_flow": null,
       "grid_auto_rows": null,
       "grid_column": null,
       "grid_gap": null,
       "grid_row": null,
       "grid_template_areas": null,
       "grid_template_columns": null,
       "grid_template_rows": null,
       "height": null,
       "justify_content": null,
       "justify_items": null,
       "left": null,
       "margin": null,
       "max_height": null,
       "max_width": null,
       "min_height": null,
       "min_width": null,
       "object_fit": null,
       "object_position": null,
       "order": null,
       "overflow": null,
       "overflow_x": null,
       "overflow_y": null,
       "padding": null,
       "right": null,
       "top": null,
       "visibility": null,
       "width": null
      }
     }
    },
    "version_major": 2,
    "version_minor": 0
   }
  }
 },
 "nbformat": 4,
 "nbformat_minor": 5
}
