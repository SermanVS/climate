{
 "cells": [
  {
   "cell_type": "code",
   "execution_count": 170,
   "id": "70e0c2f0",
   "metadata": {},
   "outputs": [],
   "source": [
    "import numpy as np\n",
    "import pandas as pd\n",
    "import matplotlib.pyplot as plt\n",
    "import torch\n",
    "import random\n",
    "import torch.nn as nn\n",
    "from torch import optim\n",
    "from sklearn.utils import class_weight\n",
    "from torch.autograd import Variable\n",
    "from tqdm import tqdm\n",
    "from torch.utils.data import DataLoader"
   ]
  },
  {
   "cell_type": "code",
   "execution_count": 171,
   "id": "3af38069",
   "metadata": {},
   "outputs": [],
   "source": [
    "cyclone_events = np.load('data/ERA5/ERA5_MSL_1982_2020_3h_0.75/cyclones_events.npz')\n",
    "closeness_w = np.load('data/ERA5/ERA5_MSL_1982_2020_3h_0.75/metrics_corr_land_masked_and_preproc_window_2d_delay_0d/probability_for_metrics/diff_metrics/network_metrics/closeness_w.npy')\n",
    "degree_w = np.load('data/ERA5/ERA5_MSL_1982_2020_3h_0.75/metrics_corr_land_masked_and_preproc_window_2d_delay_0d/probability_for_metrics/diff_metrics/network_metrics/degree_w.npy')\n",
    "EVC_w = np.load('data/ERA5/ERA5_MSL_1982_2020_3h_0.75/metrics_corr_land_masked_and_preproc_window_2d_delay_0d/probability_for_metrics/diff_metrics/network_metrics/EVC_w.npy')\n",
    "LCC_w = np.load('data/ERA5/ERA5_MSL_1982_2020_3h_0.75/metrics_corr_land_masked_and_preproc_window_2d_delay_0d/probability_for_metrics/diff_metrics/network_metrics/LCC_w.npy')\n",
    "MSLP_preproc = np.load('data/ERA5/ERA5_MSL_1982_2020_3h_0.75/metrics_corr_land_masked_and_preproc_window_2d_delay_0d/probability_for_metrics/input_data/MSLP_preproc.npy')"
   ]
  },
  {
   "cell_type": "code",
   "execution_count": 172,
   "id": "56c42c7b",
   "metadata": {},
   "outputs": [],
   "source": [
    "cyclone_events_2 = cyclone_events[cyclone_events.files[0]]\n",
    "cyclone_events_4 = cyclone_events[cyclone_events.files[1]]\n",
    "cyclone_events_6 = cyclone_events[cyclone_events.files[2]]\n",
    "cyclone_events_8 = cyclone_events[cyclone_events.files[3]]\n",
    "cyclone_events_10 = cyclone_events[cyclone_events.files[4]]\n",
    "cyclone_events_12 = cyclone_events[cyclone_events.files[5]]"
   ]
  },
  {
   "cell_type": "code",
   "execution_count": 173,
   "id": "91852abd",
   "metadata": {},
   "outputs": [
    {
     "data": {
      "text/plain": [
       "(36, 69, 113960)"
      ]
     },
     "execution_count": 173,
     "metadata": {},
     "output_type": "execute_result"
    }
   ],
   "source": [
    "cyclone_events_2.shape"
   ]
  },
  {
   "cell_type": "code",
   "execution_count": 174,
   "id": "d46b1215",
   "metadata": {},
   "outputs": [],
   "source": [
    "MSLP_preproc = np.reshape(MSLP_preproc, (36, 69, 113960))"
   ]
  },
  {
   "cell_type": "code",
   "execution_count": 175,
   "id": "fe91f49f",
   "metadata": {},
   "outputs": [],
   "source": [
    "labels = np.zeros(113960)\n",
    "for i in range(113960):\n",
    "    if len(cyclone_events_2[:, :, i][cyclone_events_2[:, :, i] != False]) > 0:\n",
    "        labels[i] = 1"
   ]
  },
  {
   "cell_type": "code",
   "execution_count": 176,
   "id": "ea3fa579",
   "metadata": {},
   "outputs": [
    {
     "data": {
      "text/plain": [
       "'\\ncyclone_occurances = []\\nno_cyclone = []\\nfor i in range(113960):\\n    if len(cyclone_events_2[:, :, i][cyclone_events_2[:, :, i] != False]) > 0:\\n        cyclone_occurances.append(i)\\n    else:\\n        no_cyclone.append(i)\\n        \\nimport random\\nrandom.shuffle(cyclone_occurances)\\nrandom.shuffle(no_cyclone)    \\n\\nf1 = open(\"shuffle_cyclone.csv\", \"w\")\\nf2 = open(\"shuffle_no_cyclone.csv\", \"w\")\\n[f1.write(str(item) + \\',\\') for item in cyclone_occurances]\\n[f2.write(str(item) + \\',\\') for item in no_cyclone]\\nf1.close()\\nf2.close()\\n'"
      ]
     },
     "execution_count": 176,
     "metadata": {},
     "output_type": "execute_result"
    }
   ],
   "source": [
    "'''\n",
    "cyclone_occurances = []\n",
    "no_cyclone = []\n",
    "for i in range(113960):\n",
    "    if len(cyclone_events_2[:, :, i][cyclone_events_2[:, :, i] != False]) > 0:\n",
    "        cyclone_occurances.append(i)\n",
    "    else:\n",
    "        no_cyclone.append(i)\n",
    "        \n",
    "import random\n",
    "random.shuffle(cyclone_occurances)\n",
    "random.shuffle(no_cyclone)    \n",
    "\n",
    "f1 = open(\"shuffle_cyclone.csv\", \"w\")\n",
    "f2 = open(\"shuffle_no_cyclone.csv\", \"w\")\n",
    "[f1.write(str(item) + ',') for item in cyclone_occurances]\n",
    "[f2.write(str(item) + ',') for item in no_cyclone]\n",
    "f1.close()\n",
    "f2.close()\n",
    "'''"
   ]
  },
  {
   "cell_type": "code",
   "execution_count": 177,
   "id": "363862bd",
   "metadata": {},
   "outputs": [],
   "source": [
    "data = MSLP_preproc.copy().astype(np.float32)"
   ]
  },
  {
   "cell_type": "code",
   "execution_count": 178,
   "id": "c8ef3d4c",
   "metadata": {},
   "outputs": [],
   "source": [
    "data = -np.log(1 - data + 1e-10)"
   ]
  },
  {
   "cell_type": "code",
   "execution_count": 179,
   "id": "aff9b514",
   "metadata": {},
   "outputs": [
    {
     "data": {
      "text/plain": [
       "dtype('float32')"
      ]
     },
     "execution_count": 179,
     "metadata": {},
     "output_type": "execute_result"
    }
   ],
   "source": [
    "data.dtype"
   ]
  },
  {
   "cell_type": "code",
   "execution_count": 180,
   "id": "2f961a83",
   "metadata": {},
   "outputs": [],
   "source": [
    "cyclone_occurances = pd.read_csv(\"shuffle_cyclone.csv\", header=None)\n",
    "no_cyclone = pd.read_csv(\"shuffle_no_cyclone.csv\", header=None)\n",
    "\n",
    "np.nan_to_num(data, nan=0, copy=False)\n",
    "\n",
    "cyclone_occurances = cyclone_occurances.values[0]\n",
    "no_cyclone = no_cyclone.values[0]\n",
    "\n",
    "cut_cyclone = int(0.8 * len(cyclone_occurances))\n",
    "cut_no_cyclone = int(0.8 * len(no_cyclone))\n",
    "\n",
    "\n",
    "train_id = cyclone_occurances[:cut_cyclone].astype(int)\n",
    "train_id = np.append(train_id, no_cyclone[:cut_no_cyclone].astype(int))\n",
    "\n",
    "test_id = cyclone_occurances[cut_cyclone:-1].astype(int) \n",
    "test_id = np.append(test_id, no_cyclone[cut_no_cyclone:-1].astype(int))\n",
    "\n",
    "train_data = torch.tensor(data[:, :, train_id], dtype=torch.double)\n",
    "test_data = torch.tensor(data[:, :, test_id], dtype=torch.double)\n",
    "\n",
    "labels_train = torch.tensor(labels[train_id], dtype=torch.int)\n",
    "labels_test = torch.tensor(labels[test_id], dtype=torch.int)"
   ]
  },
  {
   "cell_type": "code",
   "execution_count": 342,
   "id": "17cfec15",
   "metadata": {
    "scrolled": true
   },
   "outputs": [
    {
     "data": {
      "text/plain": [
       "0"
      ]
     },
     "execution_count": 342,
     "metadata": {},
     "output_type": "execute_result"
    }
   ],
   "source": [
    "cyclone_events_12[:, :, 10584].sum()"
   ]
  },
  {
   "cell_type": "code",
   "execution_count": null,
   "id": "7b5bad8f",
   "metadata": {},
   "outputs": [],
   "source": [
    "10584"
   ]
  },
  {
   "cell_type": "code",
   "execution_count": 335,
   "id": "68c238a6",
   "metadata": {
    "scrolled": false
   },
   "outputs": [
    {
     "data": {
      "image/png": "[encoded data removed]",
      "text/plain": [
       "<Figure size 432x288 with 2 Axes>"
      ]
     },
     "metadata": {
      "needs_background": "light"
     },
     "output_type": "display_data"
    },
    {
     "data": {
      "image/png": "[encoded data removed]",
      "text/plain": [
       "<Figure size 432x288 with 2 Axes>"
      ]
     },
     "metadata": {
      "needs_background": "light"
     },
     "output_type": "display_data"
    },
    {
     "data": {
      "image/png": "[encoded data removed]",
      "text/plain": [
       "<Figure size 432x288 with 2 Axes>"
      ]
     },
     "metadata": {
      "needs_background": "light"
     },
     "output_type": "display_data"
    },
    {
     "data": {
      "image/png": "[encoded data removed]",
      "text/plain": [
       "<Figure size 432x288 with 2 Axes>"
      ]
     },
     "metadata": {
      "needs_background": "light"
     },
     "output_type": "display_data"
    },
    {
     "data": {
      "image/png": "[encoded data removed]",
      "text/plain": [
       "<Figure size 432x288 with 2 Axes>"
      ]
     },
     "metadata": {
      "needs_background": "light"
     },
     "output_type": "display_data"
    },
    {
     "data": {
      "image/png": "[encoded data removed]",
      "text/plain": [
       "<Figure size 432x288 with 2 Axes>"
      ]
     },
     "metadata": {
      "needs_background": "light"
     },
     "output_type": "display_data"
    },
    {
     "data": {
      "image/png": "[encoded data removed]",
      "text/plain": [
       "<Figure size 432x288 with 2 Axes>"
      ]
     },
     "metadata": {
      "needs_background": "light"
     },
     "output_type": "display_data"
    },
    {
     "data": {
      "image/png": "[encoded data removed]",
      "text/plain": [
       "<Figure size 432x288 with 2 Axes>"
      ]
     },
     "metadata": {
      "needs_background": "light"
     },
     "output_type": "display_data"
    },
    {
     "data": {
      "image/png": "[encoded data removed]",
      "text/plain": [
       "<Figure size 432x288 with 2 Axes>"
      ]
     },
     "metadata": {
      "needs_background": "light"
     },
     "output_type": "display_data"
    },
    {
     "data": {
      "image/png": "[encoded data removed]",
      "text/plain": [
       "<Figure size 432x288 with 2 Axes>"
      ]
     },
     "metadata": {
      "needs_background": "light"
     },
     "output_type": "display_data"
    }
   ],
   "source": [
    "for t in range(-5, 5):\n",
    "    plt.figure()\n",
    "    plt.imshow(data[:, :, 10584 + t], vmin=0, vmax=6)\n",
    "    plt.title((cyclone_events_2[:, :, 10584 + t]).sum())\n",
    "    plt.colorbar()\n",
    "    "
   ]
  },
  {
   "cell_type": "code",
   "execution_count": 327,
   "id": "8bb137a5",
   "metadata": {},
   "outputs": [
    {
     "data": {
      "text/plain": [
       "10584.0"
      ]
     },
     "execution_count": 327,
     "metadata": {},
     "output_type": "execute_result"
    }
   ],
   "source": [
    "no_cyclone[9650 - cut_cyclone]"
   ]
  },
  {
   "cell_type": "code",
   "execution_count": 182,
   "id": "22ed4386",
   "metadata": {},
   "outputs": [
    {
     "data": {
      "text/plain": [
       "(array([16318.,  6477.,  6680.,  5000.,     0.,     0.,     0.,     0.,\n",
       "            0.,  5305.]),\n",
       " array([ 0.       ,  2.3025851,  4.6051702,  6.907755 ,  9.2103405,\n",
       "        11.512925 , 13.81551  , 16.118095 , 18.420681 , 20.723265 ,\n",
       "        23.02585  ], dtype=float32),\n",
       " <BarContainer object of 10 artists>)"
      ]
     },
     "execution_count": 182,
     "metadata": {},
     "output_type": "execute_result"
    },
    {
     "data": {
      "image/png": "[encoded data removed]",
      "text/plain": [
       "<Figure size 432x288 with 1 Axes>"
      ]
     },
     "metadata": {
      "needs_background": "light"
     },
     "output_type": "display_data"
    }
   ],
   "source": [
    "plt.hist(data[cyclone_events_2].flatten())"
   ]
  },
  {
   "cell_type": "code",
   "execution_count": 183,
   "id": "e268a137",
   "metadata": {},
   "outputs": [],
   "source": [
    "values = data[:, :, cyclone_occurances.astype(int)[:-1]]"
   ]
  },
  {
   "cell_type": "code",
   "execution_count": 323,
   "id": "3cdbe8b0",
   "metadata": {},
   "outputs": [
    {
     "data": {
      "text/plain": [
       "9610"
      ]
     },
     "execution_count": 323,
     "metadata": {},
     "output_type": "execute_result"
    }
   ],
   "source": [
    "len(cyclone_occurances.astype(int)[:-1])\n"
   ]
  },
  {
   "cell_type": "code",
   "execution_count": 185,
   "id": "4ae40e0f",
   "metadata": {},
   "outputs": [
    {
     "data": {
      "text/plain": [
       "array([[0.        , 0.        , 0.        , ..., 0.        , 0.        ,\n",
       "        0.        ],\n",
       "       [0.50984955, 0.        , 0.        , ..., 0.        , 0.        ,\n",
       "        0.        ],\n",
       "       [0.3839693 , 0.5106629 , 0.        , ..., 0.        , 0.        ,\n",
       "        0.        ],\n",
       "       ...,\n",
       "       [0.8356472 , 0.81227386, 0.7493869 , ..., 0.16946511, 0.08359924,\n",
       "        0.        ],\n",
       "       [0.86885005, 0.82333595, 0.73400986, ..., 0.15410998, 0.09716126,\n",
       "        0.        ],\n",
       "       [0.8653637 , 0.8188964 , 0.72388834, ..., 0.13590586, 0.08028687,\n",
       "        0.03863983]], dtype=float32)"
      ]
     },
     "execution_count": 185,
     "metadata": {},
     "output_type": "execute_result"
    }
   ],
   "source": [
    "data[:, :, 87621]"
   ]
  },
  {
   "cell_type": "code",
   "execution_count": 186,
   "id": "48aecc10",
   "metadata": {},
   "outputs": [
    {
     "data": {
      "text/plain": [
       "array([[0., 0., 0., ..., 0., 0., 0.],\n",
       "       [0., 0., 0., ..., 0., 0., 0.],\n",
       "       [0., 0., 0., ..., 0., 0., 0.],\n",
       "       ...,\n",
       "       [0., 0., 0., ..., 0., 0., 0.],\n",
       "       [0., 0., 0., ..., 0., 0., 0.],\n",
       "       [0., 0., 0., ..., 0., 0., 0.]], dtype=float32)"
      ]
     },
     "execution_count": 186,
     "metadata": {},
     "output_type": "execute_result"
    }
   ],
   "source": [
    "values[0]"
   ]
  },
  {
   "cell_type": "code",
   "execution_count": 319,
   "id": "2eaaf49c",
   "metadata": {},
   "outputs": [
    {
     "data": {
      "text/plain": [
       "<matplotlib.colorbar.Colorbar at 0x1810f57a190>"
      ]
     },
     "execution_count": 319,
     "metadata": {},
     "output_type": "execute_result"
    },
    {
     "data": {
      "image/png": "[encoded data removed]",
      "text/plain": [
       "<Figure size 432x288 with 2 Axes>"
      ]
     },
     "metadata": {
      "needs_background": "light"
     },
     "output_type": "display_data"
    }
   ],
   "source": [
    "plt.imshow(data[:, :, 9651])\n",
    "plt.colorbar()"
   ]
  },
  {
   "cell_type": "code",
   "execution_count": 188,
   "id": "410f631c",
   "metadata": {},
   "outputs": [],
   "source": [
    "import math\n",
    "def conv2d_size_out(size, kernel_size=5, stride=2):\n",
    "    \"\"\"\n",
    "    common use case:\n",
    "    cur_layer_img_w = conv2d_size_out(cur_layer_img_w, kernel_size, stride)\n",
    "    cur_layer_img_h = conv2d_size_out(cur_layer_img_h, kernel_size, stride)\n",
    "    to understand the shape for dense layer's input\n",
    "    \"\"\"\n",
    "    return (size - (kernel_size - 1) - 1) // stride  + 1\n",
    "\n",
    "def maxpool2d_size_out(size, kernel_size=2, stride=2):\n",
    "    return math.floor((size - (kernel_size - 1) - 1) / stride + 1)"
   ]
  },
  {
   "cell_type": "code",
   "execution_count": 244,
   "id": "9104e1c9",
   "metadata": {},
   "outputs": [],
   "source": [
    "class CNN(nn.Module):\n",
    "    def __init__(self):\n",
    "        super(CNN, self).__init__()        \n",
    "        self.conv1 = nn.Sequential(         \n",
    "            nn.Conv2d(\n",
    "                in_channels=1,              \n",
    "                out_channels=36,            \n",
    "                kernel_size=5,          \n",
    "                stride=2),                              \n",
    "            nn.ReLU(),                      \n",
    "            nn.MaxPool2d(kernel_size=2),    \n",
    "        )\n",
    "        \n",
    "        new_w = maxpool2d_size_out(conv2d_size_out(36, 5, 2), 2, 2)\n",
    "        new_h = maxpool2d_size_out(conv2d_size_out(69, 5, 2), 2, 2)\n",
    "        \n",
    "        self.conv2 = nn.Sequential(         \n",
    "            nn.Conv2d(\n",
    "                in_channels=36,              \n",
    "                out_channels=72,            \n",
    "                kernel_size=5,          \n",
    "                stride=2),     \n",
    "            nn.ReLU(),                      \n",
    "            nn.MaxPool2d(2),                \n",
    "        )        \n",
    "        \n",
    "        new_w = maxpool2d_size_out(conv2d_size_out(new_w, 5, 2), 2, 2)\n",
    "        new_h = maxpool2d_size_out(conv2d_size_out(new_h, 5, 2), 2, 2)\n",
    "        linear_input_size = new_w * new_h * 72\n",
    "        # fully connected layer, output 2 classes\n",
    "        self.lin = nn.Linear(linear_input_size, 2) \n",
    "        self.out = nn.Sigmoid()\n",
    "    def forward(self, x):\n",
    "        x = self.conv1(x)\n",
    "        x = self.conv2(x)      \n",
    "        \n",
    "        # flatten the output of conv2 to (batch_size, 32 * 7 * 7)\n",
    "        x = x.view(x.size(0), -1)\n",
    "        x = self.lin(x)\n",
    "        output = self.out(x)\n",
    "        return output, x    \n",
    "        "
   ]
  },
  {
   "cell_type": "code",
   "execution_count": 310,
   "id": "944ee5cd",
   "metadata": {},
   "outputs": [],
   "source": [
    "class MyLayer1(nn.Module):\n",
    "    \n",
    "    def __init__(self, w):\n",
    "        super().__init__()   \n",
    "        self.weight = w\n",
    "        \n",
    "    def forward(self, x):\n",
    "        x = (x * self.weight - 1) * 50\n",
    "        return x\n",
    "\n",
    "class MyLayer2(nn.Module):\n",
    "    def __init__(self):\n",
    "        super().__init__()\n",
    "        \n",
    "    def forward(self, x):\n",
    "        return torch.sum(x) - 1\n",
    "\n",
    "class SimpleNN(nn.Module):\n",
    "    def __init__(self, w):\n",
    "        super(SimpleNN, self).__init__()\n",
    "        self.w = nn.Parameter(w, requires_grad=True)  \n",
    "        self.maxpool = nn.MaxPool2d(kernel_size=2, stride=2)\n",
    "        self.layer1 = MyLayer1(self.w)\n",
    "        self.sigmoid = nn.Sigmoid()\n",
    "        self.layer2 = MyLayer2()\n",
    "\n",
    "        #new_w = maxpool2d_size_out(size=36, kernel_size=2, stride=2)\n",
    "        #new_h = maxpool2d_size_out(size=69, kernel_size=2, stride=2)\n",
    "        #linear_input_size = new_w * new_h\n",
    "        #self.layer2 = nn.Sequential(\n",
    "        #    nn.Linear(linear_input_size, 1),\n",
    "        #    nn.Sigmoid()\n",
    "        #)\n",
    "        \n",
    "    \n",
    "    def forward(self, x):\n",
    "        plt.imshow(x[0, 0].detach().numpy())\n",
    "        plt.colorbar()\n",
    "        x = self.maxpool(x)\n",
    "        #print(x)\n",
    "        x = self.layer1(x)\n",
    "        x = self.sigmoid(x)\n",
    "        #print(x)\n",
    "        x = self.layer2(x)\n",
    "        #print(x)\n",
    "        #x = self.sigmoid(x)\n",
    "        #x = x.view(x.size(0), -1)\n",
    "        #x = self.layer2(x)\n",
    "        return x"
   ]
  },
  {
   "cell_type": "code",
   "execution_count": 322,
   "id": "26920324",
   "metadata": {},
   "outputs": [
    {
     "data": {
      "text/plain": [
       "tensor(0, dtype=torch.int32)"
      ]
     },
     "execution_count": 322,
     "metadata": {},
     "output_type": "execute_result"
    }
   ],
   "source": [
    "labels_train[9650]"
   ]
  },
  {
   "cell_type": "code",
   "execution_count": 321,
   "id": "5d7d2e1a",
   "metadata": {},
   "outputs": [
    {
     "data": {
      "text/plain": [
       "<matplotlib.colorbar.Colorbar at 0x1810f6e8a00>"
      ]
     },
     "execution_count": 321,
     "metadata": {},
     "output_type": "execute_result"
    },
    {
     "data": {
      "image/png": "[encoded data removed]",
      "text/plain": [
       "<Figure size 432x288 with 2 Axes>"
      ]
     },
     "metadata": {
      "needs_background": "light"
     },
     "output_type": "display_data"
    }
   ],
   "source": [
    "plt.imshow(train_data[:, :, 9650])\n",
    "plt.colorbar()"
   ]
  },
  {
   "cell_type": "code",
   "execution_count": 312,
   "id": "d6a6ce0b",
   "metadata": {},
   "outputs": [
    {
     "name": "stdout",
     "output_type": "stream",
     "text": [
      "tensor([0.5460, 5.9292], dtype=torch.float64)\n"
     ]
    }
   ],
   "source": [
    "w = torch.empty(size=(), dtype=torch.float)\n",
    "nn.init.uniform_(w, a=0.5, b=0.5) # weight init\n",
    "\n",
    "cnn = SimpleNN(w)\n",
    "\n",
    "y = torch.tensor(list(labels_train))\n",
    "class_weights=class_weight.compute_class_weight(class_weight='balanced', classes=np.unique(y), y=y.numpy())\n",
    "class_weights=torch.tensor(class_weights, dtype=torch.double)\n",
    "print(class_weights)\n",
    "loss_func = nn.BCEWithLogitsLoss(pos_weight=class_weights[1]/class_weights[0], reduction='mean') \n",
    "optimizer = optim.Adam(cnn.parameters(), lr = 0.0001)  "
   ]
  },
  {
   "cell_type": "code",
   "execution_count": 313,
   "id": "d58c164d",
   "metadata": {},
   "outputs": [
    {
     "name": "stdout",
     "output_type": "stream",
     "text": [
      "w Parameter containing:\n",
      "tensor(0.5000, requires_grad=True)\n"
     ]
    }
   ],
   "source": [
    "for name, param in cnn.named_parameters():\n",
    "    print(name, param)"
   ]
  },
  {
   "cell_type": "code",
   "execution_count": 314,
   "id": "02352553",
   "metadata": {},
   "outputs": [
    {
     "name": "stderr",
     "output_type": "stream",
     "text": [
      "100%|████████████████████████████████████████████████████████████████████████| 91168/91168 [00:00<00:00, 990055.87it/s]\n"
     ]
    },
    {
     "name": "stdout",
     "output_type": "stream",
     "text": [
      "tensor(0.3133, dtype=torch.float64,\n",
      "       grad_fn=<BinaryCrossEntropyWithLogitsBackward0>)\n",
      "tensor(1.6180e-11, dtype=torch.float64)\n",
      "w Parameter containing:\n",
      "tensor(0.4997, dtype=torch.float64, requires_grad=True)\n"
     ]
    },
    {
     "data": {
      "image/png": "[encoded data removed]",
      "text/plain": [
       "<Figure size 432x288 with 4 Axes>"
      ]
     },
     "metadata": {
      "needs_background": "light"
     },
     "output_type": "display_data"
    }
   ],
   "source": [
    "num_epochs = 1\n",
    "\n",
    "def train(num_epochs, cnn, train_data, labels_train):  \n",
    "    cnn.train()\n",
    "    \n",
    "    param_vals = []\n",
    "    loss_vals = []\n",
    "    output_vals = []\n",
    "    \n",
    "    cnn = cnn.double()\n",
    "        \n",
    "    # Train the model\n",
    "    batch_size = 1\n",
    "        \n",
    "    for epoch in range(num_epochs):\n",
    "        for i in tqdm(range(int(train_data.shape[2] / batch_size))):\n",
    "            \n",
    "            if (i != 9650):\n",
    "                continue\n",
    "            image = train_data[:, :, i]\n",
    "            label = labels_train[i]   \n",
    "            \n",
    "            image = image.unsqueeze(0) \n",
    "            image = image.unsqueeze(0) \n",
    "            label = label.unsqueeze(0) \n",
    "            label = label.unsqueeze(0) \n",
    "            # gives batch data, normalize x when iterate train_loader\n",
    "            \n",
    "            b_x = image   # batch x\n",
    "            b_y = label[0].to(torch.double)[0]  # batch y\n",
    "            \n",
    "            \n",
    "            for name, param in cnn.named_parameters():\n",
    "                param_vals.append(param.item())\n",
    "                \n",
    "            optimizer.zero_grad()\n",
    "            \n",
    "            output = cnn(b_x)\n",
    "            output_vals.append(output.item())\n",
    "            \n",
    "            loss = loss_func(input=output, target=b_y)\n",
    "            loss_vals.append(loss.item())\n",
    "            \n",
    "            # clear gradients for this training step   \n",
    "            # backpropagation, compute gradients \n",
    "            loss.backward()                # apply gradients             \n",
    "            optimizer.step()  \n",
    "        pass\n",
    "        print(loss)\n",
    "        print(list(cnn.parameters())[0].grad)\n",
    "        for name, param in cnn.named_parameters():\n",
    "            print(name, param)\n",
    "    return param_vals, loss_vals, output_vals\n",
    "\n",
    "pv, lv, ov = train(num_epochs, cnn, train_data, labels_train)"
   ]
  },
  {
   "cell_type": "code",
   "execution_count": null,
   "id": "aae58855",
   "metadata": {},
   "outputs": [],
   "source": [
    "b = [[0.9338, 0.0000, 0.0000, 0.0000, 0.0000, 0.0000, 0.0000, 0.0000,\n",
    "           0.0000, 0.0000, 0.0000, 0.0000, 0.0000, 0.0000, 0.0000, 0.0000,\n",
    "           0.0000, 0.0000, 0.0000, 0.0000, 0.0000, 0.0000, 0.0000, 0.0000,\n",
    "           0.0000, 0.0000, 0.0000, 0.0000, 0.0000, 0.0000, 0.0000, 0.0000,\n",
    "           0.0000, 0.0000],\n",
    "          [1.3183, 1.3183, 0.0000, 0.0000, 0.0000, 0.0000, 0.0000, 0.0000,\n",
    "           0.0000, 0.0000, 0.0000, 0.0000, 0.0000, 0.0000, 0.0000, 0.0000,\n",
    "           0.0000, 0.0000, 0.0000, 0.0000, 0.0000, 0.0000, 0.0000, 0.0000,\n",
    "           0.0000, 0.0000, 0.0000, 0.0000, 0.0000, 0.0000, 0.0000, 0.0000,\n",
    "           0.0000, 0.0000],\n",
    "          [1.4384, 1.5562, 1.6766, 0.0000, 1.3405, 0.0000, 0.0000, 0.0000,\n",
    "           0.0000, 0.0000, 0.0000, 0.0000, 0.0000, 0.0000, 0.0000, 0.0000,\n",
    "           0.0000, 0.0000, 0.0000, 0.0000, 0.0000, 0.0000, 0.0000, 0.0000,\n",
    "           0.0000, 0.0000, 0.0000, 0.0000, 0.0000, 0.0000, 0.0000, 0.0000,\n",
    "           0.0000, 0.0000],\n",
    "          [1.4302, 1.7220, 1.7667, 1.7004, 1.4847, 1.9410, 2.0717, 0.0000,\n",
    "           0.0000, 0.0000, 0.0000, 0.0000, 0.0000, 0.0000, 0.0000, 0.0000,\n",
    "           0.0000, 0.0000, 0.0000, 0.0000, 0.0000, 0.0000, 0.0000, 0.0000,\n",
    "           0.0000, 0.0000, 0.0000, 0.0000, 0.0000, 0.0000, 0.0000, 0.0000,\n",
    "           0.0000, 0.0000],\n",
    "          [0.0000, 1.6950, 1.7084, 1.5632, 0.0000, 1.9010, 2.4151, 3.1028,\n",
    "           2.6548, 2.2680, 2.2728, 2.1953, 0.0000, 0.0000, 0.0000, 0.0000,\n",
    "           0.0000, 0.0000, 0.0000, 0.0000, 0.0000, 0.0000, 0.0000, 0.0000,\n",
    "           0.0000, 0.0000, 0.0000, 0.0000, 0.0000, 0.0000, 0.0000, 0.0000,\n",
    "           0.0000, 0.0000],\n",
    "          [0.0000, 0.0000, 0.0000, 0.0000, 0.0000, 0.0000, 2.2219, 2.5370,\n",
    "           2.6759, 2.7193, 2.5432, 2.6759, 2.4598, 2.4372, 0.0000, 0.0000,\n",
    "           0.0000, 0.0000, 0.0000, 0.0000, 0.0000, 0.0000, 0.0000, 0.0000,\n",
    "           0.0000, 0.0000, 0.0000, 0.0000, 0.0000, 0.0000, 0.0000, 0.0000,\n",
    "           0.0000, 0.0000],\n",
    "          [0.0000, 0.0000, 0.0000, 0.0000, 0.0000, 0.0000, 1.9827, 2.4097,\n",
    "           2.6830, 2.8797, 2.9996, 3.0707, 2.9151, 2.6830, 0.0000, 2.2823,\n",
    "           0.0000, 0.0000, 0.0000, 0.0000, 0.0000, 0.0000, 0.0000, 0.0000,\n",
    "           0.0000, 2.3465, 2.1234, 1.9934, 1.8784, 0.0000, 0.0000, 0.0000,\n",
    "           0.0000, 0.0000],\n",
    "          [0.0000, 0.0000, 0.0000, 0.0000, 0.0000, 1.6257, 2.1909, 2.6830,\n",
    "           2.9707, 3.2939, 3.2552, 3.2058, 3.1587, 2.9151, 2.7268, 2.6830,\n",
    "           0.0000, 0.0000, 0.0000, 0.0000, 0.0000, 0.0000, 0.0000, 0.0000,\n",
    "           2.7494, 2.6618, 2.1997, 2.0992, 1.9898, 2.0115, 0.0000, 0.0000,\n",
    "           0.0000, 0.0000],\n",
    "          [0.0000, 0.0000, 0.0000, 0.0000, 0.0000, 1.7582, 2.1316, 2.7494,\n",
    "           3.2426, 3.4502, 3.4199, 3.2679, 3.1138, 3.0295, 2.9333, 2.9333,\n",
    "           0.0000, 0.0000, 0.0000, 0.0000, 0.0000, 0.0000, 0.0000, 2.7648,\n",
    "           2.9996, 2.7193, 2.4428, 2.2130, 2.3263, 2.4372, 0.0000, 0.0000,\n",
    "           0.0000, 0.0000],\n",
    "          [0.0000, 0.0000, 2.0115, 2.0188, 1.9043, 1.9175, 2.2265, 2.5557,\n",
    "           3.1473, 3.4657, 3.4502, 3.3619, 3.3342, 3.1473, 2.9996, 2.9899,\n",
    "           0.0000, 0.0000, 0.0000, 0.0000, 0.0000, 0.0000, 2.8043, 2.9333,\n",
    "           2.8288, 2.6974, 2.8624, 2.7726, 2.5494, 2.6688, 0.0000, 2.8539,\n",
    "           0.0000, 0.0000],\n",
    "          [0.0000, 1.9010, 2.0449, 2.0755, 1.9513, 2.0794, 2.3829, 2.6140,\n",
    "           2.8371, 3.1138, 3.2552, 3.3619, 3.3761, 3.1703, 2.9333, 3.0707,\n",
    "           2.9333, 0.0000, 0.0000, 0.0000, 2.5126, 3.0095, 3.0194, 2.9061,\n",
    "           3.0813, 2.9333, 3.1938, 3.0813, 2.8288, 2.7804, 2.9612, 2.9425,\n",
    "           3.0499, 0.0000],\n",
    "          [1.6559, 1.8105, 2.0912, 2.0992, 2.0717, 2.1953, 2.3829, 2.5309,\n",
    "           2.7120, 2.9802, 3.1248, 3.0813, 3.1248, 3.1248, 2.8972, 3.0813,\n",
    "           3.1138, 0.0000, 0.0000, 0.0000, 2.3935, 3.1138, 3.2679, 3.1587,\n",
    "           3.2179, 3.0920, 3.2552, 3.1820, 3.0499, 2.8710, 2.6410, 2.7343,\n",
    "           2.9333, 0.0000],\n",
    "          [1.4100, 1.6207, 2.0262, 2.2728, 2.2447, 2.2823, 2.6140, 2.6688,\n",
    "           2.6901, 2.8884, 2.9241, 3.0397, 3.1473, 2.9518, 2.7343, 3.0707,\n",
    "           3.1473, 2.3465, 0.0000, 0.0000, 2.4947, 3.3071, 3.4975, 3.3905,\n",
    "           3.4350, 3.4657, 3.1473, 3.7328, 3.5816, 3.1587, 3.1360, 3.2679,\n",
    "           3.2939, 0.0000],\n",
    "          [0.0000, 1.3021, 1.7302, 2.2219, 2.5309, 2.7648, 2.8624, 2.7418,\n",
    "           2.7046, 2.8710, 2.9061, 2.7963, 2.7963, 2.6974, 2.5066, 2.9707,\n",
    "           3.1587, 2.5812, 0.0000, 0.0000, 2.7963, 3.3206, 3.5642, 3.6734,\n",
    "           3.6173, 3.6356, 3.6543, 3.5993, 3.3761, 3.7745, 3.3206, 3.6356,\n",
    "           3.5137, 2.3619],\n",
    "          [0.0000, 1.4160, 1.8816, 2.2919, 2.6073, 2.7648, 2.7268, 2.6479,\n",
    "           2.8624, 3.0295, 3.0920, 2.7343, 2.4830, 2.5187, 2.4713, 2.8124,\n",
    "           2.9425, 2.6901, 2.3568, 2.8624, 3.0499, 3.1587, 3.3761, 3.5303,\n",
    "           3.6356, 3.8404, 4.1589, 4.4057, 4.1906, 3.9870, 4.0693, 4.0983,\n",
    "           3.7328, 2.3114],\n",
    "          [1.2128, 1.7638, 2.0411, 2.2775, 2.2728, 2.3723, 2.4830, 2.6342,\n",
    "           2.8884, 3.1248, 3.1473, 3.1138, 2.7726, 2.5309, 2.5748, 2.8972,\n",
    "           3.0499, 3.0603, 3.1820, 3.2058, 3.3905, 2.7418, 3.0194, 3.2939,\n",
    "           3.6734, 4.0411, 4.3665, 4.4891, 4.4057, 4.3665, 3.8404, 3.7534,\n",
    "           3.4975, 2.5684],\n",
    "          [1.4446, 1.5891, 1.7057, 1.8978, 2.1316, 2.3568, 2.3829, 2.4485,\n",
    "           2.6901, 3.1360, 3.1587, 3.2302, 3.0095, 2.9996, 2.8797, 2.7804,\n",
    "           3.1360, 3.4815, 3.6173, 3.6928, 3.5471, 3.6356, 3.4975, 3.4815,\n",
    "           3.5816, 4.1589, 4.1906, 4.3288, 4.1589, 4.1589, 3.5642, 3.0603,\n",
    "           2.7268, 2.5248],\n",
    "          [1.6407, 1.8532, 1.9582, 2.0912, 2.3619, 2.5066, 2.5370, 2.4541,\n",
    "           2.3114, 2.5812, 2.6548, 2.7571, 2.8206, 2.7648, 2.9061, 2.5187,\n",
    "           2.8455, 3.3480, 3.7126, 3.7960, 3.7534, 3.7960, 3.3905, 3.3071,\n",
    "           3.5993, 3.9870, 4.0983, 4.2573, 4.2573, 4.0411, 3.1703, 0.0000,\n",
    "           2.5877, 2.7120]]\n",
    "plt.imshow(b)\n",
    "plt.colorbar()"
   ]
  },
  {
   "cell_type": "code",
   "execution_count": 260,
   "id": "9746ebfb",
   "metadata": {},
   "outputs": [
    {
     "data": {
      "text/plain": [
       "<matplotlib.colorbar.Colorbar at 0x1810b4c33a0>"
      ]
     },
     "execution_count": 260,
     "metadata": {},
     "output_type": "execute_result"
    },
    {
     "data": {
      "image/png": "[encoded data removed]",
      "text/plain": [
       "<Figure size 432x288 with 2 Axes>"
      ]
     },
     "metadata": {
      "needs_background": "light"
     },
     "output_type": "display_data"
    }
   ],
   "source": [
    "a = np.array([[2.6523e-12, 1.9287e-22, 1.9287e-22, 1.9287e-22, 1.9287e-22,\n",
    "           1.9287e-22, 1.9287e-22, 1.9287e-22, 1.9287e-22, 1.9287e-22,\n",
    "           1.9287e-22, 1.9287e-22, 1.9287e-22, 1.9287e-22, 1.9287e-22,\n",
    "           1.9287e-22, 1.9287e-22, 1.9287e-22, 1.9287e-22, 1.9287e-22,\n",
    "           1.9287e-22, 1.9287e-22, 1.9287e-22, 1.9287e-22, 1.9287e-22,\n",
    "           1.9287e-22, 1.9287e-22, 1.9287e-22, 1.9287e-22, 1.9287e-22,\n",
    "           1.9287e-22, 1.9287e-22, 1.9287e-22, 1.9287e-22],\n",
    "          [3.9720e-08, 3.9720e-08, 1.9287e-22, 1.9287e-22, 1.9287e-22,\n",
    "           1.9287e-22, 1.9287e-22, 1.9287e-22, 1.9287e-22, 1.9287e-22,\n",
    "           1.9287e-22, 1.9287e-22, 1.9287e-22, 1.9287e-22, 1.9287e-22,\n",
    "           1.9287e-22, 1.9287e-22, 1.9287e-22, 1.9287e-22, 1.9287e-22,\n",
    "           1.9287e-22, 1.9287e-22, 1.9287e-22, 1.9287e-22, 1.9287e-22,\n",
    "           1.9287e-22, 1.9287e-22, 1.9287e-22, 1.9287e-22, 1.9287e-22,\n",
    "           1.9287e-22, 1.9287e-22, 1.9287e-22, 1.9287e-22],\n",
    "          [7.9913e-07, 1.5185e-05, 3.0791e-04, 1.9287e-22, 6.9088e-08,\n",
    "           1.9287e-22, 1.9287e-22, 1.9287e-22, 1.9287e-22, 1.9287e-22,\n",
    "           1.9287e-22, 1.9287e-22, 1.9287e-22, 1.9287e-22, 1.9287e-22,\n",
    "           1.9287e-22, 1.9287e-22, 1.9287e-22, 1.9287e-22, 1.9287e-22,\n",
    "           1.9287e-22, 1.9287e-22, 1.9287e-22, 1.9287e-22, 1.9287e-22,\n",
    "           1.9287e-22, 1.9287e-22, 1.9287e-22, 1.9287e-22, 1.9287e-22,\n",
    "           1.9287e-22, 1.9287e-22, 1.9287e-22, 1.9287e-22],\n",
    "          [6.5106e-07, 9.5738e-04, 2.9211e-03, 5.5782e-04, 2.5443e-06,\n",
    "           1.8633e-01, 8.5711e-01, 1.9287e-22, 1.9287e-22, 1.9287e-22,\n",
    "           1.9287e-22, 1.9287e-22, 1.9287e-22, 1.9287e-22, 1.9287e-22,\n",
    "           1.9287e-22, 1.9287e-22, 1.9287e-22, 1.9287e-22, 1.9287e-22,\n",
    "           1.9287e-22, 1.9287e-22, 1.9287e-22, 1.9287e-22, 1.9287e-22,\n",
    "           1.9287e-22, 1.9287e-22, 1.9287e-22, 1.9287e-22, 1.9287e-22,\n",
    "           1.9287e-22, 1.9287e-22, 1.9287e-22, 1.9287e-22],\n",
    "          [1.9287e-22, 4.8822e-04, 6.8215e-04, 1.8075e-05, 1.9287e-22,\n",
    "           7.7690e-02, 9.9997e-01, 1.0000e+00, 1.0000e+00, 9.9877e-01,\n",
    "           9.9891e-01, 9.9247e-01, 1.9287e-22, 1.9287e-22, 1.9287e-22,\n",
    "           1.9287e-22, 1.9287e-22, 1.9287e-22, 1.9287e-22, 1.9287e-22,\n",
    "           1.9287e-22, 1.9287e-22, 1.9287e-22, 1.9287e-22, 1.9287e-22,\n",
    "           1.9287e-22, 1.9287e-22, 1.9287e-22, 1.9287e-22, 1.9287e-22,\n",
    "           1.9287e-22, 1.9287e-22, 1.9287e-22, 1.9287e-22],\n",
    "          [1.9287e-22, 1.9287e-22, 1.9287e-22, 1.9287e-22, 1.9287e-22,\n",
    "           1.9287e-22, 9.9612e-01, 1.0000e+00, 1.0000e+00, 1.0000e+00,\n",
    "           1.0000e+00, 1.0000e+00, 9.9999e-01, 9.9998e-01, 1.9287e-22,\n",
    "           1.9287e-22, 1.9287e-22, 1.9287e-22, 1.9287e-22, 1.9287e-22,\n",
    "           1.9287e-22, 1.9287e-22, 1.9287e-22, 1.9287e-22, 1.9287e-22,\n",
    "           1.9287e-22, 1.9287e-22, 1.9287e-22, 1.9287e-22, 1.9287e-22,\n",
    "           1.9287e-22, 1.9287e-22, 1.9287e-22, 1.9287e-22],\n",
    "          [1.9287e-22, 1.9287e-22, 1.9287e-22, 1.9287e-22, 1.9287e-22,\n",
    "           1.9287e-22, 3.9360e-01, 9.9996e-01, 1.0000e+00, 1.0000e+00,\n",
    "           1.0000e+00, 1.0000e+00, 1.0000e+00, 1.0000e+00, 1.9287e-22,\n",
    "           9.9914e-01, 1.9287e-22, 1.9287e-22, 1.9287e-22, 1.9287e-22,\n",
    "           1.9287e-22, 1.9287e-22, 1.9287e-22, 1.9287e-22, 1.9287e-22,\n",
    "           9.9983e-01, 9.5623e-01, 4.5889e-01, 4.5668e-02, 1.9287e-22,\n",
    "           1.9287e-22, 1.9287e-22, 1.9287e-22, 1.9287e-22],\n",
    "          [1.9287e-22, 1.9287e-22, 1.9287e-22, 1.9287e-22, 1.9287e-22,\n",
    "           8.6270e-05, 9.9161e-01, 1.0000e+00, 1.0000e+00, 1.0000e+00,\n",
    "           1.0000e+00, 1.0000e+00, 1.0000e+00, 1.0000e+00, 1.0000e+00,\n",
    "           1.0000e+00, 1.9287e-22, 1.9287e-22, 1.9287e-22, 1.9287e-22,\n",
    "           1.9287e-22, 1.9287e-22, 1.9287e-22, 1.9287e-22, 1.0000e+00,\n",
    "           1.0000e+00, 9.9325e-01, 9.2267e-01, 4.3677e-01, 5.7133e-01,\n",
    "           1.9287e-22, 1.9287e-22, 1.9287e-22, 1.9287e-22],\n",
    "          [1.9287e-22, 1.9287e-22, 1.9287e-22, 1.9287e-22, 1.9287e-22,\n",
    "           2.3612e-03, 9.6405e-01, 1.0000e+00, 1.0000e+00, 1.0000e+00,\n",
    "           1.0000e+00, 1.0000e+00, 1.0000e+00, 1.0000e+00, 1.0000e+00,\n",
    "           1.0000e+00, 1.9287e-22, 1.9287e-22, 1.9287e-22, 1.9287e-22,\n",
    "           1.9287e-22, 1.9287e-22, 1.9287e-22, 1.0000e+00, 1.0000e+00,\n",
    "           1.0000e+00, 9.9998e-01, 9.9515e-01, 9.9971e-01, 9.9998e-01,\n",
    "           1.9287e-22, 1.9287e-22, 1.9287e-22, 1.9287e-22],\n",
    "          [1.9287e-22, 1.9287e-22, 5.7133e-01, 6.1548e-01, 8.3760e-02,\n",
    "           1.1282e-01, 9.9653e-01, 1.0000e+00, 1.0000e+00, 1.0000e+00,\n",
    "           1.0000e+00, 1.0000e+00, 1.0000e+00, 1.0000e+00, 1.0000e+00,\n",
    "           1.0000e+00, 1.9287e-22, 1.9287e-22, 1.9287e-22, 1.9287e-22,\n",
    "           1.9287e-22, 1.9287e-22, 1.0000e+00, 1.0000e+00, 1.0000e+00,\n",
    "           1.0000e+00, 1.0000e+00, 1.0000e+00, 1.0000e+00, 1.0000e+00,\n",
    "           1.9287e-22, 1.0000e+00, 1.9287e-22, 1.9287e-22],\n",
    "          [1.9287e-22, 7.7690e-02, 7.5440e-01, 8.6859e-01, 2.2836e-01,\n",
    "           8.7932e-01, 9.9993e-01, 1.0000e+00, 1.0000e+00, 1.0000e+00,\n",
    "           1.0000e+00, 1.0000e+00, 1.0000e+00, 1.0000e+00, 1.0000e+00,\n",
    "           1.0000e+00, 1.0000e+00, 1.9287e-22, 1.9287e-22, 1.9287e-22,\n",
    "           1.0000e+00, 1.0000e+00, 1.0000e+00, 1.0000e+00, 1.0000e+00,\n",
    "           1.0000e+00, 1.0000e+00, 1.0000e+00, 1.0000e+00, 1.0000e+00,\n",
    "           1.0000e+00, 1.0000e+00, 1.0000e+00, 1.9287e-22],\n",
    "          [1.8366e-04, 8.6820e-03, 9.0727e-01, 9.2267e-01, 8.5711e-01,\n",
    "           9.9247e-01, 9.9993e-01, 1.0000e+00, 1.0000e+00, 1.0000e+00,\n",
    "           1.0000e+00, 1.0000e+00, 1.0000e+00, 1.0000e+00, 1.0000e+00,\n",
    "           1.0000e+00, 1.0000e+00, 1.9287e-22, 1.9287e-22, 1.9287e-22,\n",
    "           9.9995e-01, 1.0000e+00, 1.0000e+00, 1.0000e+00, 1.0000e+00,\n",
    "           1.0000e+00, 1.0000e+00, 1.0000e+00, 1.0000e+00, 1.0000e+00,\n",
    "           1.0000e+00, 1.0000e+00, 1.0000e+00, 1.9287e-22],\n",
    "          [3.9289e-07, 7.6228e-05, 6.5812e-01, 9.9891e-01, 9.9780e-01,\n",
    "           9.9914e-01, 1.0000e+00, 1.0000e+00, 1.0000e+00, 1.0000e+00,\n",
    "           1.0000e+00, 1.0000e+00, 1.0000e+00, 1.0000e+00, 1.0000e+00,\n",
    "           1.0000e+00, 1.0000e+00, 9.9983e-01, 1.9287e-22, 1.9287e-22,\n",
    "           1.0000e+00, 1.0000e+00, 1.0000e+00, 1.0000e+00, 1.0000e+00,\n",
    "           1.0000e+00, 1.0000e+00, 1.0000e+00, 1.0000e+00, 1.0000e+00,\n",
    "           1.0000e+00, 1.0000e+00, 1.0000e+00, 1.9287e-22],\n",
    "          [1.9287e-22, 2.6433e-08, 1.1758e-03, 9.9612e-01, 1.0000e+00,\n",
    "           1.0000e+00, 1.0000e+00, 1.0000e+00, 1.0000e+00, 1.0000e+00,\n",
    "           1.0000e+00, 1.0000e+00, 1.0000e+00, 1.0000e+00, 1.0000e+00,\n",
    "           1.0000e+00, 1.0000e+00, 1.0000e+00, 1.9287e-22, 1.9287e-22,\n",
    "           1.0000e+00, 1.0000e+00, 1.0000e+00, 1.0000e+00, 1.0000e+00,\n",
    "           1.0000e+00, 1.0000e+00, 1.0000e+00, 1.0000e+00, 1.0000e+00,\n",
    "           1.0000e+00, 1.0000e+00, 1.0000e+00, 9.9988e-01],\n",
    "          [1.9287e-22, 4.5668e-07, 4.9285e-02, 9.9932e-01, 1.0000e+00,\n",
    "           1.0000e+00, 1.0000e+00, 1.0000e+00, 1.0000e+00, 1.0000e+00,\n",
    "           1.0000e+00, 1.0000e+00, 9.9999e-01, 1.0000e+00, 9.9999e-01,\n",
    "           1.0000e+00, 1.0000e+00, 1.0000e+00, 9.9987e-01, 1.0000e+00,\n",
    "           1.0000e+00, 1.0000e+00, 1.0000e+00, 1.0000e+00, 1.0000e+00,\n",
    "           1.0000e+00, 1.0000e+00, 1.0000e+00, 1.0000e+00, 1.0000e+00,\n",
    "           1.0000e+00, 1.0000e+00, 1.0000e+00, 9.9958e-01],\n",
    "          [2.8385e-09, 2.7206e-03, 7.3654e-01, 9.9903e-01, 9.9891e-01,\n",
    "           9.9991e-01, 9.9999e-01, 1.0000e+00, 1.0000e+00, 1.0000e+00,\n",
    "           1.0000e+00, 1.0000e+00, 1.0000e+00, 1.0000e+00, 1.0000e+00,\n",
    "           1.0000e+00, 1.0000e+00, 1.0000e+00, 1.0000e+00, 1.0000e+00,\n",
    "           1.0000e+00, 1.0000e+00, 1.0000e+00, 1.0000e+00, 1.0000e+00,\n",
    "           1.0000e+00, 1.0000e+00, 1.0000e+00, 1.0000e+00, 1.0000e+00,\n",
    "           1.0000e+00, 1.0000e+00, 1.0000e+00, 1.0000e+00],\n",
    "          [9.3292e-07, 3.4602e-05, 6.3779e-04, 7.2043e-02, 9.6405e-01,\n",
    "           9.9987e-01, 9.9993e-01, 9.9999e-01, 1.0000e+00, 1.0000e+00,\n",
    "           1.0000e+00, 1.0000e+00, 1.0000e+00, 1.0000e+00, 1.0000e+00,\n",
    "           1.0000e+00, 1.0000e+00, 1.0000e+00, 1.0000e+00, 1.0000e+00,\n",
    "           1.0000e+00, 1.0000e+00, 1.0000e+00, 1.0000e+00, 1.0000e+00,\n",
    "           1.0000e+00, 1.0000e+00, 1.0000e+00, 1.0000e+00, 1.0000e+00,\n",
    "           1.0000e+00, 1.0000e+00, 1.0000e+00, 1.0000e+00],\n",
    "          [1.2552e-04, 2.4830e-02, 2.6015e-01, 9.0727e-01, 9.9988e-01,\n",
    "           1.0000e+00, 1.0000e+00, 9.9999e-01, 9.9958e-01, 1.0000e+00,\n",
    "           1.0000e+00, 1.0000e+00, 1.0000e+00, 1.0000e+00, 1.0000e+00,\n",
    "           1.0000e+00, 1.0000e+00, 1.0000e+00, 1.0000e+00, 1.0000e+00,\n",
    "           1.0000e+00, 1.0000e+00, 1.0000e+00, 1.0000e+00, 1.0000e+00,\n",
    "           1.0000e+00, 1.0000e+00, 1.0000e+00, 1.0000e+00, 1.0000e+00,\n",
    "           1.0000e+00, 1.9287e-22, 1.0000e+00, 1.0000e+00]])\n",
    "\n",
    "plt.imshow(a)\n",
    "plt.colorbar()"
   ]
  },
  {
   "cell_type": "code",
   "execution_count": 255,
   "id": "968436f0",
   "metadata": {},
   "outputs": [
    {
     "data": {
      "text/plain": [
       "[<matplotlib.lines.Line2D at 0x18105f7a8b0>]"
      ]
     },
     "execution_count": 255,
     "metadata": {},
     "output_type": "execute_result"
    },
    {
     "data": {
      "image/png": "[encoded data removed]",
      "text/plain": [
       "<Figure size 432x288 with 1 Axes>"
      ]
     },
     "metadata": {
      "needs_background": "light"
     },
     "output_type": "display_data"
    }
   ],
   "source": [
    "plt.plot(pv)"
   ]
  },
  {
   "cell_type": "code",
   "execution_count": 256,
   "id": "d1f49501",
   "metadata": {},
   "outputs": [
    {
     "data": {
      "text/plain": [
       "(0.0, 1.0)"
      ]
     },
     "execution_count": 256,
     "metadata": {},
     "output_type": "execute_result"
    },
    {
     "data": {
      "image/png": "[encoded data removed]",
      "text/plain": [
       "<Figure size 432x288 with 1 Axes>"
      ]
     },
     "metadata": {
      "needs_background": "light"
     },
     "output_type": "display_data"
    }
   ],
   "source": [
    "plt.scatter(np.arange(len(lv)), lv, s=1)\n",
    "plt.plot(labels_train)\n",
    "plt.ylim([0, 1])"
   ]
  },
  {
   "cell_type": "code",
   "execution_count": 258,
   "id": "d394739a",
   "metadata": {},
   "outputs": [
    {
     "data": {
      "text/plain": [
       "[<matplotlib.lines.Line2D at 0x18109b90d30>]"
      ]
     },
     "execution_count": 258,
     "metadata": {},
     "output_type": "execute_result"
    },
    {
     "data": {
      "image/png": "[encoded data removed]",
      "text/plain": [
       "<Figure size 432x288 with 1 Axes>"
      ]
     },
     "metadata": {
      "needs_background": "light"
     },
     "output_type": "display_data"
    }
   ],
   "source": [
    "#plt.ylim([-3, 3])\n",
    "plt.plot(ov[:100])"
   ]
  },
  {
   "cell_type": "code",
   "execution_count": null,
   "id": "0d6a0608",
   "metadata": {},
   "outputs": [],
   "source": [
    "for name, param in cnn.named_parameters():\n",
    "    print(name, param)"
   ]
  },
  {
   "cell_type": "code",
   "execution_count": 20,
   "id": "db8c299b",
   "metadata": {},
   "outputs": [
    {
     "name": "stdout",
     "output_type": "stream",
     "text": [
      "Test Accuracy of the model on the 22792 test images: 0.50\n"
     ]
    }
   ],
   "source": [
    "def test(test_data, labels_test):\n",
    "    # Test the model\n",
    "    cnn.eval()    \n",
    "    with torch.no_grad():\n",
    "        correct = 0\n",
    "        total = 0\n",
    "        tp = 0\n",
    "        fp = 0\n",
    "        fn = 0\n",
    "        tn = 0\n",
    "        for i in range(test_data.shape[2]):\n",
    "            image = test_data[:, :, i]\n",
    "            label = labels_test[i]\n",
    "            image = image.unsqueeze(0) \n",
    "            image = image.unsqueeze(0) \n",
    "            \n",
    "            test_output = cnn(image)\n",
    "            pred_y = test_output[0, 1].item()\n",
    "            \n",
    "            # 0 - 1 when cyclone is present\n",
    "            if (pred_y == label and label == 1):\n",
    "                tp += 1\n",
    "            # 1 - 0 when no cyclone is present\n",
    "            elif (pred_y == label and label == 0):\n",
    "                tn += 1\n",
    "            # 0 - 1 when no cyclone is present\n",
    "            elif (pred_y != label and label == 1):\n",
    "                fn += 1\n",
    "            # 1 - 0 when cyclone is present\n",
    "            elif (pred_y != label and label == 0):\n",
    "                fp += 1\n",
    "            pass\n",
    "        sensitivity = tp / (tp + fn)\n",
    "        specificity = tn / (fp + tn)\n",
    "        balanced_accuracy = (sensitivity + specificity) / 2\n",
    "        print(f'Test Accuracy of the model on the {test_data.shape[2]} test images: %.2f' % balanced_accuracy)\n",
    "    \n",
    "    pass\n",
    "test(test_data, labels_test)"
   ]
  },
  {
   "cell_type": "code",
   "execution_count": null,
   "id": "3d16e234",
   "metadata": {},
   "outputs": [],
   "source": []
  },
  {
   "cell_type": "code",
   "execution_count": null,
   "id": "04016890",
   "metadata": {},
   "outputs": [],
   "source": []
  }
 ],
 "metadata": {
  "kernelspec": {
   "display_name": "Python 3 (ipykernel)",
   "language": "python",
   "name": "python3"
  },
  "language_info": {
   "codemirror_mode": {
    "name": "ipython",
    "version": 3
   },
   "file_extension": ".py",
   "mimetype": "text/x-python",
   "name": "python",
   "nbconvert_exporter": "python",
   "pygments_lexer": "ipython3",
   "version": "3.8.13"
  }
 },
 "nbformat": 4,
 "nbformat_minor": 5
}
