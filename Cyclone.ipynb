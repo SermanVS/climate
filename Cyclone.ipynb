{
 "cells": [
  {
   "cell_type": "code",
   "execution_count": 26,
   "id": "70e0c2f0",
   "metadata": {},
   "outputs": [],
   "source": [
    "import numpy as np\n",
    "import pandas as pd\n",
    "import matplotlib.pyplot as plt\n",
    "import torch\n",
    "import torch.nn as nn\n",
    "from torch import optim\n",
    "from torch.autograd import Variable\n",
    "from tqdm import tqdm\n",
    "from torch.utils.data import DataLoader"
   ]
  },
  {
   "cell_type": "code",
   "execution_count": 2,
   "id": "3af38069",
   "metadata": {},
   "outputs": [],
   "source": [
    "cyclone_events = np.load('data/ERA5/ERA5_MSL_1982_2020_3h_0.75/cyclones_events.npz')\n",
    "closeness_w = np.load('data/ERA5/ERA5_MSL_1982_2020_3h_0.75/metrics_corr_land_masked_and_preproc_window_2d_delay_0d/probability_for_metrics/diff_metrics/network_metrics/closeness_w.npy')\n",
    "degree_w = np.load('data/ERA5/ERA5_MSL_1982_2020_3h_0.75/metrics_corr_land_masked_and_preproc_window_2d_delay_0d/probability_for_metrics/diff_metrics/network_metrics/degree_w.npy')\n",
    "EVC_w = np.load('data/ERA5/ERA5_MSL_1982_2020_3h_0.75/metrics_corr_land_masked_and_preproc_window_2d_delay_0d/probability_for_metrics/diff_metrics/network_metrics/EVC_w.npy')\n",
    "LCC_w = np.load('data/ERA5/ERA5_MSL_1982_2020_3h_0.75/metrics_corr_land_masked_and_preproc_window_2d_delay_0d/probability_for_metrics/diff_metrics/network_metrics/LCC_w.npy')\n",
    "MSLP_preproc = np.load('data/ERA5/ERA5_MSL_1982_2020_3h_0.75/metrics_corr_land_masked_and_preproc_window_2d_delay_0d/probability_for_metrics/input_data/MSLP_preproc.npy')"
   ]
  },
  {
   "cell_type": "code",
   "execution_count": 3,
   "id": "56c42c7b",
   "metadata": {},
   "outputs": [],
   "source": [
    "cyclone_events_2 = cyclone_events[cyclone_events.files[0]]\n",
    "cyclone_events_4 = cyclone_events[cyclone_events.files[1]]\n",
    "cyclone_events_6 = cyclone_events[cyclone_events.files[2]]\n",
    "cyclone_events_8 = cyclone_events[cyclone_events.files[3]]\n",
    "cyclone_events_10 = cyclone_events[cyclone_events.files[4]]\n",
    "cyclone_events_12 = cyclone_events[cyclone_events.files[5]]"
   ]
  },
  {
   "cell_type": "code",
   "execution_count": 4,
   "id": "91852abd",
   "metadata": {},
   "outputs": [
    {
     "data": {
      "text/plain": [
       "(36, 69, 113960)"
      ]
     },
     "execution_count": 4,
     "metadata": {},
     "output_type": "execute_result"
    }
   ],
   "source": [
    "cyclone_events_2.shape"
   ]
  },
  {
   "cell_type": "code",
   "execution_count": 5,
   "id": "d46b1215",
   "metadata": {},
   "outputs": [],
   "source": [
    "MSLP_preproc = np.reshape(MSLP_preproc, (36, 69, 113960))"
   ]
  },
  {
   "cell_type": "code",
   "execution_count": 6,
   "id": "fe91f49f",
   "metadata": {},
   "outputs": [],
   "source": [
    "labels = np.zeros(113960)\n",
    "\n",
    "for i in range(113960):\n",
    "    if len(cyclone_events_2[:, :, i][cyclone_events_2[:, :, i] != False]) > 0:\n",
    "        labels[i] = 1"
   ]
  },
  {
   "cell_type": "code",
   "execution_count": 7,
   "id": "ea3fa579",
   "metadata": {},
   "outputs": [
    {
     "data": {
      "text/plain": [
       "'\\ncyclone_occurances = []\\nno_cyclone = []\\nfor i in range(113960):\\n    if len(cyclone_events_2[:, :, i][cyclone_events_2[:, :, i] != False]) > 0:\\n        cyclone_occurances.append(i)\\n    else:\\n        no_cyclone.append(i)\\n        \\nimport random\\nrandom.shuffle(cyclone_occurances)\\nrandom.shuffle(no_cyclone)    \\n\\nf1 = open(\"shuffle_cyclone.csv\", \"w\")\\nf2 = open(\"shuffle_no_cyclone.csv\", \"w\")\\n[f1.write(str(item) + \\',\\') for item in cyclone_occurances]\\n[f2.write(str(item) + \\',\\') for item in no_cyclone]\\nf1.close()\\nf2.close()\\n'"
      ]
     },
     "execution_count": 7,
     "metadata": {},
     "output_type": "execute_result"
    }
   ],
   "source": [
    "'''\n",
    "cyclone_occurances = []\n",
    "no_cyclone = []\n",
    "for i in range(113960):\n",
    "    if len(cyclone_events_2[:, :, i][cyclone_events_2[:, :, i] != False]) > 0:\n",
    "        cyclone_occurances.append(i)\n",
    "    else:\n",
    "        no_cyclone.append(i)\n",
    "        \n",
    "import random\n",
    "random.shuffle(cyclone_occurances)\n",
    "random.shuffle(no_cyclone)    \n",
    "\n",
    "f1 = open(\"shuffle_cyclone.csv\", \"w\")\n",
    "f2 = open(\"shuffle_no_cyclone.csv\", \"w\")\n",
    "[f1.write(str(item) + ',') for item in cyclone_occurances]\n",
    "[f2.write(str(item) + ',') for item in no_cyclone]\n",
    "f1.close()\n",
    "f2.close()\n",
    "'''"
   ]
  },
  {
   "cell_type": "code",
   "execution_count": 8,
   "id": "363862bd",
   "metadata": {},
   "outputs": [],
   "source": [
    "data = MSLP_preproc.copy()"
   ]
  },
  {
   "cell_type": "code",
   "execution_count": 9,
   "id": "2f961a83",
   "metadata": {},
   "outputs": [],
   "source": [
    "cyclone_occurances = pd.read_csv(\"shuffle_cyclone.csv\", header=None)\n",
    "no_cyclone = pd.read_csv(\"shuffle_no_cyclone.csv\", header=None)\n",
    "\n",
    "np.nan_to_num(data, nan=0, copy=False)\n",
    "\n",
    "cyclone_occurances = cyclone_occurances.values[0]\n",
    "no_cyclone = no_cyclone.values[0]\n",
    "\n",
    "cut_cyclone = int(0.8 * len(cyclone_occurances))\n",
    "cut_no_cyclone = int(0.8 * len(no_cyclone))\n",
    "\n",
    "\n",
    "train_id = cyclone_occurances[:cut_cyclone].astype(int)\n",
    "train_id = np.append(train_id, no_cyclone[:cut_no_cyclone].astype(int))\n",
    "\n",
    "test_id = cyclone_occurances[cut_cyclone:-1].astype(int) \n",
    "test_id = np.append(test_id, no_cyclone[cut_no_cyclone:-1].astype(int))\n",
    "\n",
    "train_data = torch.tensor(data[:, :, train_id], dtype=torch.double)\n",
    "test_data = torch.tensor(data[:, :, test_id], dtype=torch.double)\n",
    "\n",
    "labels_train = torch.tensor(labels[train_id])\n",
    "labels_test = torch.tensor(labels[test_id])"
   ]
  },
  {
   "cell_type": "code",
   "execution_count": 10,
   "id": "2eaaf49c",
   "metadata": {},
   "outputs": [
    {
     "data": {
      "text/plain": [
       "<matplotlib.image.AxesImage at 0x21ec146e1c0>"
      ]
     },
     "execution_count": 10,
     "metadata": {},
     "output_type": "execute_result"
    },
    {
     "data": {
      "image/png": "[encoded data removed]",
      "text/plain": [
       "<Figure size 432x288 with 1 Axes>"
      ]
     },
     "metadata": {
      "needs_background": "light"
     },
     "output_type": "display_data"
    }
   ],
   "source": [
    "plt.imshow(data[:, :, 41000])"
   ]
  },
  {
   "cell_type": "code",
   "execution_count": 11,
   "id": "410f631c",
   "metadata": {},
   "outputs": [],
   "source": [
    "import math\n",
    "def conv2d_size_out(size, kernel_size=5, stride=2):\n",
    "    \"\"\"\n",
    "    common use case:\n",
    "    cur_layer_img_w = conv2d_size_out(cur_layer_img_w, kernel_size, stride)\n",
    "    cur_layer_img_h = conv2d_size_out(cur_layer_img_h, kernel_size, stride)\n",
    "    to understand the shape for dense layer's input\n",
    "    \"\"\"\n",
    "    return (size - (kernel_size - 1) - 1) // stride  + 1\n",
    "\n",
    "def maxpool2d_size_out(size, kernel_size=2, stride=2):\n",
    "    return math.floor((size - (kernel_size - 1) - 1) / stride + 1)"
   ]
  },
  {
   "cell_type": "code",
   "execution_count": 23,
   "id": "9104e1c9",
   "metadata": {},
   "outputs": [],
   "source": [
    "class CNN(nn.Module):\n",
    "    def __init__(self):\n",
    "        super(CNN, self).__init__()        \n",
    "        self.conv1 = nn.Sequential(         \n",
    "            nn.Conv2d(\n",
    "                in_channels=1,              \n",
    "                out_channels=36,            \n",
    "                kernel_size=5,          \n",
    "                stride=2),                              \n",
    "            nn.ReLU(),                      \n",
    "            nn.MaxPool2d(kernel_size=2),    \n",
    "        )\n",
    "        \n",
    "        new_w = maxpool2d_size_out(conv2d_size_out(36, 5, 2), 2, 2)\n",
    "        new_h = maxpool2d_size_out(conv2d_size_out(69, 5, 2), 2, 2)\n",
    "        \n",
    "        self.conv2 = nn.Sequential(         \n",
    "            nn.Conv2d(\n",
    "                in_channels=36,              \n",
    "                out_channels=72,            \n",
    "                kernel_size=5,          \n",
    "                stride=2),     \n",
    "            nn.ReLU(),                      \n",
    "            nn.MaxPool2d(2),                \n",
    "        )        \n",
    "        \n",
    "        new_w = maxpool2d_size_out(conv2d_size_out(new_w, 5, 2), 2, 2)\n",
    "        new_h = maxpool2d_size_out(conv2d_size_out(new_h, 5, 2), 2, 2)\n",
    "        linear_input_size = new_w * new_h * 72\n",
    "        # fully connected layer, output 10 classes\n",
    "        self.lin = nn.Linear(linear_input_size, 1) \n",
    "        self.out = nn.Sigmoid()\n",
    "    def forward(self, x):\n",
    "        x = self.conv1(x)\n",
    "        x = self.conv2(x)      \n",
    "        \n",
    "        # flatten the output of conv2 to (batch_size, 32 * 7 * 7)\n",
    "        x = x.view(x.size(0), -1)\n",
    "        x = self.lin(x)\n",
    "        output = self.out(x)\n",
    "        return output, x    \n",
    "        "
   ]
  },
  {
   "cell_type": "code",
   "execution_count": 41,
   "id": "d6a6ce0b",
   "metadata": {},
   "outputs": [],
   "source": [
    "cnn = CNN()\n",
    "loss_func = nn.CrossEntropyLoss() \n",
    "optimizer = optim.Adam(cnn.parameters(), lr = 0.01)  "
   ]
  },
  {
   "cell_type": "code",
   "execution_count": 49,
   "id": "02352553",
   "metadata": {},
   "outputs": [
    {
     "name": "stderr",
     "output_type": "stream",
     "text": [
      "100%|███████████████████████████████████████████████████████████████████████████| 91168/91168 [02:43<00:00, 559.00it/s]\n"
     ]
    }
   ],
   "source": [
    "num_epochs = 1\n",
    "\n",
    "def train(num_epochs, cnn, train_data, labels_train):  \n",
    "    cnn.train()\n",
    "    \n",
    "    cnn = cnn.double()\n",
    "        \n",
    "    # Train the model\n",
    "    batch_size = 1\n",
    "        \n",
    "    for epoch in range(num_epochs):\n",
    "        for i in tqdm(range(int(train_data.shape[2] / batch_size))):\n",
    "            \n",
    "            image = train_data[:, :, i]\n",
    "            label = labels_train[i]\n",
    "            \n",
    "            image = image.unsqueeze(0) \n",
    "            image = image.unsqueeze(0) \n",
    "            label = label.unsqueeze(0) \n",
    "            label = label.unsqueeze(0) \n",
    "            \n",
    "            # gives batch data, normalize x when iterate train_loader\n",
    "            b_x = Variable(image)   # batch x\n",
    "            b_y = Variable(label)   # batch y\n",
    "            output = cnn(b_x)[0]  \n",
    "            loss = loss_func(output, b_y)\n",
    "            # clear gradients for this training step   \n",
    "            optimizer.zero_grad()           \n",
    "            \n",
    "            # backpropagation, compute gradients \n",
    "            loss.backward()                # apply gradients             \n",
    "            optimizer.step()  \n",
    "        \n",
    "        pass\n",
    "    pass\n",
    "\n",
    "train(num_epochs, cnn, train_data, labels_train)"
   ]
  },
  {
   "cell_type": "code",
   "execution_count": 55,
   "id": "db8c299b",
   "metadata": {},
   "outputs": [
    {
     "name": "stdout",
     "output_type": "stream",
     "text": [
      "Test Accuracy of the model on the 22792 test images: 0.49\n"
     ]
    }
   ],
   "source": [
    "def test(test_data, labels_test):\n",
    "    # Test the model\n",
    "    cnn.eval()    \n",
    "    with torch.no_grad():\n",
    "        correct = 0\n",
    "        total = 0\n",
    "        tp = 0\n",
    "        fp = 0\n",
    "        fn = 0\n",
    "        tn = 0\n",
    "        for i in range(test_data.shape[2]):\n",
    "            image = test_data[:, :, i]\n",
    "            label = labels_test[i]\n",
    "            image = image.unsqueeze(0) \n",
    "            image = image.unsqueeze(0) \n",
    "            \n",
    "            test_output, last_layer = cnn(image)\n",
    "            pred_y = 0 if test_output[0] > 0.5 else 1\n",
    "            if (pred_y == label and label == 1):\n",
    "                tp += 1\n",
    "            elif (pred_y == label and label == 0):\n",
    "                tn += 1\n",
    "            elif (pred_y != label and label == 1):\n",
    "                fn += 1\n",
    "            elif (pred_y != label and label == 0):\n",
    "                fp += 1\n",
    "            pass\n",
    "        sensitivity = tp / (tp + fn)\n",
    "        specificity = tn / (fp + tn)\n",
    "        balanced_accuracy = (sensitivity + specificity) / 2\n",
    "        print(f'Test Accuracy of the model on the {test_data.shape[2]} test images: %.2f' % balanced_accuracy)\n",
    "    \n",
    "    pass\n",
    "test(test_data, labels_test)\n",
    "\n"
   ]
  },
  {
   "cell_type": "code",
   "execution_count": null,
   "id": "3d16e234",
   "metadata": {},
   "outputs": [],
   "source": []
  }
 ],
 "metadata": {
  "kernelspec": {
   "display_name": "Python 3 (ipykernel)",
   "language": "python",
   "name": "python3"
  },
  "language_info": {
   "codemirror_mode": {
    "name": "ipython",
    "version": 3
   },
   "file_extension": ".py",
   "mimetype": "text/x-python",
   "name": "python",
   "nbconvert_exporter": "python",
   "pygments_lexer": "ipython3",
   "version": "3.8.13"
  }
 },
 "nbformat": 4,
 "nbformat_minor": 5
}
